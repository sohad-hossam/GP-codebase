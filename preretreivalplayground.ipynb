{
 "cells": [
  {
   "cell_type": "code",
   "execution_count": 2,
   "metadata": {},
   "outputs": [],
   "source": [
    "from imports import *\n",
    "from PreProcessor import *\n",
    "import os\n",
    "import numpy as np"
   ]
  },
  {
   "cell_type": "code",
   "execution_count": 3,
   "metadata": {},
   "outputs": [],
   "source": [
    "\n",
    "CodeTokens = set()\n",
    "UCTokens = set()\n",
    "UC_Docuemnts = list()\n",
    "code_Documents = list()\n",
    "TotalTokens=set()\n",
    "entropy_uc = []\n",
    "entropy_code = []\n",
    "variance_uc = {}\n",
    "variance_code = {}\n",
    "SCQ_uc={}\n",
    "SCQ_code={}\n",
    "term_co_occurrences_uc = {}\n",
    "PMI_uc = {}\n",
    "term_co_occurrences_code= {}\n",
    "PMI_code = {}\n"
   ]
  },
  {
   "cell_type": "code",
   "execution_count": 4,
   "metadata": {},
   "outputs": [],
   "source": [
    "\n",
    "for filename in os.listdir(\"./UC\"):\n",
    "    filepath = os.path.join(\"./UC\", filename)\n",
    "    tokens = UCPreProcessor(filepath)\n",
    "    UC_Docuemnts.append(tokens)\n",
    "    UCTokens.update(tokens.split())\n",
    "\n",
    "\n",
    "for filename in os.listdir(\"./CC\"):\n",
    "    filepath = os.path.join(\"./CC\", filename)\n",
    "    tokens = CodePreProcessor(filepath)\n",
    "    code_Documents.append(tokens)\n",
    "    CodeTokens.update(tokens.split())\n",
    "\n"
   ]
  },
  {
   "cell_type": "code",
   "execution_count": 14,
   "metadata": {},
   "outputs": [
    {
     "name": "stdout",
     "output_type": "stream",
     "text": [
      "1.421385680931161\n"
     ]
    }
   ],
   "source": [
    "\n",
    "# Q, the set of query terms; q, a term in the query; D, the set of documents in the collection;\n",
    "# Dt, the set of documents containing term t\n",
    "# d, a document in the document collection D;\n",
    "# tf(t, D), the frequency of term t in all docs;\n",
    "# tf(t, d), the frequency of term t in d;\n",
    "# tf(t, Q), the frequency of term t in the query;\n",
    "# sim(di, dj), the cosine similarity between the vector-space representations of di and dj\n",
    "# idf(t) = log( |D|/|Dt|).\n",
    "# ictf(t) = log( |D|/tf(t,D) ).\n",
    "\n",
    "Dt_UC = {}\n",
    "\n",
    "for token in UCTokens:\n",
    "    thisTokenCount = 0\n",
    "    for document in UC_Docuemnts:\n",
    "        if token in document:\n",
    "            thisTokenCount += 1\n",
    "    Dt_UC[token] = thisTokenCount\n",
    "\n",
    "\n",
    "idf_UC = {}\n",
    "D_UC = len(UC_Docuemnts)\n",
    "\n",
    "for token in UCTokens:\n",
    "    idf_UC[token] = math.log(D_UC / Dt_UC[token])\n",
    "\n",
    "\n",
    "\n",
    "\n",
    "\n",
    "      \n",
    "\n",
    "\n",
    "\n",
    "\n"
   ]
  }
 ],
 "metadata": {
  "kernelspec": {
   "display_name": "base",
   "language": "python",
   "name": "python3"
  },
  "language_info": {
   "codemirror_mode": {
    "name": "ipython",
    "version": 3
   },
   "file_extension": ".py",
   "mimetype": "text/x-python",
   "name": "python",
   "nbconvert_exporter": "python",
   "pygments_lexer": "ipython3",
   "version": "3.11.5"
  }
 },
 "nbformat": 4,
 "nbformat_minor": 2
}
