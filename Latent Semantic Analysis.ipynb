{
 "cells": [
  {
   "cell_type": "code",
   "execution_count": 1,
   "metadata": {},
   "outputs": [
    {
     "name": "stdout",
     "output_type": "stream",
     "text": [
      "railo\n",
      "runtime\n",
      "sql\n",
      "exp\n",
      "op\n",
      "railo\n",
      "runtime\n",
      "sql\n",
      "exp\n",
      "Expression\n",
      "railo\n",
      "runtime\n",
      "sql\n",
      "exp\n",
      "Expression Support\n",
      "Operation\n",
      "Expression Support\n",
      "Operation\n",
      "Expression\n",
      "exp\n",
      "operator\n",
      "exp\n",
      "Expression\n",
      "get Exp\n",
      "exp\n",
      "operator\n",
      "get Operator\n",
      "operator\n",
      "Operation\n",
      "Expression\n",
      "exp\n",
      "operator\n",
      "exp\n",
      "exp\n",
      "operator\n",
      "operator\n",
      "String\n",
      "to String\n",
      "no Alias\n",
      "has Alias\n",
      "no Alias\n",
      "operator\n",
      "OPERATION\n",
      "IS\n",
      "NULL\n",
      "operator\n",
      "OPERATION\n",
      "IS\n",
      "NOT\n",
      "NULL\n",
      "exp\n",
      "to String\n",
      "true\n",
      "Operation\n",
      "to String\n",
      "operator\n",
      "Operation\n",
      "to String\n",
      "operator\n",
      "exp\n",
      "to String\n",
      "true\n",
      "to String\n",
      "true\n",
      "get Alias\n",
      "['railo', 'runtim', 'sql', 'exp', 'op', 'railo', 'runtim', 'sql', 'exp', 'express', 'railo', 'runtim', 'sql', 'exp', 'express', 'support', 'oper', 'express', 'support', 'oper', 'express', 'exp', 'oper', 'exp', 'express', 'get', 'exp', 'exp', 'oper', 'get', 'oper', 'oper', 'oper', 'express', 'exp', 'oper', 'exp', 'exp', 'oper', 'oper', 'string', 'to', 'string', 'no', 'alia', 'ha', 'alia', 'no', 'alia', 'oper', 'oper', 'is', 'null', 'oper', 'oper', 'is', 'not', 'null', 'exp', 'to', 'string', 'true', 'oper', 'to', 'string', 'oper', 'oper', 'to', 'string', 'oper', 'exp', 'to', 'string', 'true', 'to', 'string', 'true', 'get', 'alia']\n"
     ]
    }
   ],
   "source": [
    "from PreProcessor import *\n",
    "from sklearn.decomposition import TruncatedSVD\n",
    "import numpy as np"
   ]
  },
  {
   "cell_type": "code",
   "execution_count": 2,
   "metadata": {},
   "outputs": [
    {
     "ename": "NameError",
     "evalue": "name 'tfidf_useCases' is not defined",
     "output_type": "error",
     "traceback": [
      "\u001b[1;31m---------------------------------------------------------------------------\u001b[0m",
      "\u001b[1;31mNameError\u001b[0m                                 Traceback (most recent call last)",
      "Cell \u001b[1;32mIn[2], line 2\u001b[0m\n\u001b[0;32m      1\u001b[0m LSA_model \u001b[38;5;241m=\u001b[39m TruncatedSVD(n_components\u001b[38;5;241m=\u001b[39m\u001b[38;5;241m100\u001b[39m)\n\u001b[1;32m----> 2\u001b[0m LSA_data_useCases \u001b[38;5;241m=\u001b[39m LSA_model\u001b[38;5;241m.\u001b[39mfit_transform(tfidf_useCases)\n\u001b[0;32m      3\u001b[0m LSA_data_codes \u001b[38;5;241m=\u001b[39m LSA_model\u001b[38;5;241m.\u001b[39mfit_transform(tfidf_code)\n",
      "\u001b[1;31mNameError\u001b[0m: name 'tfidf_useCases' is not defined"
     ]
    }
   ],
   "source": [
    "LSA_model = TruncatedSVD(n_components=100)\n",
    "LSA_data_useCases = LSA_model.fit_transform(tfidf_useCases)\n",
    "LSA_data_codes = LSA_model.fit_transform(tfidf_code)\n",
    "\n",
    "# Sigma = lsa_obj.singular_values_\n",
    "# V_T = lsa_obj.components_.T"
   ]
  },
  {
   "cell_type": "code",
   "execution_count": 34,
   "metadata": {},
   "outputs": [
    {
     "name": "stdout",
     "output_type": "stream",
     "text": [
      "[[ 7.41619849 18.16590212]\n",
      " [ 7.41619849 18.16590212]\n",
      " [ 7.41619849 18.16590212]]\n",
      "[[29.24038303 29.24038303]\n",
      " [40.87786687 40.87786687]\n",
      " [44.66542287 44.66542287]]\n",
      "[[0.9453431  0.99778241]\n",
      " [0.94010268 0.99652116]\n",
      " [0.8845346  0.78630721]]\n"
     ]
    }
   ],
   "source": [
    "#usecases (100*usecases_nu)\n",
    "#code (100*codes_nu)\n",
    "#LSA_similraity_matrix (usecases_nu*codes_nu)\n",
    "#d1,d2,d3,d4\n",
    "#u1,u2,u3,u4\n",
    "#u1*d1,u1*d2,u1*d3 ...\n",
    "#d1*u1,d1*u2,d1*u3 ...\n",
    "#each row coresspond between the use cases and each document\n",
    "# [[d1*c1 d1*c2],[d2*c1 d2*c2]]\n",
    "\n",
    "LSA_data_codes=np.array([[1,2,3,4,5] , [6,7,8,9,10]])\n",
    "LSA_data_useCases=np.array([[11,12,13,14,15] , [16,17,18,19,21],[2,5,9,11,42]])\n",
    "\n",
    "LSA_data_codes_norm=np.repeat(np.linalg.norm(LSA_data_codes,axis=1),LSA_data_useCases.shape[0])\n",
    "LSA_data_useCases_norm=np.repeat(np.linalg.norm(LSA_data_useCases,axis=1),LSA_data_codes.shape[0])\n",
    "\n",
    "LSA_data_codes_norm=LSA_data_codes_norm.reshape(LSA_data_codes.shape[0],LSA_data_useCases.shape[0]).T \n",
    "LSA_data_useCases_norm=LSA_data_useCases_norm.reshape(LSA_data_useCases.shape[0],LSA_data_codes.shape[0])\n",
    "\n",
    "print(LSA_data_codes_norm)\n",
    "print(LSA_data_useCases_norm)\n",
    "\n",
    "LSA_similraity_matrix=np.dot(LSA_data_useCases,LSA_data_codes.T)/np.multiply(LSA_data_useCases_norm,LSA_data_codes_norm)\n",
    "\n",
    "print(LSA_similraity_matrix)"
   ]
  }
 ],
 "metadata": {
  "kernelspec": {
   "display_name": "base",
   "language": "python",
   "name": "python3"
  },
  "language_info": {
   "codemirror_mode": {
    "name": "ipython",
    "version": 3
   },
   "file_extension": ".py",
   "mimetype": "text/x-python",
   "name": "python",
   "nbconvert_exporter": "python",
   "pygments_lexer": "ipython3",
   "version": "3.11.5"
  }
 },
 "nbformat": 4,
 "nbformat_minor": 2
}
