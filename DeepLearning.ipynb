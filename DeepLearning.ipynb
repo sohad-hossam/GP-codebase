{
 "cells": [
  {
   "cell_type": "code",
   "execution_count": 1,
   "metadata": {},
   "outputs": [
    {
     "name": "stderr",
     "output_type": "stream",
     "text": [
      "c:\\Users\\basse\\anaconda3\\envs\\cuda_env\\lib\\site-packages\\tree_sitter\\__init__.py:36: FutureWarning: Language.build_library is deprecated. Use the new bindings instead.\n",
      "  warn(\"{} is deprecated. Use {} instead.\".format(old, new), FutureWarning)\n",
      "c:\\Users\\basse\\anaconda3\\envs\\cuda_env\\lib\\site-packages\\tree_sitter\\__init__.py:36: FutureWarning: Language(path, name) is deprecated. Use Language(ptr, name) instead.\n",
      "  warn(\"{} is deprecated. Use {} instead.\".format(old, new), FutureWarning)\n"
     ]
    }
   ],
   "source": [
    "from imports import *\n",
    "from PreProcessor import *\n",
    "\n",
    "_PreProcessor = PreProcessor()\n"
   ]
  },
  {
   "cell_type": "code",
   "execution_count": 2,
   "metadata": {},
   "outputs": [],
   "source": [
    "function_names_train,function_segments_train = _PreProcessor.setupDeepLearning(\"./dataset/teiid_dataset/train_CC\",'CC','train')\n",
    "descriptions_train, summaries_train = _PreProcessor.setupDeepLearning(\"./dataset/teiid_dataset/train_UC\",'UC','train')\n",
    "function_names_test,function_segments_test = _PreProcessor.setupDeepLearning(\"./dataset/teiid_dataset/test_CC\",'CC','test')\n",
    "descriptions_test, summaries_test = _PreProcessor.setupDeepLearning(\"./dataset/teiid_dataset/test_UC\",'UC','test')\n"
   ]
  },
  {
   "cell_type": "code",
   "execution_count": 3,
   "metadata": {},
   "outputs": [],
   "source": [
    "_PreProcessor.setUpUnknown(function_names_train,function_segments_train,'CC')\n",
    "_PreProcessor.setUpUnknown(descriptions_train,summaries_train,'UC')\n",
    "\n",
    "_PreProcessor.setUpUnknown(function_names_test,function_segments_test,'CC')\n",
    "_PreProcessor.setUpUnknown(descriptions_test,summaries_test,'UC')"
   ]
  },
  {
   "cell_type": "code",
   "execution_count": 5,
   "metadata": {},
   "outputs": [],
   "source": [
    "with open('./pickles/DeepLearning/function_names_train.pkl', 'wb') as f:\n",
    "       pickle.dump(function_names_train, f)\n",
    "with open('./pickles/DeepLearning/function_segments_train.pkl', 'wb') as f:\n",
    "        pickle.dump(function_segments_train, f)\n",
    "with open('./pickles/DeepLearning/descriptions_train.pkl', 'wb') as f:\n",
    "        pickle.dump(descriptions_train, f)\n",
    "with open('./pickles/DeepLearning/summaries_train.pkl', 'wb') as f:\n",
    "        pickle.dump(summaries_train, f)\n",
    "\n",
    "with open('./pickles/DeepLearning/Vocab.pkl', 'wb') as f:\n",
    "        pickle.dump(_PreProcessor.Vocab, f)\n",
    "\n",
    "with open('./pickles/DeepLearning/function_names_test.pkl', 'wb') as f:\n",
    "       pickle.dump(function_names_test, f)\n",
    "with open('./pickles/DeepLearning/function_segments_test.pkl', 'wb') as f:\n",
    "        pickle.dump(function_segments_test, f)\n",
    "with open('./pickles/DeepLearning/descriptions_test.pkl', 'wb') as f:\n",
    "        pickle.dump(descriptions_test, f)\n",
    "with open('./pickles/DeepLearning/summaries_test.pkl', 'wb') as f:\n",
    "        pickle.dump(summaries_test, f)"
   ]
  },
  {
   "cell_type": "code",
   "execution_count": 2,
   "metadata": {},
   "outputs": [],
   "source": [
    "function_names_train = np.load('./pickles/DeepLearning/function_names_train.pkl',allow_pickle=True)\n",
    "function_segments_train = np.load('./pickles/DeepLearning/function_segments_train.pkl',allow_pickle=True)\n",
    "descriptions_train = np.load('./pickles/DeepLearning/descriptions_train.pkl',allow_pickle=True)\n",
    "summaries_train = np.load('./pickles/DeepLearning/summaries_train.pkl',allow_pickle=True)\n",
    "vocab = np.load('./pickles/DeepLearning/Vocab.pkl',allow_pickle=True)\n",
    "function_names_test = np.load('./pickles/DeepLearning/function_names_test.pkl',allow_pickle=True)\n",
    "function_segments_test = np.load('./pickles/DeepLearning/function_segments_test.pkl',allow_pickle=True)\n",
    "descriptions_test = np.load('./pickles/DeepLearning/descriptions_test.pkl',allow_pickle=True)\n",
    "summaries_test = np.load('./pickles/DeepLearning/summaries_test.pkl',allow_pickle=True)\n"
   ]
  },
  {
   "cell_type": "code",
   "execution_count": 3,
   "metadata": {},
   "outputs": [],
   "source": [
    "CC_word2vec = _PreProcessor.word2VecProcessor(function_names_train, function_segments_train, 'CC')\n",
    "UC_word2vec = _PreProcessor.word2VecProcessor(summaries_train, descriptions_train, 'UC')\n",
    "# print(CC_word2vec)\n",
    "word2vec_model = Word2Vec(sentences = CC_word2vec + UC_word2vec, vector_size=200, window=5, min_count=1, workers=4, epochs=10)\n",
    "word2vec_model.save(\"./Dataset/teiid_dataset/UC_CC_WORD2VEC\")\n",
    "\n",
    "#word2vec_model.build_vocab(UC_word2vec, update=True)\n",
    "#word2vec_model.train(UC_word2vec, total_examples=word2vec_model.corpus_count, epochs=word2vec_model.epochs)\n",
    "\n",
    "# word2vec_model.save(\"./Dataset/teiid_dataset/UC_CC_WORD2VEC\")\n",
    "word2vec_model = Word2Vec.load(\"./Dataset/teiid_dataset/UC_CC_WORD2VEC\")\n",
    "\n",
    "word2vec_vocab = word2vec_model.wv.index_to_key\n",
    "\n",
    "# Initialize an empty embedding matrix\n",
    "embedding_matrix = np.zeros((len(word2vec_vocab) + 1, word2vec_model.vector_size))\n",
    "\n",
    "# Fill the embedding matrix with the embeddings of each word\n",
    "for i, word in enumerate(word2vec_vocab):\n",
    "    embedding_vector = word2vec_model.wv[word]\n",
    "    if embedding_vector is not None:\n",
    "        embedding_matrix[i + 1] = embedding_vector\n",
    "\n"
   ]
  },
  {
   "cell_type": "code",
   "execution_count": 8,
   "metadata": {},
   "outputs": [
    {
     "name": "stdout",
     "output_type": "stream",
     "text": [
      "6245\n"
     ]
    }
   ],
   "source": [
    "print(len(embedding_matrix))"
   ]
  },
  {
   "cell_type": "markdown",
   "metadata": {},
   "source": [
    "### Converting dataset to indices"
   ]
  },
  {
   "cell_type": "code",
   "execution_count": 9,
   "metadata": {},
   "outputs": [],
   "source": [
    "_PreProcessor.vocabToIndex(word2vec_vocab)\n",
    "_PreProcessor.dataSetToIndex(function_names_train,function_segments_train)\n",
    "_PreProcessor.dataSetToIndex(descriptions_train,summaries_train)\n",
    "\n",
    "_PreProcessor.dataSetToIndex(function_names_test,function_segments_test)\n",
    "_PreProcessor.dataSetToIndex(descriptions_test,summaries_test)"
   ]
  },
  {
   "cell_type": "code",
   "execution_count": 10,
   "metadata": {},
   "outputs": [],
   "source": [
    "x_train, labels = _PreProcessor.setUpLabels(function_names_train,function_segments_train,descriptions_train,summaries_train)"
   ]
  },
  {
   "cell_type": "code",
   "execution_count": 11,
   "metadata": {},
   "outputs": [],
   "source": [
    "with open('./pickles/DeepLearning/x_train.pkl', 'wb') as f:\n",
    "       pickle.dump(x_train, f)\n",
    "with open('./pickles/DeepLearning/labels.pkl', 'wb') as f:\n",
    "        pickle.dump(labels, f)"
   ]
  },
  {
   "cell_type": "code",
   "execution_count": 4,
   "metadata": {},
   "outputs": [],
   "source": [
    "x_train = np.load('./pickles/DeepLearning/x_train.pkl',allow_pickle=True)\n",
    "labels = np.load('./pickles/DeepLearning/labels.pkl',allow_pickle=True)\n"
   ]
  },
  {
   "cell_type": "code",
   "execution_count": 5,
   "metadata": {},
   "outputs": [],
   "source": [
    "class TracibilityLinkDataset(Dataset):\n",
    "\n",
    "    def __init__(self, x_train, y_train):\n",
    "        \n",
    "        self.tensor_x_train = x_train\n",
    "        self.tensor_y_train = torch.tensor(y_train)\n",
    "\n",
    "\n",
    "    # len and get item are very important --> used by dataloader\n",
    "    def __len__(self):\n",
    "        return len(self.tensor_y_train)\n",
    "\n",
    "    def __getitem__(self, idx):\n",
    "        return self.tensor_x_train[idx], self.tensor_y_train[idx]\n"
   ]
  },
  {
   "cell_type": "code",
   "execution_count": 6,
   "metadata": {},
   "outputs": [],
   "source": [
    "dataset_train = TracibilityLinkDataset(x_train, labels)\n"
   ]
  },
  {
   "cell_type": "code",
   "execution_count": 7,
   "metadata": {},
   "outputs": [],
   "source": [
    "# torch.save(dataset_train,'./dataset/teiid_dataset/DeepLearningDataset.pt')\n"
   ]
  },
  {
   "cell_type": "code",
   "execution_count": 8,
   "metadata": {},
   "outputs": [],
   "source": [
    "# dataset_train = torch.load('./dataset/teiid_dataset/DeepLearningDataset.pt')\n",
    "\n"
   ]
  },
  {
   "cell_type": "code",
   "execution_count": 9,
   "metadata": {},
   "outputs": [],
   "source": [
    "import torch.utils.checkpoint as checkpoint \n",
    "class DLModel(nn.Module):\n",
    "\n",
    "  def __init__(self,embedding_matrix : np.array, embedding_dim : tuple, classes: int = 2):\n",
    "      super(DLModel, self).__init__()\n",
    "\n",
    "      # first embedding layer: input size --> vocab size, output size --> feature vector of vocan size(one hot encoding), weigths --> one hot encoding\n",
    "      # matrix (vocab * vocab)\n",
    "      self.embedding = nn.Embedding(num_embeddings = embedding_dim[0], embedding_dim = embedding_dim[1], _weight = torch.tensor(embedding_matrix))\n",
    "      \n",
    "      # self-attention layer --> num_heads = 1, query, key, value will all be the input\n",
    "      self.attention_layer_UC = nn.MultiheadAttention(embed_dim=embedding_dim[1], num_heads=1, batch_first = True)\n",
    "      self.attention_layer_CC = nn.MultiheadAttention(embed_dim=embedding_dim[1], num_heads=1, batch_first = True)\n",
    "\n",
    "      self.conv_layer_2d =torch.nn.Conv2d(1, 1, kernel_size = (5,5), stride = (2,2))\n",
    "      \n",
    "      self.pool_layer_2d = torch.nn.AvgPool2d(kernel_size = (5,5), stride = (2, 2))\n",
    "      \n",
    "      self.cosine_similarity = torch.nn.CosineSimilarity(dim=1) # code = 1*2000*200 , req = code = 1*1000*200 \n",
    "\n",
    "\n",
    "  def forward(self, function_names, function_segments, descriptions, summaries ):\n",
    "\n",
    "    function_names_embeddings  = self.embedding(function_names)\n",
    "    function_segments_embeddings = self.embedding(function_segments)\n",
    "    descriptions_embedding  = self.embedding(descriptions)\n",
    "    summaries_embedding = self.embedding(summaries)\n",
    "\n",
    "    function_names_attention = self.attention_layer_CC(function_names_embeddings.float(),function_names_embeddings.float(),function_names_embeddings.float())\n",
    "\n",
    "    function_segments_attention = self.attention_layer_CC(function_segments_embeddings.float(),function_segments_embeddings.float(),function_segments_embeddings.float())\n",
    "   \n",
    "    descriptions_attention = self.attention_layer_UC(descriptions_embedding.float(),descriptions_embedding.float(),descriptions_embedding.float())\n",
    "\n",
    "    summaries_attention = self.attention_layer_UC(summaries_embedding.float(),summaries_embedding.float(),summaries_embedding.float())\n",
    "\n",
    "    concatenated_name_seg = torch.cat((function_names_attention[0], function_segments_attention[0]), dim = 1)\n",
    "\n",
    "    summaries_descrip_seg = torch.cat((descriptions_attention[0], summaries_attention[0]), dim = 1)\n",
    "\n",
    "    names_seg_conv = self.conv_layer_2d(concatenated_name_seg.unsqueeze(1))\n",
    "    # print(\"names_seg_conv.shape = \" , names_seg_conv.shape)\n",
    "\n",
    "    # summaries_descrip_conv = self.conv_layer_2d(summaries_descrip_seg.unsqueeze(1))\n",
    "    # print(\"summaries_descrip_seg.shape = \",summaries_descrip_seg.shape)\n",
    "\n",
    "    name_seg = self.pool_layer_2d (names_seg_conv)\n",
    "    # print(\"name_seg.shape = \" , name_seg.shape)\n",
    "\n",
    "    summaries_descrip_flatten = summaries_descrip_seg.view(summaries_descrip_seg.shape[0],-1)\n",
    "    name_seg_flatten = name_seg.view(name_seg.shape[0],-1) \n",
    "\n",
    "    # print(\"name_seg_flatten.shape = \" , name_seg_flatten.shape)\n",
    "    # print(\"summaries_descrip_flatten.shape = \" , summaries_descrip_flatten.shape)\n",
    "\n",
    "    num_repeats = (name_seg_flatten.shape[1] + summaries_descrip_flatten.shape[1] - 1) // summaries_descrip_flatten.shape[1] \n",
    "\n",
    "    #inreasing th size of the req document to be the same as the code documet to allow for cosine simiraity \n",
    "    summaries_descrip_flatten_tiled = summaries_descrip_flatten.repeat((1,num_repeats))\n",
    "    summaries_descrip_flatten_tiled_segmented = summaries_descrip_flatten_tiled[:,:name_seg_flatten.shape[1]]\n",
    "    # print(\"summaries_descrip_flatten_tiled.shape\",summaries_descrip_flatten_tiled_segmented.shape)\n",
    "\n",
    "    consine_sim_code_req = self.cosine_similarity(name_seg_flatten,summaries_descrip_flatten_tiled_segmented)\n",
    "\n",
    "    # summary_desc = self.pool_layer_2d (summaries_descrip_seg)\n",
    "    # print(\"summary_desc.shape = \",summary_desc.shape)\n",
    "\n",
    "    # print(torch.cuda.memory_reserved()/1024**3)\n",
    "    \n",
    "    # print(\"consine_sim_code_req.shape\", consine_sim_code_req.shape)\n",
    "    return consine_sim_code_req"
   ]
  },
  {
   "cell_type": "code",
   "execution_count": 10,
   "metadata": {},
   "outputs": [],
   "source": [
    "from torch.nn.utils.rnn import pad_sequence\n",
    "\n",
    "def customCollate(batch: list):\n",
    "    # batch --> tuple (x,y)\n",
    "    # x --> list of 4 lists\n",
    "    x_batch, y_batch = zip(*batch)\n",
    "\n",
    "    function_names, function_segments, descriptions , summaries = zip(*x_batch)\n",
    "\n",
    "    function_names_padded = pad_sequence(function_names, batch_first=True, padding_value=0)\n",
    "    function_segments_padded = pad_sequence(function_segments, batch_first=True, padding_value = 0)\n",
    "    descriptions_padded = pad_sequence(descriptions, batch_first=True, padding_value=0)\n",
    "    summaries_padded = pad_sequence(summaries, batch_first=True, padding_value = 0)\n",
    "\n",
    "    return  function_names_padded, function_segments_padded, descriptions_padded, summaries_padded, y_batch\n",
    "\n",
    "def train(model, train_dataset, batch_size=40, epochs=1, learning_rate=0.01):\n",
    "\n",
    "    # (1) create the dataloader of the training set IMPORTANT (make the shuffle=True)\n",
    "    train_dataloader = torch.utils.data.DataLoader(train_dataset, batch_size, collate_fn=customCollate)\n",
    "\n",
    "    # (2) make the criterion cross entropy loss\n",
    "    criterion = torch.nn.BCELoss() \n",
    "    optimizer = torch.optim.Adam(model.parameters(),lr=0.01)\n",
    "\n",
    "    use_cuda = torch.cuda.is_available()\n",
    "    device = torch.device(\"cuda\" if use_cuda else \"cpu\") \n",
    "    # device= \"cpu\"\n",
    "    if use_cuda:\n",
    "        model = model.cuda()\n",
    "        criterion = criterion.cuda()\n",
    "\n",
    "    # (3) create the optimizer (Adam)\n",
    "\n",
    "    for epoch_num in range(epochs):\n",
    "        total_acc_train = 0\n",
    "        total_loss_train = 0\n",
    "        n_samples = 0\n",
    "        batch_nu= 0\n",
    "        for function_names_padded, function_segments_padded, descriptions_padded, summaries_padded, y_batch in train_dataloader:\n",
    "            # torch.cuda.empty_cache()     \n",
    "            function_names_padded_tensor = torch.tensor(function_names_padded, device=device)\n",
    "            function_segments_padded_tensor = torch.tensor(function_segments_padded, device=device)\n",
    "            descriptions_padded_tensor = torch.tensor(descriptions_padded, device=device)\n",
    "            fsummaries_padded_tensor = torch.tensor(summaries_padded, device=device)\n",
    "            y_batch_tensor = torch.tensor(y_batch,dtype = torch.float32,device=device)\n",
    "\n",
    "            output = model.forward(function_names_padded_tensor, function_segments_padded_tensor, descriptions_padded_tensor, fsummaries_padded_tensor)\n",
    "            batch_nu += 1\n",
    "\n",
    "            # print(batch_nu)\n",
    "            \n",
    "            # torch.cuda.empty_cache()\n",
    "\n",
    "            # print(torch.cuda.memory_reserved()/1024**3)\n",
    "              \n",
    "\n",
    "            # (7) loss calculation (you need to think in this part how to calculate the loss correctly)\n",
    "            output_0_1 = torch.tensor((output > 0.5), dtype=torch.float32)\n",
    "            # print(type(output_0_1[0]))\n",
    "            # print(output_0_1)\n",
    "            # print(y_batch)\n",
    "            # print(type(y_batch[0]))\n",
    "\n",
    "            batch_loss = criterion(output_0_1, y_batch_tensor)\n",
    "            print(batch_loss)\n",
    "            #(8) append the batch loss to the total_loss_train\n",
    "\n",
    "            total_loss_train += batch_loss\n",
    "            \n",
    "    #       (9) calculate the batch accuracy (just add the number of correct predictions)\n",
    "            # print(output_0_1)\n",
    "            # print(y_batch)\n",
    "            n_true = sum((output_0_1 == y_batch))\n",
    "            n_samples += y_batch.size(0)\n",
    "            total_acc_train += n_true\n",
    "\n",
    "\n",
    "\n",
    "    #       (11) do the backward pass\n",
    "            batch_loss.backward()\n",
    "            nn.utils.clip_grad_norm_(model.parameters(), max_norm=1)\n",
    "\n",
    "    #       (12) update the weights with your optimizer\n",
    "            optimizer.step()\n",
    "            # (10) zero your gradients\n",
    "            optimizer.zero_grad()\n",
    "            \n",
    "\n",
    "            print(\"after forward = \" , torch.cuda.memory_reserved()/1024**3)\n",
    "\n",
    "    #   epoch loss\n",
    "        epoch_loss = total_loss_train / y_batch.size(0)\n",
    "\n",
    "    #   (13) calculate the accuracy\n",
    "        epoch_acc =100*total_acc_train/n_samples\n",
    "\n",
    "        print(\n",
    "           f'Epochs: {epoch_num + 1} | Train Loss: {epoch_loss} \\\n",
    "           | Train Accuracy: {epoch_acc}\\n')\n",
    "        break\n",
    "\n",
    "  ##############################################################################################################"
   ]
  },
  {
   "cell_type": "code",
   "execution_count": 11,
   "metadata": {},
   "outputs": [
    {
     "name": "stderr",
     "output_type": "stream",
     "text": [
      "C:\\Users\\basse\\AppData\\Local\\Temp\\ipykernel_25248\\2790269522.py:42: UserWarning: To copy construct from a tensor, it is recommended to use sourceTensor.clone().detach() or sourceTensor.clone().detach().requires_grad_(True), rather than torch.tensor(sourceTensor).\n",
      "  function_names_padded_tensor = torch.tensor(function_names_padded, device=device)\n",
      "C:\\Users\\basse\\AppData\\Local\\Temp\\ipykernel_25248\\2790269522.py:43: UserWarning: To copy construct from a tensor, it is recommended to use sourceTensor.clone().detach() or sourceTensor.clone().detach().requires_grad_(True), rather than torch.tensor(sourceTensor).\n",
      "  function_segments_padded_tensor = torch.tensor(function_segments_padded, device=device)\n",
      "C:\\Users\\basse\\AppData\\Local\\Temp\\ipykernel_25248\\2790269522.py:44: UserWarning: To copy construct from a tensor, it is recommended to use sourceTensor.clone().detach() or sourceTensor.clone().detach().requires_grad_(True), rather than torch.tensor(sourceTensor).\n",
      "  descriptions_padded_tensor = torch.tensor(descriptions_padded, device=device)\n",
      "C:\\Users\\basse\\AppData\\Local\\Temp\\ipykernel_25248\\2790269522.py:45: UserWarning: To copy construct from a tensor, it is recommended to use sourceTensor.clone().detach() or sourceTensor.clone().detach().requires_grad_(True), rather than torch.tensor(sourceTensor).\n",
      "  fsummaries_padded_tensor = torch.tensor(summaries_padded, device=device)\n",
      "C:\\Users\\basse\\AppData\\Local\\Temp\\ipykernel_25248\\2790269522.py:59: UserWarning: To copy construct from a tensor, it is recommended to use sourceTensor.clone().detach() or sourceTensor.clone().detach().requires_grad_(True), rather than torch.tensor(sourceTensor).\n",
      "  output_0_1 = torch.tensor((output > 0.5), dtype=torch.float32)\n"
     ]
    },
    {
     "name": "stdout",
     "output_type": "stream",
     "text": [
      "tensor(0., device='cuda:0')\n"
     ]
    },
    {
     "ename": "TypeError",
     "evalue": "'bool' object is not iterable",
     "output_type": "error",
     "traceback": [
      "\u001b[1;31m---------------------------------------------------------------------------\u001b[0m",
      "\u001b[1;31mTypeError\u001b[0m                                 Traceback (most recent call last)",
      "Cell \u001b[1;32mIn[11], line 2\u001b[0m\n\u001b[0;32m      1\u001b[0m model \u001b[38;5;241m=\u001b[39m DLModel(embedding_matrix, embedding_matrix\u001b[38;5;241m.\u001b[39mshape)\n\u001b[1;32m----> 2\u001b[0m \u001b[43mtrain\u001b[49m\u001b[43m(\u001b[49m\u001b[43mmodel\u001b[49m\u001b[43m,\u001b[49m\u001b[43m \u001b[49m\u001b[43mdataset_train\u001b[49m\u001b[43m)\u001b[49m\n",
      "Cell \u001b[1;32mIn[10], line 74\u001b[0m, in \u001b[0;36mtrain\u001b[1;34m(model, train_dataset, batch_size, epochs, learning_rate)\u001b[0m\n\u001b[0;32m     69\u001b[0m         total_loss_train \u001b[38;5;241m+\u001b[39m\u001b[38;5;241m=\u001b[39m batch_loss\n\u001b[0;32m     71\u001b[0m \u001b[38;5;66;03m#       (9) calculate the batch accuracy (just add the number of correct predictions)\u001b[39;00m\n\u001b[0;32m     72\u001b[0m         \u001b[38;5;66;03m# print(output_0_1)\u001b[39;00m\n\u001b[0;32m     73\u001b[0m         \u001b[38;5;66;03m# print(y_batch)\u001b[39;00m\n\u001b[1;32m---> 74\u001b[0m         n_true \u001b[38;5;241m=\u001b[39m \u001b[38;5;28;43msum\u001b[39;49m\u001b[43m(\u001b[49m\u001b[43m(\u001b[49m\u001b[43moutput_0_1\u001b[49m\u001b[43m \u001b[49m\u001b[38;5;241;43m==\u001b[39;49m\u001b[43m \u001b[49m\u001b[43my_batch\u001b[49m\u001b[43m)\u001b[49m\u001b[43m)\u001b[49m\n\u001b[0;32m     75\u001b[0m         n_samples \u001b[38;5;241m+\u001b[39m\u001b[38;5;241m=\u001b[39m y_batch\u001b[38;5;241m.\u001b[39msize(\u001b[38;5;241m0\u001b[39m)\n\u001b[0;32m     76\u001b[0m         total_acc_train \u001b[38;5;241m+\u001b[39m\u001b[38;5;241m=\u001b[39m n_true\n",
      "\u001b[1;31mTypeError\u001b[0m: 'bool' object is not iterable"
     ]
    }
   ],
   "source": [
    "model = DLModel(embedding_matrix, embedding_matrix.shape)\n",
    "train(model, dataset_train)\n"
   ]
  },
  {
   "cell_type": "code",
   "execution_count": null,
   "metadata": {},
   "outputs": [],
   "source": [
    "import gc\n",
    "gc.collect()"
   ]
  },
  {
   "cell_type": "code",
   "execution_count": null,
   "metadata": {},
   "outputs": [
    {
     "name": "stdout",
     "output_type": "stream",
     "text": [
      "tensor([ True, False,  True,  True])\n"
     ]
    }
   ],
   "source": [
    "t1=torch.tensor([1,1,0,1])\n",
    "t2=torch.tensor([1,0,0,1])\n",
    "print(t1==t2)"
   ]
  }
 ],
 "metadata": {
  "kernelspec": {
   "display_name": "base",
   "language": "python",
   "name": "python3"
  },
  "language_info": {
   "codemirror_mode": {
    "name": "ipython",
    "version": 3
   },
   "file_extension": ".py",
   "mimetype": "text/x-python",
   "name": "python",
   "nbconvert_exporter": "python",
   "pygments_lexer": "ipython3",
   "version": "3.9.19"
  }
 },
 "nbformat": 4,
 "nbformat_minor": 2
}
