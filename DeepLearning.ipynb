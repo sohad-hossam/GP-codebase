{
 "cells": [
  {
   "cell_type": "code",
   "execution_count": 1,
   "metadata": {},
   "outputs": [
    {
     "name": "stderr",
     "output_type": "stream",
     "text": [
      "c:\\Users\\basse\\anaconda3\\envs\\cuda_env\\lib\\site-packages\\tree_sitter\\__init__.py:36: FutureWarning: Language.build_library is deprecated. Use the new bindings instead.\n",
      "  warn(\"{} is deprecated. Use {} instead.\".format(old, new), FutureWarning)\n",
      "c:\\Users\\basse\\anaconda3\\envs\\cuda_env\\lib\\site-packages\\tree_sitter\\__init__.py:36: FutureWarning: Language(path, name) is deprecated. Use Language(ptr, name) instead.\n",
      "  warn(\"{} is deprecated. Use {} instead.\".format(old, new), FutureWarning)\n"
     ]
    }
   ],
   "source": [
    "from imports import *\n",
    "from PreProcessor import *\n",
    "\n",
    "_PreProcessor = PreProcessor()\n"
   ]
  },
  {
   "cell_type": "code",
   "execution_count": 2,
   "metadata": {},
   "outputs": [],
   "source": [
    "function_names_train,function_segments_train = _PreProcessor.setupDeepLearning(\"./dataset/teiid_dataset/train_CC\",'CC','train')\n",
    "descriptions_train, summaries_train = _PreProcessor.setupDeepLearning(\"./dataset/teiid_dataset/train_UC\",'UC','train')\n",
    "\n",
    "function_names_test,function_segments_test = _PreProcessor.setupDeepLearning(\"./dataset/teiid_dataset/test_CC\",'CC','test')\n",
    "descriptions_test, summaries_test = _PreProcessor.setupDeepLearning(\"./dataset/teiid_dataset/test_UC\",'UC','test')"
   ]
  },
  {
   "cell_type": "code",
   "execution_count": 3,
   "metadata": {},
   "outputs": [],
   "source": [
    "_PreProcessor.setUpUnknown(function_names_train,function_segments_train,'CC')\n",
    "_PreProcessor.setUpUnknown(descriptions_train,summaries_train,'UC')\n",
    "\n",
    "_PreProcessor.setUpUnknown(function_names_test,function_segments_test,'CC')\n",
    "_PreProcessor.setUpUnknown(descriptions_test,summaries_test,'UC')"
   ]
  },
  {
   "cell_type": "code",
   "execution_count": 4,
   "metadata": {},
   "outputs": [],
   "source": [
    "with open('./pickles/DeepLearning/function_names_train.pkl', 'wb') as f:\n",
    "       pickle.dump(function_names_train, f)\n",
    "with open('./pickles/DeepLearning/function_segments_train.pkl', 'wb') as f:\n",
    "        pickle.dump(function_segments_train, f)\n",
    "with open('./pickles/DeepLearning/descriptions_train.pkl', 'wb') as f:\n",
    "        pickle.dump(descriptions_train, f)\n",
    "with open('./pickles/DeepLearning/summaries_train.pkl', 'wb') as f:\n",
    "        pickle.dump(summaries_train, f)\n",
    "\n",
    "with open('./pickles/DeepLearning/Vocab.pkl', 'wb') as f:\n",
    "        pickle.dump(_PreProcessor.Vocab, f)\n",
    "\n",
    "with open('./pickles/DeepLearning/function_names_test.pkl', 'wb') as f:\n",
    "       pickle.dump(function_names_test, f)\n",
    "with open('./pickles/DeepLearning/function_segments_test.pkl', 'wb') as f:\n",
    "        pickle.dump(function_segments_test, f)\n",
    "with open('./pickles/DeepLearning/descriptions_test.pkl', 'wb') as f:\n",
    "        pickle.dump(descriptions_test, f)\n",
    "with open('./pickles/DeepLearning/summaries_test.pkl', 'wb') as f:\n",
    "        pickle.dump(summaries_test, f)"
   ]
  },
  {
   "cell_type": "code",
   "execution_count": 5,
   "metadata": {},
   "outputs": [],
   "source": [
    "function_names_train = np.load('./pickles/DeepLearning/function_names_train.pkl',allow_pickle=True)\n",
    "function_segments_train = np.load('./pickles/DeepLearning/function_segments_train.pkl',allow_pickle=True)\n",
    "descriptions_train = np.load('./pickles/DeepLearning/descriptions_train.pkl',allow_pickle=True)\n",
    "summaries_train = np.load('./pickles/DeepLearning/summaries_train.pkl',allow_pickle=True)\n",
    "vocab = np.load('./pickles/DeepLearning/Vocab.pkl',allow_pickle=True)\n",
    "function_names_test = np.load('./pickles/DeepLearning/function_names_test.pkl',allow_pickle=True)\n",
    "function_segments_test = np.load('./pickles/DeepLearning/function_segments_test.pkl',allow_pickle=True)\n",
    "descriptions_test = np.load('./pickles/DeepLearning/descriptions_test.pkl',allow_pickle=True)\n",
    "summaries_test = np.load('./pickles/DeepLearning/summaries_test.pkl',allow_pickle=True)"
   ]
  },
  {
   "cell_type": "markdown",
   "metadata": {},
   "source": [
    "### Converting dataset to indices"
   ]
  },
  {
   "cell_type": "code",
   "execution_count": 4,
   "metadata": {},
   "outputs": [],
   "source": [
    "_PreProcessor.vocabToIndex()\n",
    "_PreProcessor.dataSetToIndex(function_names_train,function_segments_train,'CC')\n",
    "_PreProcessor.dataSetToIndex(descriptions_train,summaries_train,'UC')\n",
    "\n",
    "_PreProcessor.dataSetToIndex(function_names_test,function_segments_test,'CC')\n",
    "_PreProcessor.dataSetToIndex(descriptions_test,summaries_test,'UC')"
   ]
  },
  {
   "cell_type": "code",
   "execution_count": 5,
   "metadata": {},
   "outputs": [],
   "source": [
    "x_train,labels = _PreProcessor.setUpLabels(function_names_train,function_segments_train,descriptions_train,summaries_train)\n"
   ]
  },
  {
   "cell_type": "code",
   "execution_count": 6,
   "metadata": {},
   "outputs": [
    {
     "name": "stdout",
     "output_type": "stream",
     "text": [
      "[[tensor([1]), tensor([1, 2]), tensor([3, 4]), tensor([1, 5]), tensor([6, 7, 8]), tensor([ 7,  9, 10, 11]), tensor([12, 13]), tensor([ 6, 14, 15, 13]), tensor([16, 17, 18]), tensor([19, 20, 21, 22]), tensor([23, 24]), tensor([25, 26, 18]), tensor([27, 28, 15, 13]), tensor([221,   5])], [tensor([29, 30, 31, 31, 29, 29, 30, 31, 32, 33, 34, 30, 31, 32,  1,  2, 35, 36,\n",
      "        35, 33, 34,  1,  2, 35,  5, 36, 35,  5, 37,  5, 36,  5, 36,  5,  1,  2,\n",
      "         2,  5, 38, 36, 39, 40, 41, 39, 40, 41, 39, 40, 41, 39, 29, 30, 31, 32,\n",
      "        36,  2, 36,  5, 33, 34, 30, 31, 32, 33, 34, 37,  2, 36,  2, 37,  2, 36,\n",
      "         5, 36,  2, 14, 13, 42]), tensor([ 1, 43,  5,  2, 35, 37,  5,  1,  5,  1,  5,  2,  5,  1,  5, 44, 45,  2,\n",
      "         5,  3, 46, 47,  1,  2,  2,  5,  3, 48, 46, 37,  5, 49, 50,  1,  5,  1,\n",
      "         5, 51, 52,  5, 53, 54, 55, 49, 50,  3, 56, 49, 50, 49, 50,  3, 56, 57,\n",
      "        58,  1,  2, 59, 56,  2,  5, 46,  5,  2,  5,  3, 56, 37,  5, 46,  1,  2,\n",
      "        46,  5,  2,  5,  3, 60,  5, 61, 60, 62, 49, 50, 63,  5, 46,  5,  3, 64,\n",
      "        65, 66,  2,  5,  3, 64, 65, 66, 46,  5,  3, 60,  5, 61, 60, 62, 46,  5,\n",
      "        64, 65, 67, 37,  5, 68, 46, 46,  3, 56, 68, 46, 49, 50, 24, 46, 68, 46,\n",
      "        49, 50, 24, 46, 46, 69, 35, 70,  5,  1,  5]), tensor([ 4, 71, 49]), tensor([37,  5, 36,  ...,  5, 36,  5]), tensor([ 80,  81,  18,  78,   3,  81,  18,  79,   4,  93,  94,   7,  81,  18,\n",
      "         15,   8,  93,  93,  94,  95,   8,  81,  18,  39, 320,  93, 320,  39,\n",
      "         93,   3,  15,  64,   8, 321,  39,  40,  41,  39,  40, 103, 104,  38,\n",
      "        320,  40, 103, 180,  57,  40, 103, 104,  38,  81,  18]), tensor([  3,  10, 322,   3,  10, 322,   3, 179, 113, 323, 179,  40,  41,  39,\n",
      "         40, 103, 104,  38,  40, 103, 180,  57,  40, 103, 104,  38,   3,  10,\n",
      "        322,   3,  81,  18]), tensor([ 13,  13,  13, 324,  12,  17,  79,   4,   8, 180,  96,  17, 325,  79,\n",
      "          4,  78,  93,  94,   8, 180,  96,   8,  40, 326, 327,  79,   4,  78,\n",
      "         93,  94,  12, 290,  79,   4,   8, 180,  96,   8,  40, 108, 105,  79,\n",
      "          4,  78,  93,  94,   8, 180,  96,   8,  40, 326, 327,  79,   4,  78,\n",
      "         93,  94,  12,  71, 175,  12,  71,  12,  17,  12, 290,  15,  91, 328,\n",
      "         13,   3,  15,  91, 328,  12,  17, 236, 237, 238, 236, 239,   3, 329,\n",
      "        330, 239,   3, 236,  79, 237, 238,  79, 236,   3,  79,   5,   3,  79,\n",
      "         18,  80,  15,  18,  79,   3,  15,  18, 331,  91, 332,  15,  18, 182,\n",
      "        332, 328,   3, 331,  91,  15,  18,   3, 328,  67, 325, 332, 332,  67,\n",
      "        325, 175,  12, 275, 239,   3,  12, 275,  86,  86,  86, 203, 175,   3,\n",
      "         86,  13,  86, 120,  80, 333,  17,  35,  80,  80, 334, 217,  86, 269,\n",
      "         86, 269, 333, 269,   3, 105,   3,  17,  72, 333,  17,  24, 269,   3,\n",
      "        105,   3,  17,  72,   3,  18, 175, 333,  17, 333,  17,  13, 224, 175,\n",
      "        175,  40,  78,  39, 208,  38, 102,  39,  40, 103, 104,  38, 208,  38,\n",
      "        335,  39,   3, 320,  40,  41,  39,  40,  41,  39,   3, 320,  13]), tensor([178,  70, 228, 202, 336,  81,  13,  80,  80,  79,  18,   5,   3,  79,\n",
      "         18,  13, 337,   5,   3,  13,  14,  81, 338,  21,  15, 339, 340, 341,\n",
      "         61, 205,  79, 141,  79,  18, 341,  61, 205, 342,  79, 141,  79,  18,\n",
      "        343,  78, 344, 343,  79,   3,  18, 141,  79,  18, 337,  40,  40,  40,\n",
      "         40, 337,  40,   3, 217,  40,   3,  90, 153,   5,  14,  13,   3, 337,\n",
      "        345,  51, 346, 347, 348, 229, 204, 162, 349,  54, 345, 144,   5,   3,\n",
      "         50,   5,   3,  50,   3,  60,   5,  61,  60, 125,   5,   3,  50,   3,\n",
      "         64,  65, 125, 127, 125, 127,  60, 148,  22,   5,   3,  50,   3, 301,\n",
      "         46,   5, 345,  45,   5,   5,   3,  50,  14,  13, 252, 337,   5, 345,\n",
      "          5,  65, 350, 159, 351,  14, 153,  65,   5,  65,   4,  14,   4,   3,\n",
      "        352,   5,  65,  14,  47,  65,  65, 350, 159, 351,  14, 153,  65,  65,\n",
      "          4,  14,   4,   3, 352,  65,  14,  47,  65,  14,  47, 345,  65,  14,\n",
      "         47,   5,  65,  65]), tensor([ 80,  17,  18,   5,   3,  17,  49,   3,  18, 299,   3,  17,  72,  18,\n",
      "         17,  18,  75,  72,  72, 299,   3,  20,  72,  72,  17,  72,  17,  72,\n",
      "         17,  18]), tensor([  5,   3,  17, 182,   5,  17,  72,  17,   5,   3,  17,  49, 341,  61,\n",
      "        205,  79, 141,  78,   3,  81,  18,  78,   3,  79,   4,  17,   3,  78,\n",
      "          4, 341,  61, 205, 342,  79, 141,  78,   3,  81,  18,  78,   3,  79,\n",
      "          4,  17,   3,  78,   4,   5,  20,  72,   5,   3,  64,   5,  61,  65,\n",
      "        115, 106,  75,  72, 353, 290, 251, 180, 251,  75,  17,  17,  78,  20,\n",
      "         72, 141, 353, 290,   5,   5,  64,   5,  61,  65, 115, 106, 353, 290,\n",
      "          5,   3,  50,   5,   3,  50,   3,  60,   5,  61,  60,  20,  50, 112,\n",
      "         20,  19, 115, 106, 354,   5,  20,   5, 107,  20,   5,   3,   4, 107,\n",
      "        108,  72,  20,  72,   5, 153,   5,  23,  24,   5,   5,   5,  64,   5,\n",
      "         61,  65, 115, 106,  20,  72, 107,  24,  46,   5, 107]), tensor([115,  75,   2,   5, 106,   5,   3,  64,   5,  61,  65, 115, 106,  36,\n",
      "          5,  75, 106, 201, 355, 347, 355,   5, 356, 347,   5,   3,  64,   5,\n",
      "         61,  65, 357, 356,  36,   5, 355,   5, 356, 355,   5, 356, 347, 355,\n",
      "          5, 182, 347,   5,   3,  64,   5,  61,  65, 357, 182,  36,   5, 355,\n",
      "          5, 182, 355,   5, 182, 347, 355, 134, 153, 356, 347,   5,   3,  64,\n",
      "          5,  61,  65, 357, 134, 356,  36,   5, 355, 134, 153, 356, 355, 134,\n",
      "        153, 356, 347, 355, 134, 125, 201, 347,   5,   3,  64,   5,  61,  65,\n",
      "        357, 134, 125, 201,  36,   5, 355, 134, 125, 201, 355, 134, 125, 201,\n",
      "        347, 355, 125, 201, 347,   5,   3,  64,   5,  61,  65, 357, 125, 201,\n",
      "         36,   5, 355, 125, 201, 355, 125, 201,  36,   5]), tensor([358, 241, 184,  18,  77,  79,   4,   5,   3,  64,   5,  61,  65,  79,\n",
      "          4,  79,   4,  79,   4, 343,  78,   4,  13, 177, 155,  79,   4, 177,\n",
      "        155,  13,   3,  79,   4,  13, 178,  13, 359, 122,  17,  72,  17,  17,\n",
      "        203, 175,   3,  17,  13,  45,  17,  72,  17,  17,  49,  79,   4,  78,\n",
      "          3,  79,   4,  17,   3,  78,   4,  80, 360,  18,  78,   3,  81,  18,\n",
      "         79,   4, 153,   5,  79,  18, 360,  18, 153,   5,  79,   4,  79,   4,\n",
      "        153,   5, 361,  77,   5,   3,  64,  65, 361,  15,  40,  78,  39,  40,\n",
      "         41,  39,  40, 103, 104,  38,  40, 103, 180,  57,  40, 103, 104,  38]), tensor([105, 163,  13, 177, 155, 177, 155, 223, 177, 155,  13, 332, 351, 362,\n",
      "        223,   3, 351,  87, 362,  49, 332, 351, 362, 362,  49, 362,   3, 351,\n",
      "         60, 332, 351,  78,  28,  15,  75, 362,   3,  78,   4, 105,  15, 362,\n",
      "          3, 105, 362, 271, 362,  67,  15,  61,  61,  15, 163,  15,  13,  73,\n",
      "         73, 223,  73,  13, 223,   3,  76, 182,  75,  72, 250, 223,   3,  76,\n",
      "          3,  77,  78,   4, 250,   3,  78,   4,  78,  28,  15,  75,  78,   4,\n",
      "        105,  15, 105, 223,   3,  87,   3, 223,   3,  76, 271, 223,   3,  87,\n",
      "        271, 163,  15,  13, 114,  13,  90,  90, 198,  90, 114,  13,  13,   3,\n",
      "         90, 244,  90, 244,  90, 363, 244,  90, 363,   3, 130, 105,  75,  72,\n",
      "         75,  72, 364,  75,  72, 363,   3, 130, 105,  78,  28,  15,  75, 364,\n",
      "          3,  78,   4, 174, 175, 365,  61, 363,   3, 132, 105, 163, 163, 141,\n",
      "        363,   3, 132, 105,  61,  61, 163, 363,   3, 132, 105, 163]), tensor([ 93, 175,   7, 223, 105, 223, 224, 175,  93, 175, 225, 221,   5, 223])], tensor([1191, 4974, 1538,  380,  412, 1756, 4595,    0,  181,  516, 3304,  182,\n",
      "        4098,  380, 4976, 2254,  478, 4977,  380, 3541, 2091, 4978, 1308,  380,\n",
      "         495, 4976, 2254,  358,  380,  456,  462,    0, 1914,  380, 3541,    0,\n",
      "        2234,  354, 2123, 4981, 3304, 1598, 1583,  909,  170, 2235,  456,  375,\n",
      "         827, 2123,   39]), tensor([ 170,  456, 2123,  526,  380, 3572])] 0\n"
     ]
    }
   ],
   "source": [
    "print(x_train[0],labels[0] )"
   ]
  },
  {
   "cell_type": "code",
   "execution_count": 11,
   "metadata": {},
   "outputs": [],
   "source": [
    "class TracibilityLinkDataset(Dataset):\n",
    "\n",
    "    def __init__(self, x_train, y_train):\n",
    "\n",
    "        # # getting the max number of funtions in a file along all files\n",
    "        # #getting the longest name of a function along all functions in all files\n",
    "        # max_number_function = max(len(_) for _ in x_train_function_names)\n",
    "        # max_function_name_len = max(len(function) for file in x_train_function_names for function in file)\n",
    "\n",
    "        # #getting the longest segment of a function along all functions in all files\n",
    "        # max_function_segment_len = max(len(function) for file in x_train_function_segments for function in file)\n",
    "\n",
    "        # x_train_function_names_padded = [file + [[]] * (max_number_function - len(file)) for file in x_train_function_names]\n",
    "        # x_train_function_names_padded = [function + [vocab_size+1] * (max_number_function - len(function)) for file in x_train_function_names_padded for function in file]\n",
    "        \n",
    "        # # convert it to a tensor to be used in model\n",
    "        # self.tensor_x_train_function_names_padded = torch.tensor(x_train_function_names_padded)\n",
    "        \n",
    "        self.tensor_x_train=x_train\n",
    "        self.tensor_y_train = torch.tensor(y_train)\n",
    "\n",
    "\n",
    "    # len and get item are very important --> used by dataloader\n",
    "    def __len__(self):\n",
    "        return len(self.tensor_x_train)\n",
    "\n",
    "    def __getitem__(self, idx):\n",
    "        return self.tensor_x_train[idx], self.tensor_y_train[idx]\n"
   ]
  },
  {
   "cell_type": "code",
   "execution_count": 16,
   "metadata": {},
   "outputs": [],
   "source": [
    "dataset_train = TracibilityLinkDataset(x_train, labels)\n",
    "torch.save(dataset_train,'./dataset/teiid_dataset/DeepLearningDataset.pt')"
   ]
  }
 ],
 "metadata": {
  "kernelspec": {
   "display_name": "base",
   "language": "python",
   "name": "python3"
  },
  "language_info": {
   "codemirror_mode": {
    "name": "ipython",
    "version": 3
   },
   "file_extension": ".py",
   "mimetype": "text/x-python",
   "name": "python",
   "nbconvert_exporter": "python",
   "pygments_lexer": "ipython3",
   "version": "3.9.19"
  }
 },
 "nbformat": 4,
 "nbformat_minor": 2
}
