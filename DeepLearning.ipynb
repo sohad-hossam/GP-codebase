{
 "cells": [
  {
   "cell_type": "code",
   "execution_count": 1,
   "metadata": {},
   "outputs": [],
   "source": [
    "from imports import *\n",
    "from PreProcessor import *\n",
    "\n",
    "_PreProcessor = PreProcessor()\n"
   ]
  },
  {
   "cell_type": "code",
   "execution_count": 2,
   "metadata": {},
   "outputs": [],
   "source": [
    "function_names_train,function_segments_train = _PreProcessor.setupDeepLearning(\"./dataset/teiid_dataset/train_CC\",'CC','train')\n",
    "descriptions_train, summaries_train = _PreProcessor.setupDeepLearning(\"./dataset/teiid_dataset/train_UC\",'UC','train')\n",
    "function_names_test,function_segments_test = _PreProcessor.setupDeepLearning(\"./dataset/teiid_dataset/test_CC\",'CC','test')\n",
    "descriptions_test, summaries_test = _PreProcessor.setupDeepLearning(\"./dataset/teiid_dataset/test_UC\",'UC','test')\n"
   ]
  },
  {
   "cell_type": "code",
   "execution_count": 3,
   "metadata": {},
   "outputs": [],
   "source": [
    "_PreProcessor.setUpUnknown(function_names_train,function_segments_train,'CC')\n",
    "_PreProcessor.setUpUnknown(descriptions_train,summaries_train,'UC')\n",
    "\n",
    "_PreProcessor.setUpUnknown(function_names_test,function_segments_test,'CC')\n",
    "_PreProcessor.setUpUnknown(descriptions_test,summaries_test,'UC')"
   ]
  },
  {
   "cell_type": "code",
   "execution_count": 4,
   "metadata": {},
   "outputs": [],
   "source": [
    "with open('./pickles/DeepLearning/function_names_train.pkl', 'wb') as f:\n",
    "       pickle.dump(function_names_train, f)\n",
    "with open('./pickles/DeepLearning/function_segments_train.pkl', 'wb') as f:\n",
    "        pickle.dump(function_segments_train, f)\n",
    "with open('./pickles/DeepLearning/descriptions_train.pkl', 'wb') as f:\n",
    "        pickle.dump(descriptions_train, f)\n",
    "with open('./pickles/DeepLearning/summaries_train.pkl', 'wb') as f:\n",
    "        pickle.dump(summaries_train, f)\n",
    "\n",
    "with open('./pickles/DeepLearning/Vocab.pkl', 'wb') as f:\n",
    "        pickle.dump(_PreProcessor.Vocab, f)\n",
    "\n",
    "with open('./pickles/DeepLearning/function_names_test.pkl', 'wb') as f:\n",
    "       pickle.dump(function_names_test, f)\n",
    "with open('./pickles/DeepLearning/function_segments_test.pkl', 'wb') as f:\n",
    "        pickle.dump(function_segments_test, f)\n",
    "with open('./pickles/DeepLearning/descriptions_test.pkl', 'wb') as f:\n",
    "        pickle.dump(descriptions_test, f)\n",
    "with open('./pickles/DeepLearning/summaries_test.pkl', 'wb') as f:\n",
    "        pickle.dump(summaries_test, f)"
   ]
  },
  {
   "cell_type": "code",
   "execution_count": 5,
   "metadata": {},
   "outputs": [],
   "source": [
    "function_names_train = np.load('./pickles/DeepLearning/function_names_train.pkl',allow_pickle=True)\n",
    "function_segments_train = np.load('./pickles/DeepLearning/function_segments_train.pkl',allow_pickle=True)\n",
    "descriptions_train = np.load('./pickles/DeepLearning/descriptions_train.pkl',allow_pickle=True)\n",
    "summaries_train = np.load('./pickles/DeepLearning/summaries_train.pkl',allow_pickle=True)\n",
    "vocab = np.load('./pickles/DeepLearning/Vocab.pkl',allow_pickle=True)\n",
    "function_names_test = np.load('./pickles/DeepLearning/function_names_test.pkl',allow_pickle=True)\n",
    "function_segments_test = np.load('./pickles/DeepLearning/function_segments_test.pkl',allow_pickle=True)\n",
    "descriptions_test = np.load('./pickles/DeepLearning/descriptions_test.pkl',allow_pickle=True)\n",
    "summaries_test = np.load('./pickles/DeepLearning/summaries_test.pkl',allow_pickle=True)"
   ]
  },
  {
   "cell_type": "code",
   "execution_count": 6,
   "metadata": {},
   "outputs": [],
   "source": [
    "CC_word2vec = _PreProcessor.word2VecProcessor(function_names_train, function_segments_train, 'CC')\n",
    "UC_word2vec = _PreProcessor.word2VecProcessor(summaries_train, descriptions_train, 'UC')\n",
    "\n",
    "word2vec_model = Word2Vec(sentences = CC_word2vec+UC_word2vec, vector_size=200, window=5, min_count=1, workers=4, epochs=10)\n",
    "word2vec_model.save(\"./Dataset/teiid_dataset/UC_CC_WORD2VEC\")\n",
    "\n",
    "#word2vec_model.build_vocab(UC_word2vec, update=True)\n",
    "#word2vec_model.train(UC_word2vec, total_examples=word2vec_model.corpus_count, epochs=word2vec_model.epochs)\n",
    "\n",
    "# word2vec_model.save(\"./Dataset/teiid_dataset/UC_CC_WORD2VEC\")\n",
    "word2vec_model = Word2Vec.load(\"./Dataset/teiid_dataset/UC_CC_WORD2VEC\")\n",
    "\n",
    "word2vec_vocab = word2vec_model.wv.index_to_key\n",
    "\n",
    "# Initialize an empty embedding matrix\n",
    "embedding_matrix = np.zeros((len(word2vec_vocab) + 1, word2vec_model.vector_size))\n",
    "\n",
    "# Fill the embedding matrix with the embeddings of each word\n",
    "for i, word in enumerate(word2vec_vocab):\n",
    "    embedding_vector = word2vec_model.wv[word]\n",
    "    if embedding_vector is not None:\n",
    "        embedding_matrix[i + 1] = embedding_vector\n",
    "\n"
   ]
  },
  {
   "cell_type": "markdown",
   "metadata": {},
   "source": [
    "### Converting dataset to indices"
   ]
  },
  {
   "cell_type": "code",
   "execution_count": 7,
   "metadata": {},
   "outputs": [],
   "source": [
    "_PreProcessor.vocabToIndex(word2vec_vocab)\n",
    "_PreProcessor.dataSetToIndex(function_names_train,function_segments_train,'CC')\n",
    "_PreProcessor.dataSetToIndex(descriptions_train,summaries_train,'UC')\n",
    "\n",
    "_PreProcessor.dataSetToIndex(function_names_test,function_segments_test,'CC')\n",
    "_PreProcessor.dataSetToIndex(descriptions_test,summaries_test,'UC')"
   ]
  },
  {
   "cell_type": "code",
   "execution_count": 8,
   "metadata": {},
   "outputs": [],
   "source": [
    "x_train, labels = _PreProcessor.setUpLabels(function_names_train,function_segments_train,descriptions_train,summaries_train)"
   ]
  },
  {
   "cell_type": "code",
   "execution_count": 9,
   "metadata": {},
   "outputs": [],
   "source": [
    "with open('./pickles/DeepLearning/x_train.pkl', 'wb') as f:\n",
    "       pickle.dump(x_train, f)\n",
    "with open('./pickles/DeepLearning/labels.pkl', 'wb') as f:\n",
    "        pickle.dump(labels, f)"
   ]
  },
  {
   "cell_type": "code",
   "execution_count": 10,
   "metadata": {},
   "outputs": [],
   "source": [
    "x_train = np.load('./pickles/DeepLearning/x_train.pkl',allow_pickle=True)\n",
    "labels = np.load('./pickles/DeepLearning/labels.pkl',allow_pickle=True)"
   ]
  },
  {
   "cell_type": "code",
   "execution_count": 11,
   "metadata": {},
   "outputs": [],
   "source": [
    "class TracibilityLinkDataset(Dataset):\n",
    "\n",
    "    def __init__(self, x_train, y_train):\n",
    "\n",
    "        # # getting the max number of funtions in a file along all files\n",
    "        # #getting the longest name of a function along all functions in all files\n",
    "        # max_number_function = max(len(_) for _ in x_train_function_names)\n",
    "        # max_function_name_len = max(len(function) for file in x_train_function_names for function in file)\n",
    "\n",
    "        # #getting the longest segment of a function along all functions in all files\n",
    "        # max_function_segment_len = max(len(function) for file in x_train_function_segments for function in file)\n",
    "\n",
    "        # x_train_function_names_padded = [file + [[]] * (max_number_function - len(file)) for file in x_train_function_names]\n",
    "        # x_train_function_names_padded = [function + [vocab_size+1] * (max_number_function - len(function)) for file in x_train_function_names_padded for function in file]\n",
    "        \n",
    "        # # convert it to a tensor to be used in model\n",
    "        # self.tensor_x_train_function_names_padded = torch.tensor(x_train_function_names_padded)\n",
    "        \n",
    "        self.tensor_x_train = x_train\n",
    "        self.tensor_y_train = torch.tensor(y_train)\n",
    "\n",
    "\n",
    "    # len and get item are very important --> used by dataloader\n",
    "    def __len__(self):\n",
    "        return len(self.tensor_y_train)\n",
    "\n",
    "    def __getitem__(self, idx):\n",
    "        return self.tensor_x_train[idx], self.tensor_y_train[idx]\n"
   ]
  },
  {
   "cell_type": "code",
   "execution_count": 12,
   "metadata": {},
   "outputs": [],
   "source": [
    "dataset_train = TracibilityLinkDataset(x_train, labels)\n",
    "torch.save(dataset_train,'./dataset/teiid_dataset/DeepLearningDataset.pt')"
   ]
  },
  {
   "cell_type": "code",
   "execution_count": 13,
   "metadata": {},
   "outputs": [],
   "source": [
    "dataset_train = torch.load('./dataset/teiid_dataset/DeepLearningDataset.pt')"
   ]
  },
  {
   "cell_type": "code",
   "execution_count": 14,
   "metadata": {},
   "outputs": [],
   "source": [
    "class DLModel(nn.Module):\n",
    "\n",
    "  def __init__(self,embedding_matrix : np.array, embedding_dim : tuple, classes: int = 2):\n",
    "      super(DLModel, self).__init__()\n",
    "\n",
    "      # first embedding layer: input size --> vocab size, output size --> feature vector of vocan size(one hot encoding), weigths --> one hot encoding\n",
    "      # matrix (vocab * vocab)\n",
    "      self.embedding = nn.Embedding(num_embeddings = embedding_dim[0], embedding_dim = embedding_dim[1], _weight = torch.tensor(embedding_matrix))\n",
    "      \n",
    "      # self-attention layer --> num_heads = 1, query, key, value will all be the input\n",
    "      self.attention_layer = nn.MultiheadAttention(embed_dim=embedding_dim[1], num_heads=1, batch_first = True)\n",
    "\n",
    "      # softmax ?\n",
    "      # self.linear = nn.Linear(2 * hidden_size_layer_chars, classes, bias=True)\n",
    "\n",
    "  def forward(self, function_names, function_segments, descriptions, summaries ):\n",
    "    function_names_embeddings = list()\n",
    "    for i, file in enumerate(function_names): \n",
    "          function_names_embeddings.append(self.embedding(function_names[i]))\n",
    "    # function_segments_embeddings = self.embedding(function_segments)\n",
    "\n",
    "    descriptions_embedding  = self.embedding(descriptions)\n",
    "    summaries_embedding = self.embedding(summaries)\n",
    "    \n",
    "    print(len(function_names_embeddings))\n",
    "    # print(function_segments_embeddings.shape)\n",
    "    print(descriptions_embedding.shape)\n",
    "    print(summaries_embedding.shape)\n",
    "\n",
    "      \n",
    "\n",
    "\n",
    "\n",
    "\n",
    "\n",
    "    # feature_vector = self.embedding_words(sentences) # sentences * words *253\n",
    "\n",
    "    # feature_vector = feature_vector.to(dtype=torch.float)\n",
    "    # lstm_output = self.lstm_layer_words(feature_vector) # sentences * words *200\n",
    "    # #print(lstm_output[0].shape)  \n",
    "    # # looping over lstm_output to remove unwanted feature vectors\n",
    "    # no_of_sentences, length_of_sentence, feature_vector_size = lstm_output[0].shape\n",
    "    # lstm_output_words= lstm_output[0]\n",
    "    # lstm_output_words_2d=lstm_output_words.reshape(-1,lstm_output_words.shape[2])\n",
    "    # #print(lstm_output_words_2d.shape)\n",
    "    # embedding_char_output_4d=self.embedding_char(words)  # sentences * words * chars * one hot encoding for each char\n",
    "    # #words * chars * one hot encoding for each char\n",
    "    # embedding_char_output_3d=embedding_char_output_4d.reshape(-1,embedding_char_output_4d.shape[2],embedding_char_output_4d.shape[3])\n",
    "    # #print(embedding_char_output_3d.shape)\n",
    "\n",
    "    # #print(lstm_output_words_2d[0]) # words*hot encoding vector\n",
    "    # embedding_char_output_3d_concatenated=np.zeros((embedding_char_output_3d.shape[0],embedding_char_output_3d.shape[1],embedding_char_output_3d.shape[2]+lstm_output_words_2d.shape[1]))\n",
    "\n",
    "    # # for word in range(len(lstm_output_words_2d)):\n",
    "    # #        for chars in range(len(embedding_char_output_3d[word])):\n",
    "    # #print(lstm_output_words_2d.shape)\n",
    "    # lstm_output_words_2d=lstm_output_words_2d.detach().numpy()\n",
    "\n",
    "    # lstm_output_words_2d = np.repeat(lstm_output_words_2d, repeats=embedding_char_output_3d.shape[1], axis=0)\n",
    "    # #print(lstm_output_words_2d.shape)\n",
    "\n",
    "    # lstm_output_words_2d=lstm_output_words_2d.reshape(lstm_output_words_2d.shape[0]//embedding_char_output_3d.shape[1],embedding_char_output_3d.shape[1],lstm_output_words_2d.shape[1])\n",
    "    # #print(lstm_output_words_2d.shape)\n",
    "\n",
    "    # embedding_char_output_3d_concatenated = np.append(embedding_char_output_3d.detach().numpy(),lstm_output_words_2d,axis=2)  # Append along rows\n",
    "\n",
    "    # embedding_char_output_3d_concatenated = torch.tensor(embedding_char_output_3d_concatenated)\n",
    "    # #print(embedding_char_output_3d_concatenated.shape)\n",
    "\n",
    "    # embedding_char_output_3d_concatenated = embedding_char_output_3d_concatenated.to(dtype=torch.float)\n",
    "    # #lstm_output_intermediate = self.intermediate_lstm_layer(embedding_char_output_3d_concatenated)\n",
    "    # #print(embedding_char_output_3d_concatenated.shape)\n",
    "    # lstm_output_char = self.lstm_layer_char(embedding_char_output_3d_concatenated)\n",
    "    # final_output = self.linear(lstm_output_char[0])  # words * 13 char * 15 classs\n",
    "\n",
    "    return None"
   ]
  },
  {
   "cell_type": "code",
   "execution_count": 21,
   "metadata": {},
   "outputs": [],
   "source": [
    "from torch.nn.utils.rnn import pad_sequence\n",
    "import copy\n",
    "\n",
    "def customCollate(batch: list):\n",
    "    # batch --> tuple (x,y)\n",
    "    # x --> list of 4 lists\n",
    "    x_batch, y_batch = zip(*batch)\n",
    "\n",
    "    function_names, function_segments, descriptions , summaries = zip(*x_batch)\n",
    "    function_names_padded = list(copy.deepcopy(function_names))\n",
    "    function_segments_padded = list(copy.deepcopy(function_segments))\n",
    "\n",
    "    # function_names -> batch_size * num_of_functions * len(function)\n",
    "    # max_function_names_2nd_dim = max(len(file) for file in function_names)\n",
    "    max_function_names_3rd_dim = max(len(name) for file in function_names for name in file)\n",
    "\n",
    "    # function_names_padded = [file + [[]] * (max_function_names_2nd_dim - len(file)) for file in function_names]\n",
    "    for i, file in enumerate(function_names_padded): \n",
    "        for j, function in enumerate(file):\n",
    "            function_names_padded[i][j].extend([0] * (max_function_names_3rd_dim - len(function)))\n",
    "            # function_names_padded[i][j] = torch.tensor(function_names_padded[i][j])\n",
    "        function_names_padded[i] = torch.tensor(function_names_padded[i])\n",
    "\n",
    "    # max_function_segments_2nd_dim = max(len(file) for file in function_segments)\n",
    "    max_function_segments_3rd_dim = max(len(name) for file in function_segments for name in file)\n",
    "\n",
    "    # function_segments_padded = [file + [[]] * (max_function_segments_2nd_dim - len(file)) for file in function_segments]\n",
    "    for i, file in enumerate(function_segments): \n",
    "        for j, function in enumerate(file):\n",
    "            function_segments_padded[i][j].extend([0] * (max_function_segments_3rd_dim - len(function)))\n",
    "            # function_segments_padded[i][j] = torch.tensor(function_segments_padded[i][j])\n",
    "        function_segments_padded[i] = torch.tensor(function_segments_padded[i])\n",
    "            \n",
    "    descriptions_padded = pad_sequence(descriptions, batch_first=True, padding_value=0)\n",
    "    summaries_padded = pad_sequence(summaries, batch_first=True, padding_value = 0)\n",
    "\n",
    "    \n",
    "    return function_names_padded, function_segments_padded, descriptions_padded, summaries_padded, y_batch\n",
    "\n",
    "def train(model, train_dataset, batch_size=200, epochs=1, learning_rate=0.01):\n",
    "\n",
    "    # (1) create the dataloader of the training set (make the shuffle=True)\n",
    "    train_dataloader = torch.utils.data.DataLoader(train_dataset, batch_size, collate_fn=customCollate)\n",
    "\n",
    "    # (2) make the criterion cross entropy loss\n",
    "    criterion = torch.nn.CrossEntropyLoss() \n",
    "    optimizer = torch.optim.Adam(model.parameters(),lr=0.01)\n",
    "\n",
    "\n",
    "    # (3) create the optimizer (Adam)\n",
    "\n",
    "    for epoch_num in range(epochs):\n",
    "        total_acc_train = 0\n",
    "        total_loss_train = 0\n",
    "        n_samples = 0\n",
    "        batch_num = 0\n",
    "        for function_names_padded, function_segments_padded, descriptions_padded, summaries_padded, y_batch in train_dataloader:\n",
    "\n",
    "    #         # (6) do the forward pass\n",
    "\n",
    "              output = model.forward(function_names_padded, function_segments_padded, descriptions_padded, summaries_padded)\n",
    "              batch_num+=1\n",
    "              print(batch_num)\n",
    "              break\n",
    "              \n",
    "            \n",
    "    #         # (7) loss calculation (you need to think in this part how to calculate the loss correctly)\n",
    "    #         # label: batch_size * 253 * 13\n",
    "    #         # output: 25300 word * 13 char * 15 \n",
    "    #         # k2eny fket el array l words msh sentence of words\n",
    "\n",
    "    #         # batch_loss = criterion(output.view(-1, output.size(2)), train_label.view(-1))\n",
    "\n",
    "    #         # # (8) append the batch loss to the total_loss_train\n",
    "\n",
    "    #         # total_loss_train += batch_loss\n",
    "            \n",
    "    #         # # (9) calculate the batch accuracy (just add the number of correct predictions)\n",
    "    #         # _,predicted=torch.max(output,2)  #512 * 104  for every word in every sentence we choose one tag form the seventen tag \n",
    "    #         # acc=(predicted==train_label.view(-1, train_label.shape[2])).sum().item()\n",
    "    #         # n_samples += train_label.size(0)*train_label.size(1)*train_label.size(2)\n",
    "    #         # total_acc_train += acc\n",
    "    #         # print(100*total_acc_train/n_samples)\n",
    "\n",
    "    #         # # (10) zero your gradients\n",
    "    #         # optimizer.zero_grad()\n",
    "\n",
    "    #         # # (11) do the backward pass\n",
    "    #         # batch_loss.backward()\n",
    "    #         # nn.utils.clip_grad_norm_(model.parameters(), max_norm=1)\n",
    "\n",
    "    #         # # (12) update the weights with your optimizer\n",
    "    #         # optimizer.step()\n",
    "    #     # epoch loss\n",
    "    #     # epoch_loss = total_loss_train / len(train_dataset)\n",
    "\n",
    "    #     # # (13) calculate the accuracy\n",
    "    #     # epoch_acc =100*total_acc_train/n_samples\n",
    "\n",
    "    #     # print(\n",
    "    #     #     f'Epochs: {epoch_num + 1} | Train Loss: {epoch_loss} \\\n",
    "    #     #     | Train Accuracy: {epoch_acc}\\n')\n",
    "        break\n",
    "\n",
    "  ##############################################################################################################"
   ]
  },
  {
   "cell_type": "code",
   "execution_count": 22,
   "metadata": {},
   "outputs": [],
   "source": [
    "model = DLModel(embedding_matrix, embedding_matrix.shape)"
   ]
  },
  {
   "cell_type": "code",
   "execution_count": 17,
   "metadata": {},
   "outputs": [],
   "source": [
    "# print(one_hot_embedding.shape)"
   ]
  },
  {
   "cell_type": "code",
   "execution_count": 23,
   "metadata": {},
   "outputs": [
    {
     "name": "stdout",
     "output_type": "stream",
     "text": [
      "200\n",
      "torch.Size([200, 51, 200])\n",
      "torch.Size([200, 6, 200])\n",
      "1\n"
     ]
    }
   ],
   "source": [
    "train(model, dataset_train)\n",
    "# print(len(labels), len(x_train))"
   ]
  },
  {
   "cell_type": "code",
   "execution_count": null,
   "metadata": {},
   "outputs": [
    {
     "name": "stdout",
     "output_type": "stream",
     "text": [
      "[[[1, 2, 3, 0], [4, 5, 0, 0], [0, 0, 0, 0]], [[7, 8, 0, 0], [9, 10, 11, 0], [12, 13, 14, 15]]]\n"
     ]
    }
   ],
   "source": [
    "sequences_3d = [\n",
    "    [[1, 2, 3], [4, 5]],\n",
    "    [[7, 8], [9, 10, 11], [12, 13, 14, 15]]\n",
    "]\n",
    "\n",
    "max_function_names_2nd_dim = max(len(file) for file in sequences_3d)\n",
    "max_function_names_3rd_dim = max(len(name) for file in sequences_3d for name in file)\n",
    "\n",
    "function_segments_padded_2nd_dim = [file + [[]] * (max_function_names_2nd_dim - len(file)) for file in sequences_3d]\n",
    "for i, file in enumerate(function_segments_padded_2nd_dim): \n",
    "    for j, function in enumerate(file):\n",
    "        function_segments_padded_2nd_dim[i][j].extend([0] * (max_function_names_3rd_dim - len(function)))\n",
    "\n",
    "print(function_segments_padded_2nd_dim)"
   ]
  }
 ],
 "metadata": {
  "kernelspec": {
   "display_name": "base",
   "language": "python",
   "name": "python3"
  },
  "language_info": {
   "codemirror_mode": {
    "name": "ipython",
    "version": 3
   },
   "file_extension": ".py",
   "mimetype": "text/x-python",
   "name": "python",
   "nbconvert_exporter": "python",
   "pygments_lexer": "ipython3",
   "version": "3.11.5"
  }
 },
 "nbformat": 4,
 "nbformat_minor": 2
}
