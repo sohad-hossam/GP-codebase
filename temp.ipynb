{
 "cells": [
  {
   "cell_type": "code",
   "execution_count": 1,
   "metadata": {},
   "outputs": [],
   "source": [
    "from DLScript import *"
   ]
  },
  {
   "cell_type": "code",
   "execution_count": 2,
   "metadata": {},
   "outputs": [
    {
     "name": "stdout",
     "output_type": "stream",
     "text": [
      "4\n"
     ]
    },
    {
     "name": "stderr",
     "output_type": "stream",
     "text": [
      "100%|██████████| 1/1 [00:00<00:00,  3.50it/s]"
     ]
    },
    {
     "name": "stdout",
     "output_type": "stream",
     "text": [
      "tensor([1, 1, 1, 0])\n",
      "positive_labels 3\n",
      "75.0\n"
     ]
    },
    {
     "name": "stderr",
     "output_type": "stream",
     "text": [
      "\n"
     ]
    }
   ],
   "source": [
    "embedding_matrix = np.load('Script pickles/embedding_matrix.pkl', allow_pickle=True)\n",
    "word2vec_vocab = np.load('Script pickles/word2vec_vocab.pkl', allow_pickle=True)\n",
    "dl_obj = DLScript('Script pickles/LSTM_3projects_3Linearlayers_10epochs.pth', word2vec_vocab, embedding_matrix, embedding_matrix.shape, 4000, 2000)\n",
    "\n",
    "UC_file = ''\n",
    "with open('Dataset/errai_dataset/test_UC/ERRAI-259.txt', 'r') as file:\n",
    "    UC_file = file.read()\n",
    "\n",
    "dl_obj.UseCaseSourceFileScript('Dataset/errai_dataset/test_CC/588.java', UC_file)\n",
    "\n",
    "# print(word2vec_vocab)"
   ]
  }
 ],
 "metadata": {
  "kernelspec": {
   "display_name": "base",
   "language": "python",
   "name": "python3"
  },
  "language_info": {
   "codemirror_mode": {
    "name": "ipython",
    "version": 3
   },
   "file_extension": ".py",
   "mimetype": "text/x-python",
   "name": "python",
   "nbconvert_exporter": "python",
   "pygments_lexer": "ipython3",
   "version": "3.11.5"
  }
 },
 "nbformat": 4,
 "nbformat_minor": 2
}
