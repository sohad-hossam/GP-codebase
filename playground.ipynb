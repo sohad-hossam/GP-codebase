{
 "cells": [
  {
   "cell_type": "code",
   "execution_count": 1,
   "metadata": {},
   "outputs": [],
   "source": [
    "from VSM import *\n",
    "from FeatureExtraction import *\n",
    "import pandas as pd\n",
    "from statistics import stdev\n",
    "from dask.distributed import Client, progress\n",
    "import dask.array \n",
    "import gc"
   ]
  },
  {
   "cell_type": "code",
   "execution_count": 2,
   "metadata": {},
   "outputs": [],
   "source": [
    "_PreProcessor = PreProcessor()\n",
    "UC_documents, code_documents, UCTokens, CodeTokens = _PreProcessor.setup(\n",
    "            \"./UC\", \"./CC\"\n",
    "        )\n",
    "UCTokens.update(CodeTokens)"
   ]
  },
  {
   "cell_type": "code",
   "execution_count": null,
   "metadata": {},
   "outputs": [],
   "source": [
    "# num_components = min(tfidf_matrix_uc.shape[0], tfidf_matrix_code.shape[1])\n",
    "# num_components = min(num_components, 100)\n",
    "# LSA_model = TruncatedSVD(n_components=num_components)\n",
    "\n",
    "# # if train_or_test == \"train\":\n",
    "# LSA_data_useCases = LSA_model.fit_transform(tfidf_matrix_uc)\n",
    "# LSA_data_codes = LSA_model.fit_transform(tfidf_matrix_code) \n",
    "# # else:\n",
    "# #     LSA_data_useCases = LSA_model.transform(tfidf_matrix_uc)\n",
    "# #     LSA_data_codes = LSA_model.transform(tfidf_matrix_code) \n",
    "\n",
    "# LSA_similraity_matrix = cosine_similarity(LSA_data_useCases, LSA_data_codes)\n",
    "# print(LSA_similraity_matrix)"
   ]
  },
  {
   "cell_type": "code",
   "execution_count": null,
   "metadata": {},
   "outputs": [],
   "source": [
    "# test = FeatureExtraction()\n",
    "# test.LSA(tfidf_matrix_uc, tfidf_matrix_code, \"train\")"
   ]
  },
  {
   "cell_type": "code",
   "execution_count": null,
   "metadata": {},
   "outputs": [],
   "source": [
    "#usecases (100*usecases_nu)\n",
    "#code (100*codes_nu)\n",
    "#LSA_similraity_matrix (usecases_nu*codes_nu)\n",
    "#d1,d2,d3,d4\n",
    "#u1,u2,u3,u4\n",
    "#u1*d1,u1*d2,u1*d3 ...\n",
    "#d1*u1,d1*u2,d1*u3 ...\n",
    "#each row coresspond between the use cases and each document\n",
    "# [[d1*c1 d1*c2],[d2*c1 d2*c2]]\n",
    "\n",
    "# LSA_data_codes=np.array([[1,2,3,4,5] , [6,7,8,9,10]])\n",
    "# LSA_data_useCases=np.array([[11,12,13,14,15] , [16,17,18,19,21],[2,5,9,11,42]])\n",
    "\n",
    "# LSA_data_codes_norm=np.repeat(np.linalg.norm(LSA_data_codes,axis=1),LSA_data_useCases.shape[0])\n",
    "# LSA_data_useCases_norm=np.repeat(np.linalg.norm(LSA_data_useCases,axis=1),LSA_data_codes.shape[0])\n",
    "\n",
    "# LSA_data_codes_norm=LSA_data_codes_norm.reshape(LSA_data_codes.shape[0],LSA_data_useCases.shape[0]).T \n",
    "# LSA_data_useCases_norm=LSA_data_useCases_norm.reshape(LSA_data_useCases.shape[0],LSA_data_codes.shape[0])\n",
    "\n",
    "# print(LSA_data_codes_norm)\n",
    "# print(LSA_data_useCases_norm)\n",
    "\n",
    "# LSA_similraity_matrix=cosine_similarity(LSA_data_useCases, LSA_data_codes)\n",
    "\n",
    "# print(LSA_similraity_matrix)"
   ]
  },
  {
   "cell_type": "markdown",
   "metadata": {},
   "source": [
    "## Jensen-Shannon"
   ]
  },
  {
   "cell_type": "code",
   "execution_count": null,
   "metadata": {},
   "outputs": [],
   "source": [
    "test = FeatureExtraction()\n",
    "test.JensenShannon(UCTokens, UC_documents, code_documents)"
   ]
  },
  {
   "cell_type": "code",
   "execution_count": null,
   "metadata": {},
   "outputs": [],
   "source": [
    "def getOverlap(query_term_list: list, total_query_list: list) -> int:\n",
    "    query_term_list = pd.Series(query_term_list)\n",
    "    query_term_list = query_term_list.nlargest(10)\n",
    "    query_term_set = set(query_term_list.index.values)\n",
    "\n",
    "    total_query_list = pd.Series(total_query_list)\n",
    "    total_query_list = total_query_list.nlargest(10)\n",
    "    total_query_set = set(total_query_list.index.values)\n",
    "\n",
    "    return(len(query_term_set & total_query_set))\n",
    "\n",
    "\n",
    "\n",
    "#running the query as a whole\n",
    "feature_extraction=FeatureExtraction(UCTokens)\n",
    "UC_count_matrix, code_count_matrix = feature_extraction.CountVectorizerModel(UC_documents, code_documents, 'train')\n",
    "\n",
    "### Run the original query q, and obtain the result list R \n",
    "total_score_whole_query_jensen_shannon = feature_extraction.JensenShannon(UC_count_matrix, code_count_matrix) \n",
    "\n",
    "### Run each individual query term qt in the original query as a separate query and obtain the result list Rt.\n",
    "overall_queries_score = list()\n",
    "for code_idx, code in enumerate(code_documents):\n",
    "    code_words = code.split(\" \")\n",
    "    query__term_overlap_list = list()\n",
    "    for word in code_words:\n",
    "        if word == '':\n",
    "            continue\n",
    "        # word_count_matrix = np.zeros((code_count_matrix.shape[0], code_count_matrix.shape[1]))\n",
    "        word_index = feature_extraction.code_vocab_index[word]\n",
    "        # word_count_matrix[:, word_index] = code_count_matrix[:, word_index]\n",
    "        # print(feature_extraction.count_vectorizer.vocabulary_[\"if\"])\n",
    "        # print(code_count_matrix[:, 752])\n",
    "        # print(code_count_matrix[:, word_index])\n",
    "        term_vector=np.zeros((1, UC_count_matrix.shape[1]))\n",
    "        term_vector[:,word_index]=code_count_matrix[code_idx, word_index]\n",
    "        query_term_jensen_shannon = feature_extraction.JensenShannon(UC_count_matrix, term_vector)\n",
    "        # print(query_term_jensen_shannon.shape)\n",
    "        query_term_len = query_term_jensen_shannon.shape[0] * query_term_jensen_shannon.shape[1]\n",
    "        query__term_overlap_list.append(getOverlap(query_term_jensen_shannon.reshape(query_term_len), total_score_whole_query_jensen_shannon[:, code_idx]))\n",
    "\n",
    "    overall_queries_score.append(stdev(query__term_overlap_list))\n",
    "# print(overall_queries_score)\n",
    "        # print(total_score_query_term_jensen_shannon)\n",
    "\n",
    "        \n",
    "    # break\n",
    "\n",
    "\n",
    "\n",
    "\n",
    "# print(total_score_whole_query_jensen_shannon[:,7])\n",
    "# print(total_score_whole_query_jensen_shannon[:,6])\n",
    "# print(code[7])\n",
    "# for i, temp in enumerate(code[7]):\n",
    "#     if temp != 0:\n",
    "#         print(i)\n",
    "# # 3 features to be called\n",
    "#1st case => if the query is the code\n",
    "# total_score_whole_query_jensen_shannon=feature_extraction.JensenShannon(UC_documents,,\"train\") #58*116"
   ]
  },
  {
   "cell_type": "code",
   "execution_count": 5,
   "metadata": {},
   "outputs": [],
   "source": [
    "def getOverlap(query_term_list: np.ndarray, total_query_set: set) -> int:\n",
    "    query_term_set = set(np.argpartition(query_term_list, -10)[-10:])\n",
    "    return len(query_term_set & total_query_set)\n",
    "\n",
    "def SubqueryOverlapTerms(query_term: str, code_idx: int, UC_count_matrix: np.ndarray, code_count_matrix: np.ndarray, feature_extraction: object) -> np.ndarray:\n",
    "    word_index = feature_extraction.code_vocab_index[query_term]\n",
    "    term_vector = np.zeros((1, UC_count_matrix.shape[1])) #1*\n",
    "    term_vector[:,word_index]=code_count_matrix[code_idx, word_index]\n",
    "\n",
    "    query_term_jensen_shannon = feature_extraction.JensenShannon(UC_count_matrix, term_vector)\n",
    "    query_term_len = query_term_jensen_shannon.shape[0] * query_term_jensen_shannon.shape[1]\n",
    "\n",
    "    query_term_jensen_shannon = query_term_jensen_shannon.reshape(query_term_len)\n",
    "    # gc.collect()\n",
    "    return query_term_jensen_shannon\n",
    "\n",
    "def SubqueryOverlapCode(code_idx, code, UC_count_matrix: np.ndarray, code_count_matrix: np.ndarray, feature_extraction: object, total_query_list: np.ndarray):\n",
    "\n",
    "    code_idx = int(code_idx)\n",
    "    code_words = code.split(\" \")\n",
    "    code_words = np.ascontiguousarray(code_words[0:-1])\n",
    "    vSubqueryOverlap = np.vectorize(lambda query_term: SubqueryOverlapTerms(query_term, code_idx, UC_count_matrix, code_count_matrix, feature_extraction), otypes=[np.ndarray])\n",
    "    \n",
    "    query_term_jensen_shannon = vSubqueryOverlap(code_words)\n",
    "    total_query_set = set(np.argpartition(total_query_list[:, code_idx], -10)[-10:])\n",
    "   \n",
    "    vGetOverlap = np.vectorize(lambda query_term_jensen_shannon: getOverlap(query_term_jensen_shannon, total_query_set), otypes=[np.int16])\n",
    "    query_term_overlap = vGetOverlap(query_term_jensen_shannon)\n",
    "    \n",
    "    overall_queries_score = np.std(query_term_overlap)\n",
    "    # gc.collect()\n",
    "    return overall_queries_score\n",
    "\n",
    "\n",
    "# #running the query as a whole\n",
    "\n",
    "# feature_extraction=FeatureExtraction(UCTokens)\n",
    "# UC_count_matrix, code_count_matrix = feature_extraction.CountVectorizerModel(UC_documents, code_documents, 'train')\n",
    "\n",
    "# ### Run the original query q, and obtain the result list R \n",
    "# total_score_whole_query_jensen_shannon = feature_extraction.JensenShannon(UC_count_matrix, code_count_matrix) \n",
    "\n",
    "# ### Run each individual query term qt in the original query as a separate query and obtain the result list Rt.\n",
    "# code_documents_tuples = np.array(list(enumerate(code_documents)))\n",
    "# vSubqueryOverlapCode = np.vectorize(lambda code_idx, code_doc: SubqueryOverlapCode(code_idx, code_doc, UC_count_matrix, code_count_matrix, feature_extraction, total_score_whole_query_jensen_shannon), otypes=[np.float16])\n",
    "\n",
    "# overall_queries_score = vSubqueryOverlapCode(code_documents_tuples[:, 0], code_documents_tuples[:, 1])\n",
    "\n",
    "# print(overall_queries_score.shape)"
   ]
  },
  {
   "cell_type": "code",
   "execution_count": 6,
   "metadata": {},
   "outputs": [
    {
     "name": "stderr",
     "output_type": "stream",
     "text": [
      "c:\\Users\\sohad\\anaconda3\\Lib\\site-packages\\scipy\\spatial\\distance.py:1250: RuntimeWarning: invalid value encountered in divide\n",
      "  q = q / np.sum(q, axis=axis, keepdims=True)\n"
     ]
    },
    {
     "name": "stdout",
     "output_type": "stream",
     "text": [
      "(116,)\n"
     ]
    }
   ],
   "source": [
    "#client = Client(processes=False, threads_per_worker=4,n_workers=2, memory_limit='2GB')\n",
    "\n",
    "feature_extraction=FeatureExtraction(UCTokens)\n",
    "UC_count_matrix, code_count_matrix = feature_extraction.CountVectorizerModel(UC_documents, code_documents, 'train')\n",
    "\n",
    "### Run the original query q, and obtain the result list R \n",
    "total_score_whole_query_jensen_shannon = feature_extraction.JensenShannon(UC_count_matrix, code_count_matrix) \n",
    "\n",
    "### Run each individual query term qt in the original query as a separate query and obtain the result list Rt.\n",
    "# code_documents_tuples = np.array(list(enumerate(code_documents)))\n",
    "code_documents_tuples =  np.ascontiguousarray(list(enumerate(code_documents)))\n",
    "vSubqueryOverlapCode = np.vectorize(lambda code_idx, code_doc: SubqueryOverlapCode(code_idx, code_doc, UC_count_matrix, code_count_matrix, feature_extraction, total_score_whole_query_jensen_shannon), otypes=[np.float16])\n",
    "# print(code_documents_tuples[:,0].compute())\n",
    "\n",
    "overall_queries_score = vSubqueryOverlapCode(code_documents_tuples[:,0], code_documents_tuples[:,1])\n",
    "\n",
    "print(overall_queries_score.shape)\n"
   ]
  },
  {
   "cell_type": "markdown",
   "metadata": {},
   "source": [
    "## Play ground yasmenya ama nshof eh el araf da"
   ]
  },
  {
   "cell_type": "code",
   "execution_count": null,
   "metadata": {},
   "outputs": [],
   "source": [
    "from imports import *\n",
    "from PreProcessor import *\n",
    "import os\n",
    "import numpy as np\n",
    "\n",
    "CodeTokens = set()\n",
    "UCTokens = set()\n",
    "UC_documents = list()\n",
    "code_documents = list()\n",
    "TotalTokens=set()\n",
    "entropy_uc = []\n",
    "entropy_code = []\n",
    "variance_uc = {}\n",
    "variance_code = {}\n",
    "SCQ_uc={}\n",
    "SCQ_code={}\n",
    "term_co_occurrences_uc = {}\n",
    "PMI_uc = {}\n",
    "term_co_occurrences_code= {}\n",
    "PMI_code = {}\n",
    "\n",
    "for filename in os.listdir(\"./UC\"):\n",
    "    filepath = os.path.join(\"./UC\", filename)\n",
    "    tokens = UCPreProcessor(filepath)\n",
    "    UC_documents.append(tokens)\n",
    "    UCTokens.update(tokens.split())\n",
    "\n",
    "\n",
    "for filename in os.listdir(\"./CC\"):\n",
    "    filepath = os.path.join(\"./CC\", filename)\n",
    "    tokens = CodePreProcessor(filepath)\n",
    "    code_documents.append(tokens)\n",
    "    CodeTokens.update(tokens.split())\n",
    "\n"
   ]
  },
  {
   "cell_type": "code",
   "execution_count": null,
   "metadata": {},
   "outputs": [],
   "source": [
    "vectorizer_uc = TfidfVectorizer(vocabulary=UCTokens)\n",
    "tf_matrix_uc=vectorizer_uc.fit_transform(UC_documents)\n",
    "idf_uc = vectorizer_uc.idf_\n",
    "\n",
    "\n",
    "\n",
    "# Get the vocabulary from the TfidfVectorizer object\n",
    "vocabulary_uc = vectorizer_uc.get_feature_names_out()\n",
    "\n",
    "# Pair terms with their corresponding document frequencies\n",
    "term_document_frequencies = dict(zip(vocabulary_uc,idf_uc))\n",
    "\n",
    "print(term_document_frequencies)\n"
   ]
  },
  {
   "cell_type": "code",
   "execution_count": 21,
   "metadata": {},
   "outputs": [
    {
     "data": {
      "text/plain": [
       "array([ 9,  8,  7,  6,  5,  4,  2,  1, 10,  0], dtype=int64)"
      ]
     },
     "execution_count": 21,
     "metadata": {},
     "output_type": "execute_result"
    }
   ],
   "source": [
    "def get_overlap(query_term_list: np.ndarray, total_query_list: np.ndarray) -> int:\n",
    "    query_term_set = set(np.argpartition(-query_term_list, 10)[:10])\n",
    "    total_query_set = set(np.argpartition(-total_query_list, 10)[:10])\n",
    "\n",
    "    return len(query_term_set & total_query_set)\n",
    "\n",
    "temp1 = np.array([90, 100, 200, 30, 400, 500, 600, 700, 800, 900, 100])\n",
    "temp2 = np.array([0, 1, 2, 3, 4, 5, 6, 7, 8, 9, 10])\n",
    "\n",
    "np.argsort(-temp1)[:10]\n",
    "\n",
    "# temp1 = np.array([0, 1, 2, 3, 4, 5, 6, 7, 8, 9, 10])\n",
    "# temp2 = np.array([0, 1, 2, 3, 4, 5, 6, 7, 8, 9, 10])\n",
    "\n",
    "# indices_temp1 = np.argpartition(-temp1, 11)[:10]\n",
    "# sorted_indices_temp1 = indices_temp1[np.argsort(temp1[indices_temp1])]\n",
    "\n",
    "# print(sorted_indices_temp1)\n"
   ]
  },
  {
   "cell_type": "code",
   "execution_count": 33,
   "metadata": {},
   "outputs": [
    {
     "name": "stdout",
     "output_type": "stream",
     "text": [
      "[  10   30   50   50   60  100  200  300  400  900 1000]\n",
      "[  30  400  100   50  900  200   60   50  300 1000]\n"
     ]
    }
   ],
   "source": [
    "\n",
    "arr = np.array([30, 10, 400, 100, 50, 900, 200, 60, 50, 300, 1000])\n",
    "print(np.sort(arr))\n",
    "# Use argpartition to find indices of the smallest 10 elements\n",
    "\n",
    "top_10_indices = np.argpartition(arr, -10)[-10:]\n",
    "print(arr[top_10_indices])"
   ]
  }
 ],
 "metadata": {
  "kernelspec": {
   "display_name": "base",
   "language": "python",
   "name": "python3"
  },
  "language_info": {
   "codemirror_mode": {
    "name": "ipython",
    "version": 3
   },
   "file_extension": ".py",
   "mimetype": "text/x-python",
   "name": "python",
   "nbconvert_exporter": "python",
   "pygments_lexer": "ipython3",
   "version": "3.11.5"
  }
 },
 "nbformat": 4,
 "nbformat_minor": 2
}
