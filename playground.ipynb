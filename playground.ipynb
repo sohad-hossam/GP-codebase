{
 "cells": [
  {
   "cell_type": "code",
   "execution_count": 1,
   "metadata": {},
   "outputs": [],
   "source": [
    "from VSM import *\n",
    "from FeatureExtraction import *"
   ]
  },
  {
   "cell_type": "code",
   "execution_count": null,
   "metadata": {},
   "outputs": [],
   "source": [
    "# num_components = min(tfidf_matrix_uc.shape[0], tfidf_matrix_code.shape[1])\n",
    "# num_components = min(num_components, 100)\n",
    "# LSA_model = TruncatedSVD(n_components=num_components)\n",
    "\n",
    "# # if train_or_test == \"train\":\n",
    "# LSA_data_useCases = LSA_model.fit_transform(tfidf_matrix_uc)\n",
    "# LSA_data_codes = LSA_model.fit_transform(tfidf_matrix_code) \n",
    "# # else:\n",
    "# #     LSA_data_useCases = LSA_model.transform(tfidf_matrix_uc)\n",
    "# #     LSA_data_codes = LSA_model.transform(tfidf_matrix_code) \n",
    "\n",
    "# LSA_similraity_matrix = cosine_similarity(LSA_data_useCases, LSA_data_codes)\n",
    "# print(LSA_similraity_matrix)"
   ]
  },
  {
   "cell_type": "code",
   "execution_count": null,
   "metadata": {},
   "outputs": [],
   "source": [
    "# test = FeatureExtraction()\n",
    "# test.LSA(tfidf_matrix_uc, tfidf_matrix_code, \"train\")"
   ]
  },
  {
   "cell_type": "code",
   "execution_count": null,
   "metadata": {},
   "outputs": [],
   "source": [
    "#usecases (100*usecases_nu)\n",
    "#code (100*codes_nu)\n",
    "#LSA_similraity_matrix (usecases_nu*codes_nu)\n",
    "#d1,d2,d3,d4\n",
    "#u1,u2,u3,u4\n",
    "#u1*d1,u1*d2,u1*d3 ...\n",
    "#d1*u1,d1*u2,d1*u3 ...\n",
    "#each row coresspond between the use cases and each document\n",
    "# [[d1*c1 d1*c2],[d2*c1 d2*c2]]\n",
    "\n",
    "# LSA_data_codes=np.array([[1,2,3,4,5] , [6,7,8,9,10]])\n",
    "# LSA_data_useCases=np.array([[11,12,13,14,15] , [16,17,18,19,21],[2,5,9,11,42]])\n",
    "\n",
    "# LSA_data_codes_norm=np.repeat(np.linalg.norm(LSA_data_codes,axis=1),LSA_data_useCases.shape[0])\n",
    "# LSA_data_useCases_norm=np.repeat(np.linalg.norm(LSA_data_useCases,axis=1),LSA_data_codes.shape[0])\n",
    "\n",
    "# LSA_data_codes_norm=LSA_data_codes_norm.reshape(LSA_data_codes.shape[0],LSA_data_useCases.shape[0]).T \n",
    "# LSA_data_useCases_norm=LSA_data_useCases_norm.reshape(LSA_data_useCases.shape[0],LSA_data_codes.shape[0])\n",
    "\n",
    "# print(LSA_data_codes_norm)\n",
    "# print(LSA_data_useCases_norm)\n",
    "\n",
    "# LSA_similraity_matrix=cosine_similarity(LSA_data_useCases, LSA_data_codes)\n",
    "\n",
    "# print(LSA_similraity_matrix)"
   ]
  },
  {
   "cell_type": "markdown",
   "metadata": {},
   "source": [
    "## Jensen-Shannon"
   ]
  },
  {
   "cell_type": "code",
   "execution_count": 1,
   "metadata": {},
   "outputs": [
    {
     "ename": "NameError",
     "evalue": "name 'FeatureExtraction' is not defined",
     "output_type": "error",
     "traceback": [
      "\u001b[1;31m---------------------------------------------------------------------------\u001b[0m",
      "\u001b[1;31mNameError\u001b[0m                                 Traceback (most recent call last)",
      "Cell \u001b[1;32mIn[1], line 1\u001b[0m\n\u001b[1;32m----> 1\u001b[0m test \u001b[38;5;241m=\u001b[39m FeatureExtraction()\n\u001b[0;32m      2\u001b[0m test\u001b[38;5;241m.\u001b[39mJensenShannon(UCTokens, UC_documents, code_documents)\n",
      "\u001b[1;31mNameError\u001b[0m: name 'FeatureExtraction' is not defined"
     ]
    }
   ],
   "source": [
    "test = FeatureExtraction()\n",
    "test.JensenShannon(UCTokens, UC_documents, code_documents)"
   ]
  },
  {
   "cell_type": "code",
   "execution_count": 58,
   "metadata": {},
   "outputs": [
    {
     "name": "stdout",
     "output_type": "stream",
     "text": [
      "156\n",
      "(156, 1837)\n",
      "[0.64686767 0.63438122 0.63551707 0.63065649 0.63319495 0.63319495\n",
      " 0.65377451 0.63319495 0.65981016 0.64616919 0.65004579 0.65377451\n",
      " 0.66337322 0.64944878 0.63961727 0.65645566 0.63065649 0.64470045\n",
      " 0.65840516 0.63195468 0.63961727 0.69314718 0.65947061 0.64819872\n",
      " 0.63865322 0.69314718 0.64819872 0.63319495 0.64229774 0.69314718\n",
      " 0.69314718 0.6622807  0.6607856  0.63865322 0.65118795 0.65981016\n",
      " 0.64944878 0.65645566 0.65516661 0.63438122 0.64686767 0.65062525\n",
      " 0.6454472  0.62312842 0.63195468 0.63065649 0.63195468 0.63865322\n",
      " 0.66199379 0.64470045 0.69314718 0.69314718 0.64754382 0.63865322\n",
      " 0.63961727 0.64470045 0.66170101 0.63660574]\n",
      "[0.69314718 0.69314718 0.69314718 0.69314718 0.69314718 0.69314718\n",
      " 0.69314718 0.69314718 0.69314718 0.69314718 0.69314718 0.69314718\n",
      " 0.69314718 0.69314718 0.69314718 0.69314718 0.69314718 0.69314718\n",
      " 0.69314718 0.69314718 0.69314718 0.69314718 0.69314718 0.69314718\n",
      " 0.69314718 0.69314718 0.69314718 0.69314718 0.69314718 0.69314718\n",
      " 0.69314718 0.69314718 0.69314718 0.69314718 0.69314718 0.69314718\n",
      " 0.69314718 0.69314718 0.69314718 0.69314718 0.69314718 0.69314718\n",
      " 0.69314718 0.69314718 0.69314718 0.69314718 0.69314718 0.69314718\n",
      " 0.69314718 0.69314718 0.69314718 0.69314718 0.69314718 0.69314718\n",
      " 0.69314718 0.69314718 0.69314718 0.69314718]\n",
      "[0 0 0 ... 0 0 0]\n",
      "1472\n"
     ]
    }
   ],
   "source": [
    "#running the query as a whole\n",
    "feature_extraction=FeatureExtraction(UCTokens)\n",
    "print(len(code_documents[0].split()))\n",
    "print(code.shape)\n",
    "total_score_whole_query_jensen_shannon, Uc, code=feature_extraction.JensenShannon(UC_documents,code_documents[0].split(),\"train\") #58*116\n",
    "print(total_score_whole_query_jensen_shannon[:,7])\n",
    "print(total_score_whole_query_jensen_shannon[:,6])\n",
    "print(code[7])\n",
    "for i, temp in enumerate(code[7]):\n",
    "    if temp != 0:\n",
    "        print(i)\n",
    "# 3 features to be called\n",
    "#1st case => if the query is the code\n",
    "# total_score_whole_query_jensen_shannon=feature_extraction.JensenShannon(UC_documents,,\"train\") #58*116"
   ]
  }
 ],
 "metadata": {
  "kernelspec": {
   "display_name": "base",
   "language": "python",
   "name": "python3"
  },
  "language_info": {
   "codemirror_mode": {
    "name": "ipython",
    "version": 3
   },
   "file_extension": ".py",
   "mimetype": "text/x-python",
   "name": "python",
   "nbconvert_exporter": "python",
   "pygments_lexer": "ipython3",
   "version": "3.11.5"
  }
 },
 "nbformat": 4,
 "nbformat_minor": 2
}
