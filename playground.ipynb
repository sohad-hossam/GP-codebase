{
 "cells": [
  {
   "cell_type": "code",
   "execution_count": 2,
   "metadata": {},
   "outputs": [],
   "source": [
    "from imports import *\n",
    "from FeatureExtraction import *\n",
    "from VSM import *\n",
    "\n",
    "# import dask.array \n",
    "# import gc"
   ]
  },
  {
   "cell_type": "code",
   "execution_count": 3,
   "metadata": {},
   "outputs": [],
   "source": [
    "_PreProcessor = PreProcessor()\n",
    "UC_documents, code_documents, UCTokens, CodeTokens = _PreProcessor.setup(\n",
    "            \"./UC\", \"./CC\"\n",
    "        )\n",
    "UCTokens.update(CodeTokens)"
   ]
  },
  {
   "cell_type": "code",
   "execution_count": null,
   "metadata": {},
   "outputs": [],
   "source": [
    "# num_components = min(tfidf_matrix_uc.shape[0], tfidf_matrix_code.shape[1])\n",
    "# num_components = min(num_components, 100)\n",
    "# LSA_model = TruncatedSVD(n_components=num_components)\n",
    "\n",
    "# # if train_or_test == \"train\":\n",
    "# LSA_data_useCases = LSA_model.fit_transform(tfidf_matrix_uc)\n",
    "# LSA_data_codes = LSA_model.fit_transform(tfidf_matrix_code) \n",
    "# # else:\n",
    "# #     LSA_data_useCases = LSA_model.transform(tfidf_matrix_uc)\n",
    "# #     LSA_data_codes = LSA_model.transform(tfidf_matrix_code) \n",
    "\n",
    "# LSA_similraity_matrix = cosine_similarity(LSA_data_useCases, LSA_data_codes)\n",
    "# print(LSA_similraity_matrix)"
   ]
  },
  {
   "cell_type": "code",
   "execution_count": null,
   "metadata": {},
   "outputs": [],
   "source": [
    "# test = FeatureExtraction()\n",
    "# test.LSA(tfidf_matrix_uc, tfidf_matrix_code, \"train\")"
   ]
  },
  {
   "cell_type": "code",
   "execution_count": null,
   "metadata": {},
   "outputs": [],
   "source": [
    "#usecases (100*usecases_nu)\n",
    "#code (100*codes_nu)\n",
    "#LSA_similraity_matrix (usecases_nu*codes_nu)\n",
    "#d1,d2,d3,d4\n",
    "#u1,u2,u3,u4\n",
    "#u1*d1,u1*d2,u1*d3 ...\n",
    "#d1*u1,d1*u2,d1*u3 ...\n",
    "#each row coresspond between the use cases and each document\n",
    "# [[d1*c1 d1*c2],[d2*c1 d2*c2]]\n",
    "\n",
    "# LSA_data_codes=np.array([[1,2,3,4,5] , [6,7,8,9,10]])\n",
    "# LSA_data_useCases=np.array([[11,12,13,14,15] , [16,17,18,19,21],[2,5,9,11,42]])\n",
    "\n",
    "# LSA_data_codes_norm=np.repeat(np.linalg.norm(LSA_data_codes,axis=1),LSA_data_useCases.shape[0])\n",
    "# LSA_data_useCases_norm=np.repeat(np.linalg.norm(LSA_data_useCases,axis=1),LSA_data_codes.shape[0])\n",
    "\n",
    "# LSA_data_codes_norm=LSA_data_codes_norm.reshape(LSA_data_codes.shape[0],LSA_data_useCases.shape[0]).T \n",
    "# LSA_data_useCases_norm=LSA_data_useCases_norm.reshape(LSA_data_useCases.shape[0],LSA_data_codes.shape[0])\n",
    "\n",
    "# print(LSA_data_codes_norm)\n",
    "# print(LSA_data_useCases_norm)\n",
    "\n",
    "# LSA_similraity_matrix=cosine_similarity(LSA_data_useCases, LSA_data_codes)\n",
    "\n",
    "# print(LSA_similraity_matrix)"
   ]
  },
  {
   "cell_type": "markdown",
   "metadata": {},
   "source": [
    "## Jensen-Shannon"
   ]
  },
  {
   "cell_type": "code",
   "execution_count": null,
   "metadata": {},
   "outputs": [],
   "source": [
    "test = FeatureExtraction()\n",
    "test.JensenShannon(UCTokens, UC_documents, code_documents)"
   ]
  },
  {
   "cell_type": "code",
   "execution_count": null,
   "metadata": {},
   "outputs": [],
   "source": [
    "def getOverlap(query_term_list: list, total_query_list: list) -> int:\n",
    "    query_term_list = pd.Series(query_term_list)\n",
    "    query_term_list = query_term_list.nlargest(10)\n",
    "    query_term_set = set(query_term_list.index.values)\n",
    "\n",
    "    total_query_list = pd.Series(total_query_list)\n",
    "    total_query_list = total_query_list.nlargest(10)\n",
    "    total_query_set = set(total_query_list.index.values)\n",
    "\n",
    "    return(len(query_term_set & total_query_set))\n",
    "\n",
    "\n",
    "\n",
    "#running the query as a whole\n",
    "feature_extraction=FeatureExtraction(UCTokens)\n",
    "UC_count_matrix, code_count_matrix = feature_extraction.CountVectorizerModel(UC_documents, code_documents, 'train')\n",
    "\n",
    "### Run the original query q, and obtain the result list R \n",
    "total_score_whole_query_jensen_shannon = feature_extraction.JensenShannon(UC_count_matrix, code_count_matrix) \n",
    "\n",
    "### Run each individual query term qt in the original query as a separate query and obtain the result list Rt.\n",
    "overall_queries_score = list()\n",
    "for code_idx, code in enumerate(code_documents):\n",
    "    code_words = code.split(\" \")\n",
    "    query__term_overlap_list = list()\n",
    "    for word in code_words:\n",
    "        if word == '':\n",
    "            continue\n",
    "        # word_count_matrix = np.zeros((code_count_matrix.shape[0], code_count_matrix.shape[1]))\n",
    "        word_index = feature_extraction.code_vocab_index[word]\n",
    "        # word_count_matrix[:, word_index] = code_count_matrix[:, word_index]\n",
    "        # print(feature_extraction.count_vectorizer.vocabulary_[\"if\"])\n",
    "        # print(code_count_matrix[:, 752])\n",
    "        # print(code_count_matrix[:, word_index])\n",
    "        term_vector=np.zeros((1, UC_count_matrix.shape[1]))\n",
    "        term_vector[:,word_index]=code_count_matrix[code_idx, word_index]\n",
    "        query_term_jensen_shannon = feature_extraction.JensenShannon(UC_count_matrix, term_vector)\n",
    "        # print(query_term_jensen_shannon.shape)\n",
    "        query_term_len = query_term_jensen_shannon.shape[0] * query_term_jensen_shannon.shape[1]\n",
    "        query__term_overlap_list.append(getOverlap(query_term_jensen_shannon.reshape(query_term_len), total_score_whole_query_jensen_shannon[:, code_idx]))\n",
    "\n",
    "    overall_queries_score.append(stdev(query__term_overlap_list))\n",
    "# print(overall_queries_score)\n",
    "        # print(total_score_query_term_jensen_shannon)\n",
    "\n",
    "        \n",
    "    # break\n",
    "\n",
    "\n",
    "\n",
    "\n",
    "# print(total_score_whole_query_jensen_shannon[:,7])\n",
    "# print(total_score_whole_query_jensen_shannon[:,6])\n",
    "# print(code[7])\n",
    "# for i, temp in enumerate(code[7]):\n",
    "#     if temp != 0:\n",
    "#         print(i)\n",
    "# # 3 features to be called\n",
    "#1st case => if the query is the code\n",
    "# total_score_whole_query_jensen_shannon=feature_extraction.JensenShannon(UC_documents,,\"train\") #58*116"
   ]
  },
  {
   "cell_type": "code",
   "execution_count": null,
   "metadata": {},
   "outputs": [],
   "source": [
    "# def getOverlap(query_term_list: np.ndarray, total_query_set: set) -> int:\n",
    "#     query_term_set = set(np.argpartition(query_term_list, -10)[-10:])\n",
    "#     return len(query_term_set & total_query_set)\n",
    "\n",
    "# def SubqueryOverlapTerms(query_term: str, code_idx: int, UC_count_matrix: np.ndarray, code_count_matrix: np.ndarray, feature_extraction: object) -> np.ndarray:\n",
    "    \n",
    "#     word_index = feature_extraction.code_vocab_index[query_term]\n",
    "#     term_vector = np.zeros((1, UC_count_matrix.shape[1])) #1*\n",
    "#     term_vector[:,word_index]=code_count_matrix[code_idx, word_index]\n",
    "\n",
    "#     query_term_jensen_shannon = feature_extraction.JensenShannon(UC_count_matrix, term_vector)\n",
    "#     query_term_len = query_term_jensen_shannon.shape[0] * query_term_jensen_shannon.shape[1]\n",
    "\n",
    "#     query_term_jensen_shannon = query_term_jensen_shannon.reshape(query_term_len)\n",
    "#     return query_term_jensen_shannon\n",
    "\n",
    "# def SubqueryOverlapCode(code_idx, code, UC_count_matrix: np.ndarray, code_count_matrix: np.ndarray, feature_extraction: object, total_query_list: np.ndarray):\n",
    "\n",
    "#     code_idx = int(code_idx)\n",
    "#     code_words = code.split(\" \")\n",
    "#     code_words = np.ascontiguousarray(code_words[0:-1])\n",
    "#     vSubqueryOverlap = np.vectorize(lambda query_term: SubqueryOverlapTerms(query_term, code_idx, UC_count_matrix, code_count_matrix, feature_extraction), otypes=[np.ndarray])\n",
    "    \n",
    "#     query_term_jensen_shannon = vSubqueryOverlap(code_words)\n",
    "#     total_query_set = set(np.argpartition(total_query_list[:, code_idx], -10)[-10:])\n",
    "   \n",
    "#     vGetOverlap = np.vectorize(lambda query_term_jensen_shannon: getOverlap(query_term_jensen_shannon, total_query_set), otypes=[np.int16])\n",
    "#     query_term_overlap = vGetOverlap(query_term_jensen_shannon)\n",
    "    \n",
    "#     overall_queries_score = np.std(query_term_overlap)\n",
    "#     return overall_queries_score"
   ]
  },
  {
   "cell_type": "code",
   "execution_count": null,
   "metadata": {},
   "outputs": [],
   "source": [
    "#feature_extraction.JensenShannon\n",
    "# def SubqueryOverlap(feature_extraction:object, query:list, feature_extraction_method:Callable, document_count_matrix:np.ndarray, query_count_matrix:np.ndarray) -> np.ndarray:\n",
    "    \n",
    "#     ### Run the original query q, and obtain the result list R \n",
    "#     total_score_query_feature_extraction = feature_extraction_method(document_count_matrix, query_count_matrix)\n",
    "\n",
    "#     query_tuples =  np.ascontiguousarray(list(enumerate(query)))\n",
    "    \n",
    "#     ### Run each individual query term qt in the original query as a separate query and obtain the result list Rt.\n",
    "#     vSubqueryOverlapCode = np.vectorize(lambda code_idx, code_doc: SubqueryOverlapCode(code_idx, code_doc, document_count_matrix, query_count_matrix, feature_extraction, total_score_query_feature_extraction), otypes=[np.float16])\n",
    "\n",
    "#     overall_queries_score = vSubqueryOverlapCode(query_tuples[:,0], query_tuples[:,1])\n",
    "#     return overall_queries_score"
   ]
  },
  {
   "cell_type": "markdown",
   "metadata": {},
   "source": [
    "## Subquery overlap test"
   ]
  },
  {
   "cell_type": "code",
   "execution_count": 23,
   "metadata": {},
   "outputs": [
    {
     "ename": "KeyboardInterrupt",
     "evalue": "",
     "output_type": "error",
     "traceback": [
      "\u001b[1;31m---------------------------------------------------------------------------\u001b[0m",
      "\u001b[1;31mKeyboardInterrupt\u001b[0m                         Traceback (most recent call last)",
      "Cell \u001b[1;32mIn[23], line 7\u001b[0m\n\u001b[0;32m      3\u001b[0m feature_extraction \u001b[38;5;241m=\u001b[39m FeatureExtraction(UCTokens)\n\u001b[0;32m      4\u001b[0m UC_count_matrix, code_count_matrix \u001b[38;5;241m=\u001b[39m feature_extraction\u001b[38;5;241m.\u001b[39mCountVectorizerModel(UC_documents, code_documents, \u001b[38;5;124m'\u001b[39m\u001b[38;5;124mtrain\u001b[39m\u001b[38;5;124m'\u001b[39m)\n\u001b[1;32m----> 7\u001b[0m code_queries_score_JensenShannon \u001b[38;5;241m=\u001b[39m feature_extraction\u001b[38;5;241m.\u001b[39mSubqueryOverlap(feature_extraction, code_documents, feature_extraction\u001b[38;5;241m.\u001b[39mJensenShannon, UC_count_matrix, code_count_matrix)\n\u001b[0;32m      8\u001b[0m UC_queries_score_JensenShannon \u001b[38;5;241m=\u001b[39m feature_extraction\u001b[38;5;241m.\u001b[39mSubqueryOverlap(feature_extraction, UC_documents, feature_extraction\u001b[38;5;241m.\u001b[39mJensenShannon, code_count_matrix, UC_count_matrix)\n",
      "File \u001b[1;32md:\\College Items\\GP code\\GP-codebase\\FeatureExtraction.py:153\u001b[0m, in \u001b[0;36mFeatureExtraction.SubqueryOverlap\u001b[1;34m(self, feature_extraction, query, feature_extraction_method, document_count_matrix, query_count_matrix)\u001b[0m\n\u001b[0;32m    150\u001b[0m \u001b[38;5;66;03m### Run each individual query term qt in the original query as a separate query and obtain the result list Rt.\u001b[39;00m\n\u001b[0;32m    151\u001b[0m vSubqueryOverlapCode \u001b[38;5;241m=\u001b[39m np\u001b[38;5;241m.\u001b[39mvectorize(\u001b[38;5;28;01mlambda\u001b[39;00m code_idx, code_doc: \u001b[38;5;28mself\u001b[39m\u001b[38;5;241m.\u001b[39m_SubqueryOverlapCode(code_idx, code_doc, document_count_matrix, query_count_matrix, feature_extraction, total_score_query_feature_extraction,feature_extraction_method), otypes\u001b[38;5;241m=\u001b[39m[np\u001b[38;5;241m.\u001b[39mfloat16])\n\u001b[1;32m--> 153\u001b[0m overall_queries_score \u001b[38;5;241m=\u001b[39m vSubqueryOverlapCode(query_tuples[:,\u001b[38;5;241m0\u001b[39m], query_tuples[:,\u001b[38;5;241m1\u001b[39m])\n\u001b[0;32m    154\u001b[0m \u001b[38;5;28;01mreturn\u001b[39;00m overall_queries_score\n",
      "File \u001b[1;32mc:\\Users\\basse\\anaconda3\\Lib\\site-packages\\numpy\\lib\\function_base.py:2329\u001b[0m, in \u001b[0;36mvectorize.__call__\u001b[1;34m(self, *args, **kwargs)\u001b[0m\n\u001b[0;32m   2326\u001b[0m     vargs \u001b[38;5;241m=\u001b[39m [args[_i] \u001b[38;5;28;01mfor\u001b[39;00m _i \u001b[38;5;129;01min\u001b[39;00m inds]\n\u001b[0;32m   2327\u001b[0m     vargs\u001b[38;5;241m.\u001b[39mextend([kwargs[_n] \u001b[38;5;28;01mfor\u001b[39;00m _n \u001b[38;5;129;01min\u001b[39;00m names])\n\u001b[1;32m-> 2329\u001b[0m \u001b[38;5;28;01mreturn\u001b[39;00m \u001b[38;5;28mself\u001b[39m\u001b[38;5;241m.\u001b[39m_vectorize_call(func\u001b[38;5;241m=\u001b[39mfunc, args\u001b[38;5;241m=\u001b[39mvargs)\n",
      "File \u001b[1;32mc:\\Users\\basse\\anaconda3\\Lib\\site-packages\\numpy\\lib\\function_base.py:2412\u001b[0m, in \u001b[0;36mvectorize._vectorize_call\u001b[1;34m(self, func, args)\u001b[0m\n\u001b[0;32m   2409\u001b[0m \u001b[38;5;66;03m# Convert args to object arrays first\u001b[39;00m\n\u001b[0;32m   2410\u001b[0m inputs \u001b[38;5;241m=\u001b[39m [asanyarray(a, dtype\u001b[38;5;241m=\u001b[39m\u001b[38;5;28mobject\u001b[39m) \u001b[38;5;28;01mfor\u001b[39;00m a \u001b[38;5;129;01min\u001b[39;00m args]\n\u001b[1;32m-> 2412\u001b[0m outputs \u001b[38;5;241m=\u001b[39m ufunc(\u001b[38;5;241m*\u001b[39minputs)\n\u001b[0;32m   2414\u001b[0m \u001b[38;5;28;01mif\u001b[39;00m ufunc\u001b[38;5;241m.\u001b[39mnout \u001b[38;5;241m==\u001b[39m \u001b[38;5;241m1\u001b[39m:\n\u001b[0;32m   2415\u001b[0m     res \u001b[38;5;241m=\u001b[39m asanyarray(outputs, dtype\u001b[38;5;241m=\u001b[39motypes[\u001b[38;5;241m0\u001b[39m])\n",
      "File \u001b[1;32md:\\College Items\\GP code\\GP-codebase\\FeatureExtraction.py:151\u001b[0m, in \u001b[0;36mFeatureExtraction.SubqueryOverlap.<locals>.<lambda>\u001b[1;34m(code_idx, code_doc)\u001b[0m\n\u001b[0;32m    148\u001b[0m query_tuples \u001b[38;5;241m=\u001b[39m  np\u001b[38;5;241m.\u001b[39mascontiguousarray(\u001b[38;5;28mlist\u001b[39m(\u001b[38;5;28menumerate\u001b[39m(query)))\n\u001b[0;32m    150\u001b[0m \u001b[38;5;66;03m### Run each individual query term qt in the original query as a separate query and obtain the result list Rt.\u001b[39;00m\n\u001b[1;32m--> 151\u001b[0m vSubqueryOverlapCode \u001b[38;5;241m=\u001b[39m np\u001b[38;5;241m.\u001b[39mvectorize(\u001b[38;5;28;01mlambda\u001b[39;00m code_idx, code_doc: \u001b[38;5;28mself\u001b[39m\u001b[38;5;241m.\u001b[39m_SubqueryOverlapCode(code_idx, code_doc, document_count_matrix, query_count_matrix, feature_extraction, total_score_query_feature_extraction,feature_extraction_method), otypes\u001b[38;5;241m=\u001b[39m[np\u001b[38;5;241m.\u001b[39mfloat16])\n\u001b[0;32m    153\u001b[0m overall_queries_score \u001b[38;5;241m=\u001b[39m vSubqueryOverlapCode(query_tuples[:,\u001b[38;5;241m0\u001b[39m], query_tuples[:,\u001b[38;5;241m1\u001b[39m])\n\u001b[0;32m    154\u001b[0m \u001b[38;5;28;01mreturn\u001b[39;00m overall_queries_score\n",
      "File \u001b[1;32md:\\College Items\\GP code\\GP-codebase\\FeatureExtraction.py:134\u001b[0m, in \u001b[0;36mFeatureExtraction._SubqueryOverlapCode\u001b[1;34m(self, code_idx, code, UC_count_matrix, code_count_matrix, feature_extraction, total_query_list, feature_extraction_method)\u001b[0m\n\u001b[0;32m    131\u001b[0m code_words \u001b[38;5;241m=\u001b[39m np\u001b[38;5;241m.\u001b[39mascontiguousarray(code_words[\u001b[38;5;241m0\u001b[39m:\u001b[38;5;241m-\u001b[39m\u001b[38;5;241m1\u001b[39m])\n\u001b[0;32m    132\u001b[0m vSubqueryOverlap \u001b[38;5;241m=\u001b[39m np\u001b[38;5;241m.\u001b[39mvectorize(\u001b[38;5;28;01mlambda\u001b[39;00m query_term: \u001b[38;5;28mself\u001b[39m\u001b[38;5;241m.\u001b[39m_SubqueryOverlapTerms(query_term, code_idx, UC_count_matrix, code_count_matrix, feature_extraction,feature_extraction_method), otypes\u001b[38;5;241m=\u001b[39m[np\u001b[38;5;241m.\u001b[39mndarray])\n\u001b[1;32m--> 134\u001b[0m query_term_jensen_shannon \u001b[38;5;241m=\u001b[39m vSubqueryOverlap(code_words)\n\u001b[0;32m    135\u001b[0m total_query_set \u001b[38;5;241m=\u001b[39m \u001b[38;5;28mset\u001b[39m(np\u001b[38;5;241m.\u001b[39margpartition(total_query_list[:, code_idx], \u001b[38;5;241m-\u001b[39m\u001b[38;5;241m10\u001b[39m)[\u001b[38;5;241m-\u001b[39m\u001b[38;5;241m10\u001b[39m:]) \u001b[38;5;66;03m#should be edited\u001b[39;00m\n\u001b[0;32m    137\u001b[0m vGetOverlap \u001b[38;5;241m=\u001b[39m np\u001b[38;5;241m.\u001b[39mvectorize(\u001b[38;5;28;01mlambda\u001b[39;00m query_term_jensen_shannon: \u001b[38;5;28mself\u001b[39m\u001b[38;5;241m.\u001b[39m_getOverlap(query_term_jensen_shannon, total_query_set), otypes\u001b[38;5;241m=\u001b[39m[np\u001b[38;5;241m.\u001b[39mint16])\n",
      "File \u001b[1;32mc:\\Users\\basse\\anaconda3\\Lib\\site-packages\\numpy\\lib\\function_base.py:2329\u001b[0m, in \u001b[0;36mvectorize.__call__\u001b[1;34m(self, *args, **kwargs)\u001b[0m\n\u001b[0;32m   2326\u001b[0m     vargs \u001b[38;5;241m=\u001b[39m [args[_i] \u001b[38;5;28;01mfor\u001b[39;00m _i \u001b[38;5;129;01min\u001b[39;00m inds]\n\u001b[0;32m   2327\u001b[0m     vargs\u001b[38;5;241m.\u001b[39mextend([kwargs[_n] \u001b[38;5;28;01mfor\u001b[39;00m _n \u001b[38;5;129;01min\u001b[39;00m names])\n\u001b[1;32m-> 2329\u001b[0m \u001b[38;5;28;01mreturn\u001b[39;00m \u001b[38;5;28mself\u001b[39m\u001b[38;5;241m.\u001b[39m_vectorize_call(func\u001b[38;5;241m=\u001b[39mfunc, args\u001b[38;5;241m=\u001b[39mvargs)\n",
      "File \u001b[1;32mc:\\Users\\basse\\anaconda3\\Lib\\site-packages\\numpy\\lib\\function_base.py:2412\u001b[0m, in \u001b[0;36mvectorize._vectorize_call\u001b[1;34m(self, func, args)\u001b[0m\n\u001b[0;32m   2409\u001b[0m \u001b[38;5;66;03m# Convert args to object arrays first\u001b[39;00m\n\u001b[0;32m   2410\u001b[0m inputs \u001b[38;5;241m=\u001b[39m [asanyarray(a, dtype\u001b[38;5;241m=\u001b[39m\u001b[38;5;28mobject\u001b[39m) \u001b[38;5;28;01mfor\u001b[39;00m a \u001b[38;5;129;01min\u001b[39;00m args]\n\u001b[1;32m-> 2412\u001b[0m outputs \u001b[38;5;241m=\u001b[39m ufunc(\u001b[38;5;241m*\u001b[39minputs)\n\u001b[0;32m   2414\u001b[0m \u001b[38;5;28;01mif\u001b[39;00m ufunc\u001b[38;5;241m.\u001b[39mnout \u001b[38;5;241m==\u001b[39m \u001b[38;5;241m1\u001b[39m:\n\u001b[0;32m   2415\u001b[0m     res \u001b[38;5;241m=\u001b[39m asanyarray(outputs, dtype\u001b[38;5;241m=\u001b[39motypes[\u001b[38;5;241m0\u001b[39m])\n",
      "File \u001b[1;32md:\\College Items\\GP code\\GP-codebase\\FeatureExtraction.py:132\u001b[0m, in \u001b[0;36mFeatureExtraction._SubqueryOverlapCode.<locals>.<lambda>\u001b[1;34m(query_term)\u001b[0m\n\u001b[0;32m    130\u001b[0m code_words \u001b[38;5;241m=\u001b[39m code\u001b[38;5;241m.\u001b[39msplit(\u001b[38;5;124m\"\u001b[39m\u001b[38;5;124m \u001b[39m\u001b[38;5;124m\"\u001b[39m)\n\u001b[0;32m    131\u001b[0m code_words \u001b[38;5;241m=\u001b[39m np\u001b[38;5;241m.\u001b[39mascontiguousarray(code_words[\u001b[38;5;241m0\u001b[39m:\u001b[38;5;241m-\u001b[39m\u001b[38;5;241m1\u001b[39m])\n\u001b[1;32m--> 132\u001b[0m vSubqueryOverlap \u001b[38;5;241m=\u001b[39m np\u001b[38;5;241m.\u001b[39mvectorize(\u001b[38;5;28;01mlambda\u001b[39;00m query_term: \u001b[38;5;28mself\u001b[39m\u001b[38;5;241m.\u001b[39m_SubqueryOverlapTerms(query_term, code_idx, UC_count_matrix, code_count_matrix, feature_extraction,feature_extraction_method), otypes\u001b[38;5;241m=\u001b[39m[np\u001b[38;5;241m.\u001b[39mndarray])\n\u001b[0;32m    134\u001b[0m query_term_jensen_shannon \u001b[38;5;241m=\u001b[39m vSubqueryOverlap(code_words)\n\u001b[0;32m    135\u001b[0m total_query_set \u001b[38;5;241m=\u001b[39m \u001b[38;5;28mset\u001b[39m(np\u001b[38;5;241m.\u001b[39margpartition(total_query_list[:, code_idx], \u001b[38;5;241m-\u001b[39m\u001b[38;5;241m10\u001b[39m)[\u001b[38;5;241m-\u001b[39m\u001b[38;5;241m10\u001b[39m:]) \u001b[38;5;66;03m#should be edited\u001b[39;00m\n",
      "File \u001b[1;32md:\\College Items\\GP code\\GP-codebase\\FeatureExtraction.py:121\u001b[0m, in \u001b[0;36mFeatureExtraction._SubqueryOverlapTerms\u001b[1;34m(self, query_term, code_idx, UC_count_matrix, code_count_matrix, feature_extraction, feature_extraction_method)\u001b[0m\n\u001b[0;32m    118\u001b[0m term_vector \u001b[38;5;241m=\u001b[39m np\u001b[38;5;241m.\u001b[39mzeros((\u001b[38;5;241m1\u001b[39m, UC_count_matrix\u001b[38;5;241m.\u001b[39mshape[\u001b[38;5;241m1\u001b[39m])) \u001b[38;5;66;03m#1*\u001b[39;00m\n\u001b[0;32m    119\u001b[0m term_vector[:,word_index]\u001b[38;5;241m=\u001b[39mcode_count_matrix[code_idx, word_index]\n\u001b[1;32m--> 121\u001b[0m query_term_jensen_shannon \u001b[38;5;241m=\u001b[39m feature_extraction_method(UC_count_matrix, term_vector)\n\u001b[0;32m    122\u001b[0m query_term_len \u001b[38;5;241m=\u001b[39m query_term_jensen_shannon\u001b[38;5;241m.\u001b[39mshape[\u001b[38;5;241m0\u001b[39m] \u001b[38;5;241m*\u001b[39m query_term_jensen_shannon\u001b[38;5;241m.\u001b[39mshape[\u001b[38;5;241m1\u001b[39m]\n\u001b[0;32m    124\u001b[0m query_term_jensen_shannon \u001b[38;5;241m=\u001b[39m query_term_jensen_shannon\u001b[38;5;241m.\u001b[39mreshape(query_term_len)\n",
      "File \u001b[1;32md:\\College Items\\GP code\\GP-codebase\\FeatureExtraction.py:71\u001b[0m, in \u001b[0;36mFeatureExtraction.JensenShannon\u001b[1;34m(self, UC_count_matrix, code_count_matrix)\u001b[0m\n\u001b[0;32m     63\u001b[0m UC_count_matrix_repeated \u001b[38;5;241m=\u001b[39m np\u001b[38;5;241m.\u001b[39mrepeat(\n\u001b[0;32m     64\u001b[0m     UC_count_matrix, code_count_matrix\u001b[38;5;241m.\u001b[39mshape[\u001b[38;5;241m0\u001b[39m], axis\u001b[38;5;241m=\u001b[39m\u001b[38;5;241m0\u001b[39m\n\u001b[0;32m     65\u001b[0m )\n\u001b[0;32m     66\u001b[0m code_count_matrix_repeated \u001b[38;5;241m=\u001b[39m np\u001b[38;5;241m.\u001b[39mtile(\n\u001b[0;32m     67\u001b[0m     code_count_matrix, (UC_count_matrix\u001b[38;5;241m.\u001b[39mshape[\u001b[38;5;241m0\u001b[39m], \u001b[38;5;241m1\u001b[39m)\n\u001b[0;32m     68\u001b[0m )\n\u001b[0;32m     70\u001b[0m JS_matrix \u001b[38;5;241m=\u001b[39m \u001b[38;5;28mpow\u001b[39m(\n\u001b[1;32m---> 71\u001b[0m     jensenshannon(UC_count_matrix_repeated, code_count_matrix_repeated, axis\u001b[38;5;241m=\u001b[39m\u001b[38;5;241m1\u001b[39m),\n\u001b[0;32m     72\u001b[0m     \u001b[38;5;241m2\u001b[39m,\n\u001b[0;32m     73\u001b[0m )\n\u001b[0;32m     74\u001b[0m JS_matrix \u001b[38;5;241m=\u001b[39m JS_matrix\u001b[38;5;241m.\u001b[39mreshape(\n\u001b[0;32m     75\u001b[0m     UC_count_matrix\u001b[38;5;241m.\u001b[39mshape[\u001b[38;5;241m0\u001b[39m], code_count_matrix\u001b[38;5;241m.\u001b[39mshape[\u001b[38;5;241m0\u001b[39m]\n\u001b[0;32m     76\u001b[0m )\n\u001b[0;32m     78\u001b[0m \u001b[38;5;66;03m# ------------------------------loop approach---------------------------#\u001b[39;00m\n\u001b[0;32m     79\u001b[0m \u001b[38;5;66;03m# loop-approach\u001b[39;00m\n\u001b[0;32m     80\u001b[0m \u001b[38;5;66;03m# JS_matrix = np.zeros((UC_count_matrix.shape[0], code_count_matrix.shape[0]))\u001b[39;00m\n\u001b[1;32m   (...)\u001b[0m\n\u001b[0;32m     83\u001b[0m \u001b[38;5;66;03m#         JS_matrix[i][j] = pow(jensenshannon(UC_count_vector, code_count_vector), 2)\u001b[39;00m\n\u001b[0;32m     84\u001b[0m \u001b[38;5;66;03m# print(JS_matrix.shape) => (58,116)\u001b[39;00m\n",
      "File \u001b[1;32mc:\\Users\\basse\\anaconda3\\Lib\\site-packages\\scipy\\spatial\\distance.py:1252\u001b[0m, in \u001b[0;36mjensenshannon\u001b[1;34m(p, q, base, axis, keepdims)\u001b[0m\n\u001b[0;32m   1250\u001b[0m q \u001b[38;5;241m=\u001b[39m q \u001b[38;5;241m/\u001b[39m np\u001b[38;5;241m.\u001b[39msum(q, axis\u001b[38;5;241m=\u001b[39maxis, keepdims\u001b[38;5;241m=\u001b[39m\u001b[38;5;28;01mTrue\u001b[39;00m)\n\u001b[0;32m   1251\u001b[0m m \u001b[38;5;241m=\u001b[39m (p \u001b[38;5;241m+\u001b[39m q) \u001b[38;5;241m/\u001b[39m \u001b[38;5;241m2.0\u001b[39m\n\u001b[1;32m-> 1252\u001b[0m left \u001b[38;5;241m=\u001b[39m rel_entr(p, m)\n\u001b[0;32m   1253\u001b[0m right \u001b[38;5;241m=\u001b[39m rel_entr(q, m)\n\u001b[0;32m   1254\u001b[0m left_sum \u001b[38;5;241m=\u001b[39m np\u001b[38;5;241m.\u001b[39msum(left, axis\u001b[38;5;241m=\u001b[39maxis, keepdims\u001b[38;5;241m=\u001b[39mkeepdims)\n",
      "\u001b[1;31mKeyboardInterrupt\u001b[0m: "
     ]
    }
   ],
   "source": [
    "#client = Client(processes=False, threads_per_worker=4,n_workers=2, memory_limit='2GB')\n",
    "\n",
    "feature_extraction = FeatureExtraction(UCTokens)\n",
    "UC_count_matrix, code_count_matrix = feature_extraction.CountVectorizerModel(UC_documents, code_documents, 'train')\n",
    "\n",
    " \n",
    "code_queries_score_JensenShannon = feature_extraction.SubqueryOverlap(feature_extraction, code_documents, feature_extraction.JensenShannon, UC_count_matrix, code_count_matrix)\n",
    "UC_queries_score_JensenShannon = feature_extraction.SubqueryOverlap(feature_extraction, UC_documents, feature_extraction.JensenShannon, code_count_matrix, UC_count_matrix)\n",
    "\n",
    "# tfidf_matrix_uc,tfidf_matrix_code=feature_extraction.TFIDFVectorizer(UC_documents,code_documents)\n",
    "# # code_queries_score_vector_space = feature_extraction.SubqueryOverlap(feature_extraction, code_documents,cosine_similarity, tfidf_matrix_uc, #tfidf_matrix_code)\n",
    "# uc_queries_score_vector_space = feature_extraction.SubqueryOverlap(feature_extraction, UC_documents,cosine_similarity, tfidf_matrix_code,tfidf_matrix_uc)\n",
    "\n",
    "# # print(code_queries_score_vector_space.shape)\n",
    "# print(uc_queries_score_vector_space.shape)\n",
    "# print(uc_queries_score_vector_space)\n"
   ]
  },
  {
   "cell_type": "code",
   "execution_count": 117,
   "metadata": {},
   "outputs": [
    {
     "name": "stdout",
     "output_type": "stream",
     "text": [
      "(50, 116)\n"
     ]
    }
   ],
   "source": [
    "feature_extraction=FeatureExtraction(UCTokens)\n",
    "UC_count_matrix, code_count_matrix = feature_extraction.CountVectorizerModel(UC_documents, code_documents, 'train')\n",
    "\n",
    "### Run the original query q, and obtain the result list R \n",
    "total_score_whole_query_jensen_shannon = feature_extraction.JensenShannon(UC_count_matrix, code_count_matrix) \n",
    "query_term_set = np.argsort(total_score_whole_query_jensen_shannon,axis=0)[-50:,:]\n",
    "new_ranked_documents=[] #50 documents\n",
    "\n",
    "print(query_term_set.shape)\n",
    "# print(total_score_whole_query_jensen_shannon[0])"
   ]
  },
  {
   "cell_type": "markdown",
   "metadata": {},
   "source": [
    "## Play ground yasmenya ama nshof eh el araf da"
   ]
  },
  {
   "cell_type": "code",
   "execution_count": null,
   "metadata": {},
   "outputs": [],
   "source": [
    "from imports import *\n",
    "from PreProcessor import *\n",
    "import os\n",
    "import numpy as np\n",
    "\n",
    "CodeTokens = set()\n",
    "UCTokens = set()\n",
    "UC_documents = list()\n",
    "code_documents = list()\n",
    "TotalTokens=set()\n",
    "entropy_uc = []\n",
    "entropy_code = []\n",
    "variance_uc = {}\n",
    "variance_code = {}\n",
    "SCQ_uc={}\n",
    "SCQ_code={}\n",
    "term_co_occurrences_uc = {}\n",
    "PMI_uc = {}\n",
    "term_co_occurrences_code= {}\n",
    "PMI_code = {}\n",
    "\n",
    "for filename in os.listdir(\"./UC\"):\n",
    "    filepath = os.path.join(\"./UC\", filename)\n",
    "    tokens = UCPreProcessor(filepath)\n",
    "    UC_documents.append(tokens)\n",
    "    UCTokens.update(tokens.split())\n",
    "\n",
    "\n",
    "for filename in os.listdir(\"./CC\"):\n",
    "    filepath = os.path.join(\"./CC\", filename)\n",
    "    tokens = CodePreProcessor(filepath)\n",
    "    code_documents.append(tokens)\n",
    "    CodeTokens.update(tokens.split())\n",
    "\n"
   ]
  },
  {
   "cell_type": "code",
   "execution_count": null,
   "metadata": {},
   "outputs": [],
   "source": [
    "vectorizer_uc = TfidfVectorizer(vocabulary=UCTokens)\n",
    "tf_matrix_uc=vectorizer_uc.fit_transform(UC_documents)\n",
    "idf_uc = vectorizer_uc.idf_\n",
    "\n",
    "\n",
    "\n",
    "# Get the vocabulary from the TfidfVectorizer object\n",
    "vocabulary_uc = vectorizer_uc.get_feature_names_out()\n",
    "\n",
    "# Pair terms with their corresponding document frequencies\n",
    "term_document_frequencies = dict(zip(vocabulary_uc,idf_uc))\n",
    "\n",
    "print(term_document_frequencies)\n"
   ]
  },
  {
   "cell_type": "code",
   "execution_count": null,
   "metadata": {},
   "outputs": [],
   "source": [
    "def get_overlap(query_term_list: np.ndarray, total_query_list: np.ndarray) -> int:\n",
    "    query_term_set = set(np.argpartition(-query_term_list, 10)[:10])\n",
    "    total_query_set = set(np.argpartition(-total_query_list, 10)[:10])\n",
    "\n",
    "    return len(query_term_set & total_query_set)\n",
    "\n",
    "temp1 = np.array([90, 100, 200, 30, 400, 500, 600, 700, 800, 900, 100])\n",
    "temp2 = np.array([0, 1, 2, 3, 4, 5, 6, 7, 8, 9, 10])\n",
    "\n",
    "np.argsort(-temp1)[:10]\n",
    "\n",
    "# temp1 = np.array([0, 1, 2, 3, 4, 5, 6, 7, 8, 9, 10])\n",
    "# temp2 = np.array([0, 1, 2, 3, 4, 5, 6, 7, 8, 9, 10])\n",
    "\n",
    "# indices_temp1 = np.argpartition(-temp1, 11)[:10]\n",
    "# sorted_indices_temp1 = indices_temp1[np.argsort(temp1[indices_temp1])]\n",
    "\n",
    "# print(sorted_indices_temp1)\n"
   ]
  },
  {
   "cell_type": "markdown",
   "metadata": {},
   "source": [
    "### Document Statistics Features"
   ]
  },
  {
   "cell_type": "code",
   "execution_count": 22,
   "metadata": {},
   "outputs": [
    {
     "name": "stdout",
     "output_type": "stream",
     "text": [
      "[ 151 2388  421  185  117  161  637  310  152  227  239  307  168  104\n",
      "  217  628  128  556  254  269 2864  210  348  860  200  169  171   75\n",
      "  259  254  208  277  724  205  301  494  409 1317  493 2554  315  187\n",
      "  207  464  871 1397  476  787 1613  820  410   59  631  875 1764 1123\n",
      "  206  467 1897  319  965  254   86  168  588  187  161  111   98  137\n",
      "  116  429  121  611  310  382  172  173  170  122   35  294  305  355\n",
      "  237   67  148  259  258  272   89  247   98 2820  211  200  194  178\n",
      " 1907  238  182 2274  273 1125   75  133 4174 4563 1780  165  186 1197\n",
      "  192  300 2712  746]\n",
      "[54 40 41 38 39 39 66 39 81 53 59 66 93 58 45 72 37 51 77 38 45 35 80 56\n",
      " 44 30 56 39 49 34 33 89 84 44 61 81 58 72 69 40 57 63 54 34 38 39 42 46\n",
      " 89 52 38 40 56 46 45 51 87 42]\n",
      "[ 51 300 129  57  47  41  61  46  40  42  44  53  47  45  51  80  43  80\n",
      "  51  50 345  74 118 157  78  73  75  55  59  53  84  64  81  61  71  95\n",
      "  75 100  87 179  94  40  50  77 117 180 107 141 247 154  99  38 107 159\n",
      " 216 189  77  98 150  95 139  94  58  61 118  65  58  47  45  48  51  66\n",
      "  49 122  61  82  55  56  59  46  27  72  83  84  80  35  50  79  68  84\n",
      "  41  68  47 348  64  25  74  51 235  76  62 209  63 131  27  48 440 393\n",
      " 258  56  65 131  75  77 296 138]\n",
      "[40 28 29 28 26 31 41 29 53 43 41 44 54 40 31 44 25 32 43 30 31 25 51 40\n",
      " 29 25 41 32 34 24 25 48 51 33 36 45 34 43 44 26 32 44 34 22 27 24 26 28\n",
      " 50 37 25 19 37 33 33 34 54 31]\n",
      "[[3.2967033  5.58823529 2.95857988 ... 2.56410256 4.16666667 3.37078652]\n",
      " [5.06329114 3.65853659 2.5477707  ... 2.85714286 3.39506173 3.61445783]\n",
      " [5.         3.34346505 1.89873418 ... 1.88679245 2.76923077 2.99401198]\n",
      " ...\n",
      " [5.88235294 4.79041916 1.8404908  ... 2.7027027  3.63636364 3.48837209]\n",
      " [3.80952381 7.06214689 3.27868852 ... 3.05343511 5.71428571 5.72916667]\n",
      " [3.65853659 4.53172205 2.5        ... 2.77777778 3.66972477 2.36686391]]\n"
     ]
    }
   ],
   "source": [
    "num_terms_code =[]\n",
    "for document in code_documents:\n",
    "    num_terms_code.append(len(document.split()))\n",
    "\n",
    "num_terms_code=np.array(num_terms_code)\n",
    "print(num_terms_code)\n",
    "\n",
    "num_terms_UC =[]\n",
    "for document in UC_documents:\n",
    "    num_terms_UC.append(len(document.split()))\n",
    "\n",
    "num_terms_UC=np.array(num_terms_UC)\n",
    "print(num_terms_UC)\n",
    "\n",
    "num_unique_terms_code =[]\n",
    "for document in code_documents:\n",
    "    num_unique_terms_code.append(len(set(document.split())))\n",
    "\n",
    "num_unique_terms_code=np.array(num_unique_terms_code)\n",
    "print(num_unique_terms_code)\n",
    "\n",
    "num_unique_terms_UC =[]\n",
    "for document in UC_documents:\n",
    "    num_unique_terms_UC.append(len(set(document.split())))\n",
    "\n",
    "num_unique_terms_UC=np.array(num_unique_terms_UC)\n",
    "print(num_unique_terms_UC)\n",
    "\n",
    "# each column represent D1 intersect with all usecases, then column2= D2 intersect with all usescases....\n",
    "#if want to access the intesection between a specific usecase and all coressponding documents you will access the row index coressponding to this usecase \n",
    "num_overlapping_terms_code =np.zeros((len(UC_documents),len(code_documents)))\n",
    "for uc_index,uc in enumerate(UC_documents):\n",
    "    for code_index,code in enumerate(code_documents):\n",
    "        num_overlapping_terms_code[uc_index][code_index] = 100*(len(set(uc.split()).intersection(set(code.split()))))/(num_unique_terms_UC[uc_index]+num_unique_terms_code[code_index])\n",
    "\n",
    "print(num_overlapping_terms_code)\n",
    "\n",
    "\n"
   ]
  }
 ],
 "metadata": {
  "kernelspec": {
   "display_name": "base",
   "language": "python",
   "name": "python3"
  },
  "language_info": {
   "codemirror_mode": {
    "name": "ipython",
    "version": 3
   },
   "file_extension": ".py",
   "mimetype": "text/x-python",
   "name": "python",
   "nbconvert_exporter": "python",
   "pygments_lexer": "ipython3",
   "version": "3.11.5"
  }
 },
 "nbformat": 4,
 "nbformat_minor": 2
}
