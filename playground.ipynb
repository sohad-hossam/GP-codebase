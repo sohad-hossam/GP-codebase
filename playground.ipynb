{
 "cells": [
  {
   "cell_type": "code",
   "execution_count": 1,
   "metadata": {},
   "outputs": [],
   "source": [
    "from VSM import *\n",
    "from FeatureExtraction import *"
   ]
  },
  {
   "cell_type": "code",
   "execution_count": 2,
   "metadata": {},
   "outputs": [
    {
     "name": "stdout",
     "output_type": "stream",
     "text": [
      "[[ 0.18482886  0.3273808   0.32296982 ... -0.19929168  0.27819572\n",
      "   0.35131266]\n",
      " [ 0.28823275  0.5802744   0.51701597 ... -0.05965957  0.34313524\n",
      "   0.33720379]\n",
      " [ 0.40728073  0.32797859  0.20740612 ... -0.08974246  0.28103445\n",
      "   0.26552303]\n",
      " ...\n",
      " [ 0.46312831  0.22129758  0.10572698 ... -0.13914677  0.30564828\n",
      "   0.34829635]\n",
      " [ 0.21368115  0.39048124  0.33017151 ... -0.16889377  0.54142573\n",
      "   0.41258289]\n",
      " [ 0.52801245  0.07769887 -0.01366914 ...  0.17987461  0.35918657\n",
      "   0.64894778]]\n"
     ]
    }
   ],
   "source": [
    "# num_components = min(tfidf_matrix_uc.shape[0], tfidf_matrix_code.shape[1])\n",
    "# num_components = min(num_components, 100)\n",
    "# LSA_model = TruncatedSVD(n_components=num_components)\n",
    "\n",
    "# # if train_or_test == \"train\":\n",
    "# LSA_data_useCases = LSA_model.fit_transform(tfidf_matrix_uc)\n",
    "# LSA_data_codes = LSA_model.fit_transform(tfidf_matrix_code) \n",
    "# # else:\n",
    "# #     LSA_data_useCases = LSA_model.transform(tfidf_matrix_uc)\n",
    "# #     LSA_data_codes = LSA_model.transform(tfidf_matrix_code) \n",
    "\n",
    "# LSA_similraity_matrix = cosine_similarity(LSA_data_useCases, LSA_data_codes)\n",
    "# print(LSA_similraity_matrix)"
   ]
  },
  {
   "cell_type": "code",
   "execution_count": 3,
   "metadata": {},
   "outputs": [
    {
     "data": {
      "text/plain": [
       "array([[ 0.18482879,  0.32737807,  0.32296327, ..., -0.19928636,\n",
       "         0.27819406,  0.35130898],\n",
       "       [ 0.28822455,  0.58027843,  0.51700034, ..., -0.05965165,\n",
       "         0.34314602,  0.33719957],\n",
       "       [ 0.40729472,  0.32797612,  0.20740683, ..., -0.08973778,\n",
       "         0.28103775,  0.26551924],\n",
       "       ...,\n",
       "       [ 0.46314434,  0.22129739,  0.10572649, ..., -0.13913957,\n",
       "         0.30565419,  0.34829004],\n",
       "       [ 0.2137009 ,  0.39046935,  0.33019448, ..., -0.16890304,\n",
       "         0.54142993,  0.41255777],\n",
       "       [ 0.52803358,  0.07769631, -0.01366185, ...,  0.17987321,\n",
       "         0.35919171,  0.64893806]])"
      ]
     },
     "execution_count": 3,
     "metadata": {},
     "output_type": "execute_result"
    }
   ],
   "source": [
    "# test = FeatureExtraction()\n",
    "# test.LSA(tfidf_matrix_uc, tfidf_matrix_code, \"train\")"
   ]
  },
  {
   "cell_type": "code",
   "execution_count": 28,
   "metadata": {},
   "outputs": [
    {
     "name": "stdout",
     "output_type": "stream",
     "text": [
      "[[ 0.18482137  0.3273921   0.32295519 ... -0.19927008  0.27819332\n",
      "   0.35132647]\n",
      " [ 0.28824105  0.58026967  0.5170505  ... -0.05965737  0.34313247\n",
      "   0.33729178]\n",
      " [ 0.40726529  0.32798009  0.20740789 ... -0.08973642  0.28103006\n",
      "   0.26557118]\n",
      " ...\n",
      " [ 0.46310731  0.22130393  0.10572647 ... -0.13913685  0.30565015\n",
      "   0.34834786]\n",
      " [ 0.21364449  0.39048035  0.33014368 ... -0.16890047  0.54140078\n",
      "   0.41261981]\n",
      " [ 0.52799292  0.07769306 -0.01365563 ...  0.17986966  0.35917951\n",
      "   0.64910979]]\n"
     ]
    }
   ],
   "source": [
    "#usecases (100*usecases_nu)\n",
    "#code (100*codes_nu)\n",
    "#LSA_similraity_matrix (usecases_nu*codes_nu)\n",
    "#d1,d2,d3,d4\n",
    "#u1,u2,u3,u4\n",
    "#u1*d1,u1*d2,u1*d3 ...\n",
    "#d1*u1,d1*u2,d1*u3 ...\n",
    "#each row coresspond between the use cases and each document\n",
    "# [[d1*c1 d1*c2],[d2*c1 d2*c2]]\n",
    "\n",
    "# LSA_data_codes=np.array([[1,2,3,4,5] , [6,7,8,9,10]])\n",
    "# LSA_data_useCases=np.array([[11,12,13,14,15] , [16,17,18,19,21],[2,5,9,11,42]])\n",
    "\n",
    "# LSA_data_codes_norm=np.repeat(np.linalg.norm(LSA_data_codes,axis=1),LSA_data_useCases.shape[0])\n",
    "# LSA_data_useCases_norm=np.repeat(np.linalg.norm(LSA_data_useCases,axis=1),LSA_data_codes.shape[0])\n",
    "\n",
    "# LSA_data_codes_norm=LSA_data_codes_norm.reshape(LSA_data_codes.shape[0],LSA_data_useCases.shape[0]).T \n",
    "# LSA_data_useCases_norm=LSA_data_useCases_norm.reshape(LSA_data_useCases.shape[0],LSA_data_codes.shape[0])\n",
    "\n",
    "# print(LSA_data_codes_norm)\n",
    "# print(LSA_data_useCases_norm)\n",
    "\n",
    "# LSA_similraity_matrix=cosine_similarity(LSA_data_useCases, LSA_data_codes)\n",
    "\n",
    "# print(LSA_similraity_matrix)"
   ]
  },
  {
   "cell_type": "markdown",
   "metadata": {},
   "source": [
    "## Jensen-Shannon"
   ]
  },
  {
   "cell_type": "code",
   "execution_count": 2,
   "metadata": {},
   "outputs": [
    {
     "data": {
      "text/plain": [
       "array([[0.60628914, 0.56214859, 0.62365091, ..., 0.63699536, 0.56847883,\n",
       "        0.59296509],\n",
       "       [0.60919967, 0.56296403, 0.59642528, ..., 0.63554238, 0.54885985,\n",
       "        0.56170336],\n",
       "       [0.61025351, 0.57647443, 0.61537687, ..., 0.65734326, 0.57873848,\n",
       "        0.57834334],\n",
       "       ...,\n",
       "       [0.56991067, 0.58071035, 0.66233178, ..., 0.61751555, 0.58643133,\n",
       "        0.58627933],\n",
       "       [0.5710618 , 0.54848827, 0.6307035 , ..., 0.62615112, 0.55630119,\n",
       "        0.53115382],\n",
       "       [0.60452273, 0.54866734, 0.63787855, ..., 0.63255515, 0.5579383 ,\n",
       "        0.60818104]])"
      ]
     },
     "execution_count": 2,
     "metadata": {},
     "output_type": "execute_result"
    }
   ],
   "source": [
    "test = FeatureExtraction()\n",
    "test.JensenShannon(UCTokens, UC_documents, code_documents)"
   ]
  },
  {
   "cell_type": "code",
   "execution_count": 7,
   "metadata": {},
   "outputs": [
    {
     "name": "stdout",
     "output_type": "stream",
     "text": [
      "Collecting translate\n",
      "  Downloading translate-3.6.1-py2.py3-none-any.whl (12 kB)\n",
      "Requirement already satisfied: click in c:\\users\\sohad\\anaconda3\\lib\\site-packages (from translate) (8.0.4)\n",
      "Requirement already satisfied: lxml in c:\\users\\sohad\\anaconda3\\lib\\site-packages (from translate) (4.9.3)\n",
      "Requirement already satisfied: requests in c:\\users\\sohad\\anaconda3\\lib\\site-packages (from translate) (2.31.0)\n",
      "Collecting libretranslatepy==2.1.1 (from translate)\n",
      "  Downloading libretranslatepy-2.1.1-py3-none-any.whl (3.2 kB)\n",
      "Requirement already satisfied: colorama in c:\\users\\sohad\\anaconda3\\lib\\site-packages (from click->translate) (0.4.6)\n",
      "Requirement already satisfied: charset-normalizer<4,>=2 in c:\\users\\sohad\\anaconda3\\lib\\site-packages (from requests->translate) (2.0.4)\n",
      "Requirement already satisfied: idna<4,>=2.5 in c:\\users\\sohad\\anaconda3\\lib\\site-packages (from requests->translate) (2.10)\n",
      "Requirement already satisfied: urllib3<3,>=1.21.1 in c:\\users\\sohad\\anaconda3\\lib\\site-packages (from requests->translate) (1.26.16)\n",
      "Requirement already satisfied: certifi>=2017.4.17 in c:\\users\\sohad\\anaconda3\\lib\\site-packages (from requests->translate) (2023.11.17)\n",
      "Installing collected packages: libretranslatepy, translate\n",
      "Successfully installed libretranslatepy-2.1.1 translate-3.6.1\n",
      "Note: you may need to restart the kernel to use updated packages.\n"
     ]
    }
   ],
   "source": [
    "%pip install translate"
   ]
  },
  {
   "cell_type": "code",
   "execution_count": 17,
   "metadata": {},
   "outputs": [
    {
     "name": "stdout",
     "output_type": "stream",
     "text": [
      "Feeding station\n"
     ]
    }
   ],
   "source": [
    "from translate import Translator\n",
    "\n",
    "translator = Translator(to_lang='en', from_lang='it')  # Translate to German\n",
    "translation = translator.translate('Punto Di Ristoro')\n",
    "print(translation)  # Output: 'Guten Morgen!'"
   ]
  }
 ],
 "metadata": {
  "kernelspec": {
   "display_name": "base",
   "language": "python",
   "name": "python3"
  },
  "language_info": {
   "codemirror_mode": {
    "name": "ipython",
    "version": 3
   },
   "file_extension": ".py",
   "mimetype": "text/x-python",
   "name": "python",
   "nbconvert_exporter": "python",
   "pygments_lexer": "ipython3",
   "version": "3.11.5"
  }
 },
 "nbformat": 4,
 "nbformat_minor": 2
}
