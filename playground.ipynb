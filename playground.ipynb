{
 "cells": [
  {
   "cell_type": "code",
   "execution_count": 1,
   "metadata": {},
   "outputs": [],
   "source": [
    "from VSM import *\n",
    "from FeatureExtraction import *"
   ]
  },
  {
   "cell_type": "code",
   "execution_count": null,
   "metadata": {},
   "outputs": [],
   "source": [
    "# num_components = min(tfidf_matrix_uc.shape[0], tfidf_matrix_code.shape[1])\n",
    "# num_components = min(num_components, 100)\n",
    "# LSA_model = TruncatedSVD(n_components=num_components)\n",
    "\n",
    "# # if train_or_test == \"train\":\n",
    "# LSA_data_useCases = LSA_model.fit_transform(tfidf_matrix_uc)\n",
    "# LSA_data_codes = LSA_model.fit_transform(tfidf_matrix_code) \n",
    "# # else:\n",
    "# #     LSA_data_useCases = LSA_model.transform(tfidf_matrix_uc)\n",
    "# #     LSA_data_codes = LSA_model.transform(tfidf_matrix_code) \n",
    "\n",
    "# LSA_similraity_matrix = cosine_similarity(LSA_data_useCases, LSA_data_codes)\n",
    "# print(LSA_similraity_matrix)"
   ]
  },
  {
   "cell_type": "code",
   "execution_count": null,
   "metadata": {},
   "outputs": [],
   "source": [
    "# test = FeatureExtraction()\n",
    "# test.LSA(tfidf_matrix_uc, tfidf_matrix_code, \"train\")"
   ]
  },
  {
   "cell_type": "code",
   "execution_count": null,
   "metadata": {},
   "outputs": [],
   "source": [
    "#usecases (100*usecases_nu)\n",
    "#code (100*codes_nu)\n",
    "#LSA_similraity_matrix (usecases_nu*codes_nu)\n",
    "#d1,d2,d3,d4\n",
    "#u1,u2,u3,u4\n",
    "#u1*d1,u1*d2,u1*d3 ...\n",
    "#d1*u1,d1*u2,d1*u3 ...\n",
    "#each row coresspond between the use cases and each document\n",
    "# [[d1*c1 d1*c2],[d2*c1 d2*c2]]\n",
    "\n",
    "# LSA_data_codes=np.array([[1,2,3,4,5] , [6,7,8,9,10]])\n",
    "# LSA_data_useCases=np.array([[11,12,13,14,15] , [16,17,18,19,21],[2,5,9,11,42]])\n",
    "\n",
    "# LSA_data_codes_norm=np.repeat(np.linalg.norm(LSA_data_codes,axis=1),LSA_data_useCases.shape[0])\n",
    "# LSA_data_useCases_norm=np.repeat(np.linalg.norm(LSA_data_useCases,axis=1),LSA_data_codes.shape[0])\n",
    "\n",
    "# LSA_data_codes_norm=LSA_data_codes_norm.reshape(LSA_data_codes.shape[0],LSA_data_useCases.shape[0]).T \n",
    "# LSA_data_useCases_norm=LSA_data_useCases_norm.reshape(LSA_data_useCases.shape[0],LSA_data_codes.shape[0])\n",
    "\n",
    "# print(LSA_data_codes_norm)\n",
    "# print(LSA_data_useCases_norm)\n",
    "\n",
    "# LSA_similraity_matrix=cosine_similarity(LSA_data_useCases, LSA_data_codes)\n",
    "\n",
    "# print(LSA_similraity_matrix)"
   ]
  },
  {
   "cell_type": "markdown",
   "metadata": {},
   "source": [
    "## Jensen-Shannon"
   ]
  },
  {
   "cell_type": "code",
   "execution_count": 1,
   "metadata": {},
   "outputs": [
    {
     "ename": "NameError",
     "evalue": "name 'FeatureExtraction' is not defined",
     "output_type": "error",
     "traceback": [
      "\u001b[1;31m---------------------------------------------------------------------------\u001b[0m",
      "\u001b[1;31mNameError\u001b[0m                                 Traceback (most recent call last)",
      "Cell \u001b[1;32mIn[1], line 1\u001b[0m\n\u001b[1;32m----> 1\u001b[0m test \u001b[38;5;241m=\u001b[39m FeatureExtraction()\n\u001b[0;32m      2\u001b[0m test\u001b[38;5;241m.\u001b[39mJensenShannon(UCTokens, UC_documents, code_documents)\n",
      "\u001b[1;31mNameError\u001b[0m: name 'FeatureExtraction' is not defined"
     ]
    }
   ],
   "source": [
    "test = FeatureExtraction()\n",
    "test.JensenShannon(UCTokens, UC_documents, code_documents)"
   ]
  },
  {
   "cell_type": "code",
   "execution_count": 2,
   "metadata": {},
   "outputs": [
    {
     "name": "stdout",
     "output_type": "stream",
     "text": [
      "packag\n",
      "[0.         0.00781571 0.         0.         0.         0.\n",
      " 0.         0.         0.         0.         0.         0.\n",
      " 0.         0.         0.         0.         0.         0.\n",
      " 0.         0.         0.         0.         0.         0.\n",
      " 0.         0.         0.         0.         0.         0.\n",
      " 0.         0.         0.         0.         0.         0.\n",
      " 0.         0.         0.         0.         0.         0.\n",
      " 0.         0.         0.         0.         0.         0.\n",
      " 0.         0.         0.         0.         0.         0.\n",
      " 0.         0.         0.         0.         0.         0.\n",
      " 0.         0.         0.         0.         0.         0.\n",
      " 0.         0.         0.         0.         0.         0.\n",
      " 0.         0.         0.         0.         0.         0.\n",
      " 0.         0.         0.         0.         0.         0.\n",
      " 0.         0.         0.         0.         0.         0.\n",
      " 0.         0.         0.         0.         0.         0.\n",
      " 0.         0.         0.         0.         0.         0.\n",
      " 0.         0.         0.         0.         0.         0.\n",
      " 0.         0.         0.         0.         0.         0.\n",
      " 0.         0.        ]\n"
     ]
    },
    {
     "ename": "ValueError",
     "evalue": "operands could not be broadcast together with shapes (6728,1837) (58,116) ",
     "output_type": "error",
     "traceback": [
      "\u001b[1;31m---------------------------------------------------------------------------\u001b[0m",
      "\u001b[1;31mValueError\u001b[0m                                Traceback (most recent call last)",
      "Cell \u001b[1;32mIn[2], line 18\u001b[0m\n\u001b[0;32m     16\u001b[0m \u001b[38;5;66;03m# word_count_matrix[:, word_index] = code_count_matrix[:, word_index]\u001b[39;00m\n\u001b[0;32m     17\u001b[0m \u001b[38;5;28mprint\u001b[39m(code_count_matrix[:, word_index])\n\u001b[1;32m---> 18\u001b[0m total_score_query_term_jensen_shannon \u001b[38;5;241m=\u001b[39m feature_extraction\u001b[38;5;241m.\u001b[39mJensenShannon(UC_count_matrix, code_count_matrix[:, word_index])\n\u001b[0;32m     19\u001b[0m \u001b[38;5;28mprint\u001b[39m(total_score_query_term_jensen_shannon\u001b[38;5;241m.\u001b[39mshape)\n\u001b[0;32m     20\u001b[0m \u001b[38;5;28;01mbreak\u001b[39;00m\n",
      "File \u001b[1;32mc:\\Users\\sohad\\Documents\\University\\Senior-2 Fall 2023\\Graduation project\\GP-codebase\\FeatureExtraction.py:58\u001b[0m, in \u001b[0;36mFeatureExtraction.JensenShannon\u001b[1;34m(self, UC_count_matrix, code_count_matrix)\u001b[0m\n\u001b[0;32m     55\u001b[0m UC_count_matrix_repeated \u001b[38;5;241m=\u001b[39m np\u001b[38;5;241m.\u001b[39mrepeat(UC_count_matrix, code_count_matrix\u001b[38;5;241m.\u001b[39mshape[\u001b[38;5;241m0\u001b[39m], axis\u001b[38;5;241m=\u001b[39m\u001b[38;5;241m0\u001b[39m)\n\u001b[0;32m     56\u001b[0m code_count_matrix_repeated \u001b[38;5;241m=\u001b[39m np\u001b[38;5;241m.\u001b[39mtile(code_count_matrix, (UC_count_matrix\u001b[38;5;241m.\u001b[39mshape[\u001b[38;5;241m0\u001b[39m],\u001b[38;5;241m1\u001b[39m))\n\u001b[1;32m---> 58\u001b[0m JS_matrix \u001b[38;5;241m=\u001b[39m \u001b[38;5;28mpow\u001b[39m(jensenshannon(UC_count_matrix_repeated, code_count_matrix_repeated, axis\u001b[38;5;241m=\u001b[39m\u001b[38;5;241m1\u001b[39m), \u001b[38;5;241m2\u001b[39m)\n\u001b[0;32m     59\u001b[0m JS_matrix \u001b[38;5;241m=\u001b[39m JS_matrix\u001b[38;5;241m.\u001b[39mreshape(UC_count_matrix\u001b[38;5;241m.\u001b[39mshape[\u001b[38;5;241m0\u001b[39m], code_count_matrix\u001b[38;5;241m.\u001b[39mshape[\u001b[38;5;241m0\u001b[39m])\n\u001b[0;32m     61\u001b[0m \u001b[38;5;66;03m#------------------------------loop approach---------------------------#\u001b[39;00m\n\u001b[0;32m     62\u001b[0m \u001b[38;5;66;03m# loop-approach\u001b[39;00m\n\u001b[0;32m     63\u001b[0m \u001b[38;5;66;03m# JS_matrix = np.zeros((UC_count_matrix.shape[0], code_count_matrix.shape[0]))\u001b[39;00m\n\u001b[1;32m   (...)\u001b[0m\n\u001b[0;32m     66\u001b[0m \u001b[38;5;66;03m#         JS_matrix[i][j] = pow(jensenshannon(UC_count_vector, code_count_vector), 2)\u001b[39;00m\n\u001b[0;32m     67\u001b[0m \u001b[38;5;66;03m#print(JS_matrix.shape) => (58,116)\u001b[39;00m\n",
      "File \u001b[1;32mc:\\Users\\sohad\\anaconda3\\Lib\\site-packages\\scipy\\spatial\\distance.py:1251\u001b[0m, in \u001b[0;36mjensenshannon\u001b[1;34m(p, q, base, axis, keepdims)\u001b[0m\n\u001b[0;32m   1249\u001b[0m p \u001b[38;5;241m=\u001b[39m p \u001b[38;5;241m/\u001b[39m np\u001b[38;5;241m.\u001b[39msum(p, axis\u001b[38;5;241m=\u001b[39maxis, keepdims\u001b[38;5;241m=\u001b[39m\u001b[38;5;28;01mTrue\u001b[39;00m)\n\u001b[0;32m   1250\u001b[0m q \u001b[38;5;241m=\u001b[39m q \u001b[38;5;241m/\u001b[39m np\u001b[38;5;241m.\u001b[39msum(q, axis\u001b[38;5;241m=\u001b[39maxis, keepdims\u001b[38;5;241m=\u001b[39m\u001b[38;5;28;01mTrue\u001b[39;00m)\n\u001b[1;32m-> 1251\u001b[0m m \u001b[38;5;241m=\u001b[39m (p \u001b[38;5;241m+\u001b[39m q) \u001b[38;5;241m/\u001b[39m \u001b[38;5;241m2.0\u001b[39m\n\u001b[0;32m   1252\u001b[0m left \u001b[38;5;241m=\u001b[39m rel_entr(p, m)\n\u001b[0;32m   1253\u001b[0m right \u001b[38;5;241m=\u001b[39m rel_entr(q, m)\n",
      "\u001b[1;31mValueError\u001b[0m: operands could not be broadcast together with shapes (6728,1837) (58,116) "
     ]
    }
   ],
   "source": [
    "#running the query as a whole\n",
    "feature_extraction=FeatureExtraction(UCTokens)\n",
    "UC_count_matrix, code_count_matrix = feature_extraction.CountVectorizerModel(UC_documents, code_documents, 'train')\n",
    "\n",
    "### Run the original query q, and obtain the result list R \n",
    "total_score_whole_query_jensen_shannon = feature_extraction.JensenShannon(UC_count_matrix, code_count_matrix) \n",
    "\n",
    "### Run each individual query term qt in the original query as a separate query and obtain the result list Rt.\n",
    "\n",
    "for code in code_documents:\n",
    "    code_words = code.split()\n",
    "    for word in code_words:\n",
    "        print(word)\n",
    "        # word_count_matrix = np.zeros((code_count_matrix.shape[0], code_count_matrix.shape[1]))\n",
    "        word_index = feature_extraction.vocab_index[word]\n",
    "        # word_count_matrix[:, word_index] = code_count_matrix[:, word_index]\n",
    "        print(code_count_matrix[:, word_index])\n",
    "        total_score_query_term_jensen_shannon = feature_extraction.JensenShannon(UC_count_matrix, code_count_matrix[:, word_index])\n",
    "        print(total_score_query_term_jensen_shannon.shape)\n",
    "        break\n",
    "    break\n",
    "\n",
    "\n",
    "\n",
    "\n",
    "# print(total_score_whole_query_jensen_shannon[:,7])\n",
    "# print(total_score_whole_query_jensen_shannon[:,6])\n",
    "# print(code[7])\n",
    "# for i, temp in enumerate(code[7]):\n",
    "#     if temp != 0:\n",
    "#         print(i)\n",
    "# # 3 features to be called\n",
    "#1st case => if the query is the code\n",
    "# total_score_whole_query_jensen_shannon=feature_extraction.JensenShannon(UC_documents,,\"train\") #58*116"
   ]
  }
 ],
 "metadata": {
  "kernelspec": {
   "display_name": "base",
   "language": "python",
   "name": "python3"
  },
  "language_info": {
   "codemirror_mode": {
    "name": "ipython",
    "version": 3
   },
   "file_extension": ".py",
   "mimetype": "text/x-python",
   "name": "python",
   "nbconvert_exporter": "python",
   "pygments_lexer": "ipython3",
   "version": "3.11.5"
  }
 },
 "nbformat": 4,
 "nbformat_minor": 2
}
