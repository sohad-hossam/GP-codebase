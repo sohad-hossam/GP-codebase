{
 "cells": [
  {
   "cell_type": "code",
   "execution_count": 1,
   "metadata": {},
   "outputs": [],
   "source": [
    "from VSM import *\n",
    "from FeatureExtraction import *"
   ]
  },
  {
   "cell_type": "code",
   "execution_count": null,
   "metadata": {},
   "outputs": [],
   "source": [
    "# num_components = min(tfidf_matrix_uc.shape[0], tfidf_matrix_code.shape[1])\n",
    "# num_components = min(num_components, 100)\n",
    "# LSA_model = TruncatedSVD(n_components=num_components)\n",
    "\n",
    "# # if train_or_test == \"train\":\n",
    "# LSA_data_useCases = LSA_model.fit_transform(tfidf_matrix_uc)\n",
    "# LSA_data_codes = LSA_model.fit_transform(tfidf_matrix_code) \n",
    "# # else:\n",
    "# #     LSA_data_useCases = LSA_model.transform(tfidf_matrix_uc)\n",
    "# #     LSA_data_codes = LSA_model.transform(tfidf_matrix_code) \n",
    "\n",
    "# LSA_similraity_matrix = cosine_similarity(LSA_data_useCases, LSA_data_codes)\n",
    "# print(LSA_similraity_matrix)"
   ]
  },
  {
   "cell_type": "code",
   "execution_count": null,
   "metadata": {},
   "outputs": [],
   "source": [
    "# test = FeatureExtraction()\n",
    "# test.LSA(tfidf_matrix_uc, tfidf_matrix_code, \"train\")"
   ]
  },
  {
   "cell_type": "code",
   "execution_count": null,
   "metadata": {},
   "outputs": [],
   "source": [
    "#usecases (100*usecases_nu)\n",
    "#code (100*codes_nu)\n",
    "#LSA_similraity_matrix (usecases_nu*codes_nu)\n",
    "#d1,d2,d3,d4\n",
    "#u1,u2,u3,u4\n",
    "#u1*d1,u1*d2,u1*d3 ...\n",
    "#d1*u1,d1*u2,d1*u3 ...\n",
    "#each row coresspond between the use cases and each document\n",
    "# [[d1*c1 d1*c2],[d2*c1 d2*c2]]\n",
    "\n",
    "# LSA_data_codes=np.array([[1,2,3,4,5] , [6,7,8,9,10]])\n",
    "# LSA_data_useCases=np.array([[11,12,13,14,15] , [16,17,18,19,21],[2,5,9,11,42]])\n",
    "\n",
    "# LSA_data_codes_norm=np.repeat(np.linalg.norm(LSA_data_codes,axis=1),LSA_data_useCases.shape[0])\n",
    "# LSA_data_useCases_norm=np.repeat(np.linalg.norm(LSA_data_useCases,axis=1),LSA_data_codes.shape[0])\n",
    "\n",
    "# LSA_data_codes_norm=LSA_data_codes_norm.reshape(LSA_data_codes.shape[0],LSA_data_useCases.shape[0]).T \n",
    "# LSA_data_useCases_norm=LSA_data_useCases_norm.reshape(LSA_data_useCases.shape[0],LSA_data_codes.shape[0])\n",
    "\n",
    "# print(LSA_data_codes_norm)\n",
    "# print(LSA_data_useCases_norm)\n",
    "\n",
    "# LSA_similraity_matrix=cosine_similarity(LSA_data_useCases, LSA_data_codes)\n",
    "\n",
    "# print(LSA_similraity_matrix)"
   ]
  },
  {
   "cell_type": "markdown",
   "metadata": {},
   "source": [
    "## Jensen-Shannon"
   ]
  },
  {
   "cell_type": "code",
   "execution_count": 1,
   "metadata": {},
   "outputs": [
    {
     "ename": "NameError",
     "evalue": "name 'FeatureExtraction' is not defined",
     "output_type": "error",
     "traceback": [
      "\u001b[1;31m---------------------------------------------------------------------------\u001b[0m",
      "\u001b[1;31mNameError\u001b[0m                                 Traceback (most recent call last)",
      "Cell \u001b[1;32mIn[1], line 1\u001b[0m\n\u001b[1;32m----> 1\u001b[0m test \u001b[38;5;241m=\u001b[39m FeatureExtraction()\n\u001b[0;32m      2\u001b[0m test\u001b[38;5;241m.\u001b[39mJensenShannon(UCTokens, UC_documents, code_documents)\n",
      "\u001b[1;31mNameError\u001b[0m: name 'FeatureExtraction' is not defined"
     ]
    }
   ],
   "source": [
    "test = FeatureExtraction()\n",
    "test.JensenShannon(UCTokens, UC_documents, code_documents)"
   ]
  },
  {
   "cell_type": "code",
   "execution_count": 58,
   "metadata": {},
   "outputs": [
    {
     "name": "stdout",
     "output_type": "stream",
     "text": [
      "156\n",
      "(156, 1837)\n",
      "[0.64686767 0.63438122 0.63551707 0.63065649 0.63319495 0.63319495\n",
      " 0.65377451 0.63319495 0.65981016 0.64616919 0.65004579 0.65377451\n",
      " 0.66337322 0.64944878 0.63961727 0.65645566 0.63065649 0.64470045\n",
      " 0.65840516 0.63195468 0.63961727 0.69314718 0.65947061 0.64819872\n",
      " 0.63865322 0.69314718 0.64819872 0.63319495 0.64229774 0.69314718\n",
      " 0.69314718 0.6622807  0.6607856  0.63865322 0.65118795 0.65981016\n",
      " 0.64944878 0.65645566 0.65516661 0.63438122 0.64686767 0.65062525\n",
      " 0.6454472  0.62312842 0.63195468 0.63065649 0.63195468 0.63865322\n",
      " 0.66199379 0.64470045 0.69314718 0.69314718 0.64754382 0.63865322\n",
      " 0.63961727 0.64470045 0.66170101 0.63660574]\n",
      "[0.69314718 0.69314718 0.69314718 0.69314718 0.69314718 0.69314718\n",
      " 0.69314718 0.69314718 0.69314718 0.69314718 0.69314718 0.69314718\n",
      " 0.69314718 0.69314718 0.69314718 0.69314718 0.69314718 0.69314718\n",
      " 0.69314718 0.69314718 0.69314718 0.69314718 0.69314718 0.69314718\n",
      " 0.69314718 0.69314718 0.69314718 0.69314718 0.69314718 0.69314718\n",
      " 0.69314718 0.69314718 0.69314718 0.69314718 0.69314718 0.69314718\n",
      " 0.69314718 0.69314718 0.69314718 0.69314718 0.69314718 0.69314718\n",
      " 0.69314718 0.69314718 0.69314718 0.69314718 0.69314718 0.69314718\n",
      " 0.69314718 0.69314718 0.69314718 0.69314718 0.69314718 0.69314718\n",
      " 0.69314718 0.69314718 0.69314718 0.69314718]\n",
      "[0 0 0 ... 0 0 0]\n",
      "1472\n"
     ]
    }
   ],
   "source": [
    "#running the query as a whole\n",
    "feature_extraction=FeatureExtraction(UCTokens)\n",
    "print(len(code_documents[0].split()))\n",
    "print(code.shape)\n",
    "total_score_whole_query_jensen_shannon, Uc, code=feature_extraction.JensenShannon(UC_documents,code_documents[0].split(),\"train\") #58*116\n",
    "print(total_score_whole_query_jensen_shannon[:,7])\n",
    "print(total_score_whole_query_jensen_shannon[:,6])\n",
    "print(code[7])\n",
    "for i, temp in enumerate(code[7]):\n",
    "    if temp != 0:\n",
    "        print(i)\n",
    "# 3 features to be called\n",
    "#1st case => if the query is the code\n",
    "# total_score_whole_query_jensen_shannon=feature_extraction.JensenShannon(UC_documents,,\"train\") #58*116"
   ]
  },
  {
   "cell_type": "markdown",
   "metadata": {},
   "source": [
    "## Play ground yasmenya ama nshof eh el araf da"
   ]
  },
  {
   "cell_type": "code",
   "execution_count": 3,
   "metadata": {},
   "outputs": [
    {
     "name": "stdout",
     "output_type": "stream",
     "text": [
      "{'dbm', 'digit', 'length', 'co', 'typic', 'avanzata', 'prev', 'data', 'textbox', 'take', 'pref', 'insid', 'plain', 'vicno', 'napoli', 'peculiar', 'fabio', 'inform', 'factor', 'hour', 'dispos', 'ricerca', 'ci', 'due', 'xxx', 'ac', 'aid', 'superclass', 'chiusura', 'wawa', 'degre', 'nascondi', 'be', 'motion', 'partit', 'closur', 'act', 'one', 'txt', 'pe', 'autoscrol', 'nineteenth', 'advanc', 'itera', 'categori', 'benecultural', 'behavior', 'contract', 'azzera', 'everyth', 'nuova', 'doubl', 'ani', 'mese', 'link', 'ottenuro', 'logout', 'ptagi', 'tv', 'condit', 'figli', 'cpc', 'delet', 'paramtro', 'card', 'restor', 'lab', 'bell', 'nb', 'ago', 'concern', 'dirti', 'nd', 'servic', 'unico', 'sentri', 'deiconifica', 'astrubal', 'convert', 'sourc', 'longitudin', 'incorrect', 'call', 'cat', 'friday', 'otherwis', 'free', 'email', 'string', 'suppli', 'tabl', 'proce', 'dmi', 'gridi', 'user', 'iterator', 'apertura', 'modif', 'respons', 'waterfal', 'base', 'palladino', 'like', 'jdbc', 'last', 'guess', 'algorithm', 'cella', 'raphael', 'detect', 'disattiva', 'temporari', 'favorit', 'ag', 'preset', 'apolog', 'witch', 'situat', 'seek', 'redraw', 'instanti', 'insert', 're', 'excel', 'radian', 'bean', 'risultati', 'par', 'analyz', 'contact', 'aggiungi', 'saturday', 'hold', 'medi', 'madif', 'anniversari', 'subimag', 'unforgett', 'pu', 'width', 'disabl', 'chiav', 'repaint', 'bo', 'structur', 'ricerch', 'vote', 'si', 'ottabio', 'field', 'vgap', 'java', 'wa', 'air', 'operatorepuntodiristoro', 'meridian', 'min', 'nulliti', 'packag', 'etour', 'look', 'salva', 'tm', 'lunghezza', 'convenzion', 'effattuato', 'predefin', 'localit', 'person', 'bvisita', 'restiuisc', 'secur', 'purchas', 'resid', 'inclus', 'whole', 'fc', 'serv', 'factori', 'extract', 'justif', 'elm', 'toolbarscheda', 'agiung', 'tipologia', 'if', 'immagini', 'necessari', 'cinema', 'connect', 'ipadx', 'watch', 'fraquenza', 'copi', 'inspect', 'filter', 'michelangelo', 'campo', 'subject', 'unicast', 'elenco', 'want', 'trapano', 'inherit', 'head', 'via', 'gradi', 'bg', 'vc', 'function', 'pow', 'carri', 'ts', 'li', 'manufactur', 'javadoc', 'equal', 'implicitli', 'testo', 'sinc', 'local', 'charg', 'wrappa', 'dictionari', 'market', 'given', 'minimum', 'inter', 'doc', 'creat', 'tool', 'from', 'stringa', 'prioriti', 'parameter', 'prezzo', 'bind', 'largo', 'end', 'come', 'it', 'atan', 'pact', 'analysi', 'colonna', 'phone', 'raggio', 'dbbc', 'caus', 'richicama', 'occur', 'guidainlinea', 'minc', 'tag', 'font', 'lowercas', 'tel', 'oni', 'op', 'desk', 'mode', 'eight', 'process', 'open', 'among', 'expiri', 'output', 'todo', 'advetis', 'ka', 'numer', 'scheda', 'opearazioni', 'basic', 'earth', 'fair', 'weighti', 'restu', 'will', 'ee', 'manipul', 'cb', 'se', 'ottieni', 'pcap', 'between', 'pattra', 'dot', 'bbc', 'visibl', 'reimposta', 'commenti', 'hashtabl', 'vuoto', 'fg', 'lt', 'so', 'cap', 'trace', 'suck', 'modal', 'mani', 'tab', 'framework', 'conn', 'afil', 'liber', 'horizont', 'identif', 'tr', 'noth', 'tour', 'vv', 'relev', 'usernam', 'union', 'stub', 'ot', 'totali', 'organ', 'scan', 'mauro', 'grade', 'centuri', 'commit', 'pnew', 'unit', 'capac', 'drive', 'post', 'permess', 'messeng', 'decommiss', 'set', 'registrati', 'we', 'tn', 'ristoto', 'permessi', 'retriev', 'va', 'state', 'option', 'root', 'mc', 'day', 'system', 'color', 'persist', 'complet', 'pannello', 'error', 'heritag', 'ora', 'inserimento', 'argument', 'sconosciuto', 'still', 'outlet', 'rectangl', 'ripristina', 'categoria', 'princip', 'handheld', 'locat', 'interfacc', 'you', 'assert', 'real', 'scadenza', 'and', 'sure', 'cognom', 'dialogo', 'ret', 'analizzatp', 'done', 'gener', 'counter', 'direct', 'attract', 'rect', 'surnam', 'scrollabl', 'combo', 'stand', 'enter', 'monday', 'increas', 'riduci', 'enough', 'tick', 'ca', 'cell', 'feedback', '\\ufeffpackag', 'weightx', 'lo', 'best', 'pass', 'reset', 'crea', 'date', 'screen', 'messag', 'priorit', 'unabl', 'mnemon', 'contien', 'differenza', 'euro', 'serializ', 'rel', 'hyena', 'great', 'storico', 'shall', 'ar', 'trail', 'knowledg', 'pa', 'better', 'went', 'question', 'exit', 'page', 'top', 'ta', 'miao', 'dine', 'sa', 'preferenzediricerca', 'organizza', 'percorso', 'class', 'utenti', 'possibl', 'definit', 'convent', 'off', 'gaim', 'connessioni', 'listen', 'stronghold', 'vi', 'anoth', 'id', 'prefer', 'fratto', 'appropri', 'beni', 'layer', 'bcc', 'put', 'alloy', 'diistoro', 'moder', 'associ', 'caratteri', 'activateal', 'beniculturali', 'membership', 'start', 'keyword', 'voto', 'variou', 'per', 'abstract', 'oreca', 'leap', 'could', 'caution', 'loop', 'listavisitati', 'cultur', 'hand', 'disk', 'connession', 'understand', 'whether', 'radianti', 'multi', 'vr', 'mlmlml', 'glass', 'titl', 'pkey', 'button', 'part', 'junit', 'visita', 'explain', 'mountain', 'comprehens', 'compact', 'enum', 'prevent', 'rm', 'authent', 'mn', 'search', 'maximum', 'simpl', 'obtain', 'unsav', 'clickabl', 'bannercorrent', 'owner', 'castl', 'year', 'refresh', 'period', 'vector', 'verif', 'line', 'store', 'bs', 'examin', 'esoter', 'default', 'distanc', 'name', 'aggiornato', 'becaus', 'street', 'radio', 'uri', 'public', 'fuzzi', 'len', 'cs', 'menu', 'backspac', 'inizio', 'food', 'tot', 'deliveri', 'legal', 'my', 'modificata', 'auxiliari', 'log', 'login', 'uppercas', 'inserisci', 'operaotor', 'numeri', 'caratter', 'releas', 'catch', 'track', 'node', 'foreground', 'five', 'zip', 'exist', 'built', 'intevallo', 'visit', 'substr', 'constraint', 'need', 'remain', 'interrupt', 'controlla', 'pstr', 'da', 'preferenz', 'constant', 'show', 'alert', 'redund', 'vecchi', 'leon', 'db', 'orario', 'test', 'featur', 'array', 'move', 'launcher', 'session', 'scaduta', 'regard', 'red\\\\', 'count', 'enjoy', 'geo', 'guida', 'see', 'ao', 'vk', 'gray', 'segment', 'for', 'feed', 'bust', 'sampl', 'fail', 'nu', 'gridx', 'throw', 'pi', 'fe', 'annulla', 'categri', 'corrupt', 'implement', 'where', 'task', 'revenu', 'deploy', 'generica', 'success', 'addit', 'pr', 'greenwitch', 'view', 'utent', 'almeno', 'child', 'joseph', 'site', 'allow', 'pg', 'backup', 'alreadi', 'consist', 'ten', 'transact', 'star', 'rmi', 'odierna', 'miranda', 'someth', 'updat', 'prow', 'associazionepr', 'latitud', 'are', 'context', 'respect', 'bring', 'var', 'println', 'there', 'paint', 'quantiti', 'moment', 'research', 'imageio', 'activ', 'banner', 'sballata', 'at', 'row', 'manag', 'iconificato', 'second', 'citi', 'receipt', 'no', 'pick', 'char', 'directli', 'figur', 'shop', 'made', 'proceed', 'distinct', 'similar', 'desktop', 'with', 'oper', 'gif', 'asset', 'septemb', 'html', 'placement', 'termini', 'questo', 'turn', 'latitudin', 'mimosa', 'sphinx', 'phase', 'pro', 'attivi', 'edit', 'setvar', 'some', 'previou', 'destinazion', 'preflush', 'version', 'all', 'raw', 'ul', 'includ', 'hide', 'blablalblalba', 'select', 'lead', 'operator', 'intern', 'closabl', 'ha', 'net', 'price', 'object', 'perform', 'tabel', 'rewrit', 'bear', 'visitati', 'rest', 'flow', 'directori', 'label', 'current', 'stack', 'alway', 'assign', 'measur', 'lista', 'known', 'restaur', 'modifi', 'pixel', 'iconifi', 'tens', 'math', 'much', 'opaqu', 'inconveni', 'eras', 'iter', 'lyric', 'burden', 'live', 'tree', 'appear', 'gridheight', 'publish', 'out', 'grid', 'fr', 'none', 'indirizzo', 'turista', 'na', 'home', 'contenentei', 'scanner', 'background', 'ch', 'light', 'amalfi', 'param', 'spg', 'neg', 'uniqu', 'prova', 'agreement', 'guest', 'idea', 'build', 'byte', 'week', 'keep', 'bn', 'close', 'statist', 'onc', 'dizinario', 'wrap', 'operatorag', 'certain', 'monitor', 'av', 'exceed', 'describ', 'machin', 'sv', 'thread', 'control', 'item', 'upload', 'piatto', 'statt', 'pbc', 'gallo', 'deadlin', 'balbalblalbalbla', 'solitario', 'singl', 'invalid', 'coupl', 'sp', 'zza', 'reduc', 'nuov', 'turistico', 'pid', 'area', 'sea', 'total', 'punti', 'hash', 'arraylist', 'penna', 'xe', 'jve', 'correspond', 'veto', 'is', 'imagelcon', 'have', 'carica', 'excess', 'lu', 'chooser', 'po', 'vt', 'parent', 'indic', 'height', 'that', 'term', 'corrent', 'save', 'ith', 'elev', 'modificato', 'make', 'relat', 'og', 'mutabl', 'filepath', 'special', 'present', 'box', 'costanti', 'rn', 'clear', 'go', 'frame', 'today', 'operatoreagenzia', 'two', 'content', 'inatteso', 'may', 'format', 'novecento', 'more', 'img', 'stat', 'relationship', 'averag', 'on', 'gridwidth', 'numero', 'abcdefghijklmnopqrstuvxywz', 'command', 'surfac', 'comment', 'rang', 'luogo', 'construct', 'opr', 'mechan', 'flat', 'togeth', 'durat', 'sunday', 'appartenenza', 'profilo', 'postal', 'preferenza', 'generich', 'map', 'federico', 'entiti', 'sostituisci', 'vertic', 'least', 'etc', 'bread', 'expir', 'action', 'experiment', 'continu', 'fire', 'util', 'visualizza', 'remov', 'dynam', 'enumer', 'pgni', 'inact', 'whitespac', 'the', 'stato', 'must', 'skeda', 'return', 'dist', 'uno', 'statistich', 'morelli', 'specializzata', 'dob', 'masssimo', 'integ', 'exampl', 'selezionar', 'cursor', 'turisti', 'clone', 'theme', 'tourist', 'align', 'wednesday', 'sought', 'phnom', 'intend', 'main', 'frequenc', 'run', 'associazionebc', 'beauti', 'account', 'globali', 'king', 'interv', 'file', 'attach', 'nulli', 'daili', 'scroll', 'passo', 'statistici', 'provinc', 'fa', 'undefin', 'newlin', 'cater', 'choos', 'hundr', 'mostra', 'sport', 'fals', 'taken', 'dimens', 'thirti', 'visitato', 'model', 'pointer', 'messaggi', 'gourmet', 'obj', 'ok', 'which', 'comparison', 'bevel', 'costruttor', 'pretti', 'north', 'circumst', 'as', 'document', 'slider', 'past', 'destro', 'execut', 'hr', 'disattivati', 'author', 've', 'btn', 'red', 'block', 'pubb', 'globe', 'unknown', 'parti', 'provid', 'pc', 'lello', 'dell', 'report', 'whose', 'south', 'avanzataextend', 'url', 'cordin', 'do', 'train', 'deiconifi', 'prov', 'father', 'variabl', 'poa', 'th', 'gp', 'instead', 'str', 'constructor', 'onlin', 'nascita', 'schedaturista', 'elimina', 'help', 'dim', 'display', 'resut', 'onli', 'reader', 'de', 'png', 'landi', 'up', 'componenti', 'pd', 'render', 'also', 'get', 'super', 'brows', 'list', 'equat', 'through', 'regist', 'lost', 'repositori', 'larger', 'pool', 'calcul', 'balblalballab', 'rilascia', 'after', 'case', 'corretto', 'both', 'in', 'idb', 'templat', 'wrong', 'btag', 'brought', 'vs', 'plu', 'children', 'col', 'pleas', 'mous', 'te', 'meet', 'greek', 'well', 'trapan', 'commun', 'rc', 'forward', 'central', 'alik', 'patti', 'mf', 'nuovo', 'bi', 'receiv', 'plate', 'administr', 'ss', 'full', 'magnitud', 'info', 'norm', 'focu', 'registri', 'compor', 'music', 'lang', 'ask', 'imgfil', 'tp', 'descript', 'formal', 'matur', 'estesa', 'valis', 'port', 'max', 'fine', 'gen', 'left', 'fint', 'evil', 'path', 'combobox', 'empti', 'code', 'advertis', 'attiva', 'cn', 'submiss', 'realiz', 'found', 'vb', 'entri', 'other', 'cycl', 'pnom', 'del', 'incorpor', 'refer', 'send', 'offset', 'download', 'note', 'invok', 'inset', 'grave', 'esima', 'common', 'doctest', 'arechi', 'unnecessari', 'identifi', 'longitud', 'tabella', 'prefereferz', 'even', 'group', 'project', 'later', 'simon', 'cancella', 'jj', 'declar', 'telephon', 'della', 'rilevamza', 'nell', 'space', 'formato', 'iva', 'rilavanza', 'privat', 'import', 'closeal', 'choic', 'chang', 'access', 'client', 'paramet', 'radiu', 'pubblicazion', 'usrernam', 'actor', 'characterist', 'cultural', 'recov', 'separ', 'side', 'white', 'riversa', 'tuesday', 'checkdat', 'agenc', 'notic', 'coordin', 'registrazion', 'resiz', 'east', 'provincia', 'avail', 'type', 'replac', 'partita', 'temp', 'priorita', 'dbturista', 'massima', 'initi', 'back', 'ultimi', 'normal', 'prepar', 'here', 'collect', 'recuperto', 'column', 'tmp', 'sqrt', 'extend', 'ppr', 'money', 'find', 'histori', 'ore', 'en', 'loc', 'network', 'punto', 'particular', 'beer', 'parol', 'requir', 'viewport', 'export', 'uid', 'intercept', 'board', 'esist', 'popera', 'struttara', 'ms', 'password', 'dbtag', 'wi', 'eateri', 'sito', 'bene', 'trash', 'lc', 'anonym', 'place', 'support', 'me', 'text', 'defin', 'maximiz', 'gone', 'pay', 'iconificati', 'ex', 'warn', 'val', 'detail', 'component', 'fi', 'localhost', 'mimos', 'gbcc', 'durata', 'jpg', 'toggl', 'admiss', 'weekli', 'fall', 'altitud', 'spend', 'categria', 'correct', 'napl', 'tebella', 'elementi', 'bz', 'new', 'convenzioni', 'month', 'accord', 'involv', 'unisa', 'layout', 'progress', 'thrown', 'evd', 'divis', 'resetta', 'org', 'add', 'modifica', 'al', 'michil', 'valid', 'border', 'busi', 'iniziailizzar', 'print', 'buff', 'copia', 'ad', 'float', 'contain', 'an', 'ipadi', 'fout', 'illeg', 'floatabl', 'town', 'descrizion', 'ap', 'ie', 'telefono', 'syntax', 'eat', 'same', 'ro', 'arturo', 'goe', 'rg', 'assciato', 'approv', 'queue', 'twice', 'storag', 'exhibit', 'attivato', 'sin', 'work', 'reach', 'use', 'deriv', 'major', 'determin', 'right', 'offic', 'nome', 'lookup', 'think', 'preview', 'attempt', 'elimin', 'pane', 'rimuovi', 'anno', 'near', 'rais', 'contentent', 'token', 'server', 'attivazion', 'posit', 'boolean', 'univers', 'com', 'extern', 'tema', 'conv', 'serial', 'culturali', 'collaps', 'bc', 'previous', 'campi', 'relief', 'news', 'transfer', 'order', 'header', 'within', 'stream', 'mt', 'equival', 'avg', 'compon', 'valu', 'decl', 'correggi', 'posizion', 'di', 'ud', 'sort', 'leav', 'environment', 'address', 'enabl', 'longer', 'tourism', 'desc', 'target', 'turisa', 'msn', 'citta', 'err', 'bag', 'self', 'way', 'effect', 'imag', 'cancel', 'polit', 'biglietto', 'ottabiolino', 'good', 'passwordsolomia', 'queri', 'geograph', 'proper', 'clog', 'romant', 'tutti', 'venu', 'preferenzegenerich', 'aar', 'le', 'visitor', 'window', 'attivati', 'ba', 'thu', 'pars', 'click', 'alter', 'fold', 'souvenir', 'cr', 'begin', 'comun', 'handler', 'autenticazion', 'compilato', 'puntodiristoro', 'ric', 'not', 'word', 'soft', 'cours', 'emerg', 'giorno', 'attiv', 'auto', 'dialog', 'dati', 'parametri', 'speficiato', 'rd', 'statement', 'entireti', 'instanc', 'oa', 'statu', 'avviso', 'write', 'form', 'minim', 'charact', 'know', 'sensit', 'properti', 'ri', 'riga', 'load', 'orient', 'genzia', 'reload', 'usabl', 'host', 'preced', 'genenerica', 'dbvisita', 'inquiri', 'aggiung', 'daughter', 'concert', 'should', 'corretti', 'ge', 'richama', 'ottavio', 'millisecond', 'localita', 'rate', 'sum', 'press', 'stella', 'to', 'ra', 'issu', 'comfort', 'sql', 'io', 'calcola', 'first', 'thursday', 'suggerimenti', 'standard', 'bold', 'handl', 'visitapr', 'zu', 'kr', 'non', 'attribut', 'art', 'nice', 'gestion', 'siti', 'pagin', 'pair', 'im', 'transform', 'tagnam', 'immov', 'silberschatz', 'black', 'chose', 'request', 'seven', 'ristoro', 'particularli', 'suffici', 'depend', 'forc', 'pvi', 'yet', 'costo', 'num', 'center', 'icon', 'piazza', 'pprofilo', 'pagina', 'portion', 'match', 'mysql', 'residenza', 'null', 'key', 'immagin', 'topic', 'appartenenzapr', 'weight', 'tipo', 'section', 'tip', 'ottawa', 'amend', 'old', 'accept', 'mail', 'expand', 'interfac', 'micaca', 'distaza', 'marton', 'getval', 'citt', 'instruct', 'miss', 'or', 'br', 'controllo', 'documento', 'verifi', 'piatti', 'filechoos', 'altitudin', 'repres', 'greater', 'input', 'cyclic', 'giorni', 'then', 'parametro', 'hgap', 'fill', 'too', 'resourc', 'mario', 'adapt', 'ident', 'your', 'bottom', 'correctli', 'aq', 'tri', 'guid', 'polici', 'give', 'copyright', 'driver', 'oppr', 'tupl', 'ye', 'mappa', 'letter', 'spot', 'voti', 'destin', 'termin', 'without', 'identificati', 'highest', 'static', 'blank', 'caratteristich', 'bound', 'creation', 'awt', 'camp', 'cl', 'chanc', 'toolbar', 'gain', 'unexpect', 'specializzato', 'basket', 'movement', 'realli', 'anchor', 'bad', 'snack', 'numerico', 'confirm', 'lower', 'style', 'javax', 'trattoria', 'bar', 'trenta', 'vbc', 'frattamaggior', 'dizionario', 'event', 'region', 'birth', 'arg', 'pub', 'check', 'folder', 'centr', 'dialogu', 'zero', 'int', 'visual', 'presenc', 'scad', 'agenzia', 'actual', 'ritorno', 'join', 'swing', 'panel', 'increment', 'element', 'con', 'gr', 'three', 'technic', 'relas', 'split', 'dish', 'apri', 'remot', 'custom', 'convers', 'supercostruttor', 'index', 'intercel', 'ticket', 'belong', 'postcod', 'chiudi', 'time', 'forza', 'sbt', 'magic', 'databas', 'setlocal', 'plocalita', 'pizza', 'final', 'interest', 'into', 'multipl', 'except', 'thi', 'convezion', 'ensur', 'reg', 'commento', 'limit', 'ignor', 'minut', 'trigger', 'nometag', 'eliminr', 'care', 'catogori', 'preferito', 'uan', 'snap', 'drag', 'cone', 'specif', 'popup', 'mia', 'hostel', 'number', 'affili', 'ce', 'tabela', 'can', 'specifi', 'fruition', 'buffer', 'memori', 'bellismi', 'next', 'leaf', 'method', 'read', 'point', 'kb', 'cost', 'spaeciali', 'west', 'vaolr', 'salerno', 'frequenza', 'jex', 'gui', 'nel', 'suggest', 'posgeo', 'histor', 'media', 'true', 'dimension', 'distanza', 'scrollbar', 'bl', 'by', 'result', 'caller', 'of', 'profil', 'size', 'mo'}\n",
      "﻿packag java rmi remot except java rmi server unicast remot object java sql sql except unisa gp etour bean bean tourist unisa gp etour repositori db tourist unisa gp etour util data check unisa gp etour util error messag authent unicast remot object authent serial version uid authent remot except super object manipul tourist data db tourist tourist db db tourist bean tourist tourist login string usernam string password user type remot except check string usernam password data check check string usernam true true data check check string password true true user type if type tourist authent visitor invok method obtain tourist bean given usernam tourist tourist db get tourist usernam check bean password match tourist tourist get password equal password tourist get id if type tourist authent restaur not implement restaur refresh if match known type sql except remot except error messag dbm error except remot except error messag unknown error if data incorrect return \n"
     ]
    }
   ],
   "source": [
    "from imports import *\n",
    "from PreProcessor import *\n",
    "import os\n",
    "import numpy as np\n",
    "\n",
    "CodeTokens = set()\n",
    "UCTokens = set()\n",
    "UC_documents = list()\n",
    "code_documents = list()\n",
    "TotalTokens=set()\n",
    "entropy_uc = []\n",
    "entropy_code = []\n",
    "variance_uc = {}\n",
    "variance_code = {}\n",
    "SCQ_uc={}\n",
    "SCQ_code={}\n",
    "term_co_occurrences_uc = {}\n",
    "PMI_uc = {}\n",
    "term_co_occurrences_code= {}\n",
    "PMI_code = {}\n",
    "\n",
    "for filename in os.listdir(\"./UC\"):\n",
    "    filepath = os.path.join(\"./UC\", filename)\n",
    "    tokens = UCPreProcessor(filepath)\n",
    "    UC_documents.append(tokens)\n",
    "    UCTokens.update(tokens.split())\n",
    "\n",
    "\n",
    "for filename in os.listdir(\"./CC\"):\n",
    "    filepath = os.path.join(\"./CC\", filename)\n",
    "    tokens = CodePreProcessor(filepath)\n",
    "    code_documents.append(tokens)\n",
    "    CodeTokens.update(tokens.split())\n",
    "\n"
   ]
  },
  {
   "cell_type": "code",
   "execution_count": 9,
   "metadata": {},
   "outputs": [
    {
     "name": "stdout",
     "output_type": "stream",
     "text": [
      "{\"'alreadi\": 5.07753744390572, \"'began\": 5.07753744390572, \"'remov\": 5.07753744390572, \"'s\": 5.07753744390572, \"'wa\": 5.07753744390572, '..': 5.07753744390572, 'accept': 4.384390263345774, 'access': 2.438480114290461, 'accord': 3.691243082785829, 'account': 2.8803128665695, 'activ': 1.581029882439239, 'active/deactiv': 5.07753744390572, 'activeagr': 4.384390263345774, 'ad': 3.468099531471619, 'advanc': 3.9789251552376097, 'agenc': 1.7102416139192453, 'agreement': 3.9789251552376097, 'agreementrequest': 4.384390263345774, 'allow': 3.468099531471619, 'alreadi': 3.1316272948504063, 'alter': 4.384390263345774, 'amend': 4.384390263345774, 'appropri': 3.9789251552376097, 'area': 3.691243082785829, 'ask': 1.676340062243564, 'associ': 2.679642171107349, 'authent': 2.304948721665938, 'avoid': 3.691243082785829, 'back': 4.384390263345774, 'banner': 2.9980959022258835, 'bar': 4.384390263345774, 'block': 3.691243082785829, 'bookmark': 3.2857779746776643, 'button': 3.9789251552376097, 'calcul': 4.384390263345774, 'call': 3.9789251552376097, 'cancel': 1.8194409058842373, 'card': 2.9980959022258835, 'certain': 3.691243082785829, 'chang': 2.304948721665938, 'changeagencyrestorationpointdata': 4.384390263345774, 'changepassword': 4.384390263345774, 'changerefreshmentpointdata': 4.384390263345774, 'characterist': 3.468099531471619, 'check': 2.679642171107349, 'checkbannernumb': 4.384390263345774, 'cheid': 4.384390263345774, 'choic': 3.9789251552376097, 'choos': 3.691243082785829, 'chosen': 4.384390263345774, 'cite': 4.384390263345774, 'combin': 4.384390263345774, 'comment': 3.691243082785829, 'commentari': 4.384390263345774, 'comput': 3.691243082785829, 'concern': 4.384390263345774, 'conclud': 4.384390263345774, 'condit': 3.691243082785829, 'confirm': 1.413975797776073, 'connect': 1.1072455303535975, 'contain': 4.384390263345774, 'control': 2.8803128665695, 'convent': 3.468099531471619, 'correct': 3.9789251552376097, 'correspond': 3.2857779746776643, 'creat': 4.384390263345774, 'creation': 4.384390263345774, 'criteria': 3.468099531471619, 'cultur': 3.1316272948504063, 'culturalelimin': 4.384390263345774, 'culturalheritag': 4.384390263345774, 'culturalheritageresearch': 3.468099531471619, 'current': 3.691243082785829, 'daili': 3.9789251552376097, 'data': 1.7102416139192453, 'databas': 4.384390263345774, 'day': 3.9789251552376097, 'deactiv': 4.384390263345774, 'decid': 4.384390263345774, 'delet': 2.9980959022258835, 'deletebann': 4.384390263345774, 'deletenew': 4.384390263345774, 'deleterefreshmentpoint': 4.384390263345774, 'deletetag': 4.384390263345774, 'deletetouristaccount': 4.384390263345774, 'deriv': 4.384390263345774, 'design': 3.691243082785829, 'detail': 3.2857779746776643, 'detect': 4.384390263345774, 'disabl': 4.384390263345774, 'disconnect': 4.384390263345774, 'display': 1.466619531261495, 'dispos': 4.384390263345774, 'duplic': 4.384390263345774, 'eat': 3.691243082785829, 'edit': 2.5125880864441825, 'editbann': 3.9789251552376097, 'editcom': 4.384390263345774, 'editnew': 4.384390263345774, 'edittouristaccountdata': 4.384390263345774, 'elimin': 2.8803128665695, 'eliminasitodaiprefer': 4.384390263345774, 'enabl': 2.592630794117719, 'end': 3.2857779746776643, 'ensur': 4.384390263345774, 'enter': 1.9420432279765696, 'error': 1.9864949905474036, 'errorchangepassword': 4.384390263345774, 'etour': 1.2063364329978286, 'event': 3.2857779746776643, 'exceed': 3.9789251552376097, 'exist': 4.384390263345774, 'existingtagerror': 3.9789251552376097, 'fall': 4.384390263345774, 'favorit': 3.691243082785829, 'featur': 2.1871656860095547, 'feedback': 2.9980959022258835, 'feedbackgi': 4.384390263345774, \"feedbackgia'rilasciato\": 5.07753744390572, 'field': 3.468099531471619, 'fill': 2.5125880864441825, 'follow': 4.384390263345774, 'form': 1.466619531261495, 'found': 4.384390263345774, 'function': 1.4940185054496093, 'gener': 4.384390263345774, 'get': 3.9789251552376097, 'given': 4.384390263345774, 'good': 3.468099531471619, 'gp': 4.384390263345774, 'guest': 3.9789251552376097, 'he': 4.384390263345774, 'heritag': 3.9789251552376097, 'histor': 4.384390263345774, 'histori': 4.384390263345774, 'hold': 4.384390263345774, 'if': 4.384390263345774, 'imag': 3.468099531471619, 'in': 3.1316272948504063, 'includ': 4.384390263345774, 'inclus': 3.691243082785829, 'incorrect': 4.384390263345774, 'inform': 2.9980959022258835, 'initi': 1.1262937253242922, 'input': 3.2857779746776643, 'inseriscifeedback': 4.384390263345774, 'inseriscisitoneiprefer': 4.384390263345774, 'insert': 2.592630794117719, 'insertbann': 3.9789251552376097, 'insertculturalgood': 4.384390263345774, 'inserttag': 4.384390263345774, 'instead': 4.384390263345774, 'insuffici': 2.304948721665938, 'interact': 3.2857779746776643, 'interrupt': 1.1072455303535975, 'invalid': 2.304948721665938, 'involv': 4.384390263345774, 'issu': 3.2857779746776643, 'it': 4.384390263345774, 'latter': 4.384390263345774, 'less': 4.384390263345774, 'limit': 4.384390263345774, 'list': 1.581029882439239, 'load': 2.8803128665695, 'local': 4.384390263345774, 'locat': 3.468099531471619, 'log': 1.8194409058842373, 'login': 3.691243082785829, 'logout': 4.384390263345774, 'made': 4.384390263345774, 'maximum': 3.468099531471619, 'meet': 3.468099531471619, 'memor': 3.9789251552376097, 'menu': 3.9789251552376097, 'messag': 3.468099531471619, 'midsiz': 4.384390263345774, 'modif': 3.1316272948504063, 'modifi': 2.9980959022258835, 'modificacommento': 4.384390263345774, 'modificadatiturista': 4.384390263345774, 'modificapreferenzediricerca': 4.384390263345774, 'modificapreferenzegenerich': 4.384390263345774, 'modifyculturalgood': 4.384390263345774, 'multipl': 3.691243082785829, 'new': 2.592630794117719, 'news': 3.691243082785829, 'notic': 3.9789251552376097, 'notif': 2.2443240998495035, 'notifi': 1.9420432279765696, 'number': 3.691243082785829, 'object': 3.468099531471619, 'obtain': 3.468099531471619, 'of': 2.8803128665695, 'offer': 4.384390263345774, 'one': 3.1316272948504063, 'oper': 1.5221893824163057, 'outcom': 4.384390263345774, 'paramet': 3.691243082785829, 'particip': 1.339867825622351, 'particular': 3.1316272948504063, 'password': 3.9789251552376097, 'perform': 4.384390263345774, 'person': 3.1316272948504063, 'pertain': 4.384390263345774, 'pictur': 3.9789251552376097, 'place': 4.384390263345774, 'placement': 4.384390263345774, 'point': 2.133098464739279, 'posit': 3.691243082785829, 'postnew': 4.384390263345774, 'potenti': 4.384390263345774, 'prefer': 3.9789251552376097, 'prepar': 4.384390263345774, 'present': 4.384390263345774, 'press': 3.9789251552376097, 'previou': 3.468099531471619, 'previous': 3.9789251552376097, 'privileg': 4.384390263345774, 'process': 2.9980959022258835, 'prompt': 3.9789251552376097, 'proper': 3.9789251552376097, 'put': 4.384390263345774, 'read': 3.2857779746776643, 'receipt': 4.384390263345774, 'receiv': 3.1316272948504063, 'record': 4.384390263345774, 'recov': 3.468099531471619, 'refresh': 2.9980959022258835, 'refreshmentpointsearch': 4.384390263345774, 'regard': 4.384390263345774, 'regist': 3.9789251552376097, 'registr': 4.384390263345774, 'relat': 4.384390263345774, 'reli': 4.384390263345774, 'rememb': 3.468099531471619, 'remov': 3.468099531471619, 'removebann': 4.384390263345774, 'report': 3.691243082785829, 'request': 2.438480114290461, 'requir': 1.0, 'research': 2.9980959022258835, 'researchforculturalgood': 4.384390263345774, 'researchrefreshmentpoint': 4.384390263345774, 'rest': 2.369487242803509, 'restaur': 2.592630794117719, 'result': 2.5125880864441825, 'return': 2.774952350911674, 'ricercaavanzata': 4.384390263345774, 'ricercasito': 4.384390263345774, 'rilasciato': 3.9789251552376097, 'save': 3.9789251552376097, 'screen': 4.384390263345774, 'search': 2.592630794117719, 'searchrefreshmentpoint': 4.384390263345774, 'searchrestorepoint': 3.691243082785829, 'searchtourist': 3.9789251552376097, 'second': 3.691243082785829, 'seethefeedback': 4.384390263345774, 'select': 1.4940185054496093, 'send': 3.1316272948504063, 'server': 1.1072455303535975, 'session': 4.384390263345774, 'set': 3.9789251552376097, 'seven': 3.9789251552376097, 'shall': 1.9864949905474036, 'sheet': 4.384390263345774, 'show': 3.1316272948504063, 'site': 2.438480114290461, 'siteresearch': 3.9789251552376097, 'sitesearch': 4.384390263345774, 'specif': 3.9789251552376097, 'specifi': 4.384390263345774, 'state': 3.468099531471619, 'statist': 3.9789251552376097, 'store': 2.8803128665695, 'submiss': 3.691243082785829, 'submit': 1.7817005779013904, 'success': 1.7817005779013904, 'suppli': 4.384390263345774, 'system': 1.0344861760711694, 'tag': 3.691243082785829, 'the': 1.0, 'time': 3.9789251552376097, 'tourism': 3.691243082785829, 'tourist': 2.1871656860095547, 'touristresearch': 4.384390263345774, 'transact': 2.304948721665938, 'turista': 3.691243082785829, 'turn': 3.691243082785829, 'upload': 2.304948721665938, 'use': 1.611801541105993, 'user': 2.9980959022258835, 'valid': 3.2857779746776643, 'verifi': 2.369487242803509, 'view': 1.8586616190375187, 'viewagreementhistori': 4.384390263345774, 'viewculturalheritagesheet': 4.384390263345774, 'viewpersonalstatist': 4.384390263345774, 'viewstatisticalreport': 4.384390263345774, 'viewtouristcard': 4.384390263345774, 'visit': 3.691243082785829, 'visitor': 3.9789251552376097, 'visualizzaschedapuntodiristoro': 4.384390263345774, 'visualizzaschedasito': 4.384390263345774, 'visualizzasitiprefer': 4.384390263345774, 'visualizzasitivisitati': 4.384390263345774, 'vote': 4.384390263345774, 'want': 4.384390263345774, 'way': 4.384390263345774, 'week': 3.9789251552376097, 'where': 2.369487242803509, 'within': 3.9789251552376097, 'work': 3.9789251552376097, 'wronglogin': 3.9789251552376097}\n"
     ]
    }
   ],
   "source": [
    "\n",
    "\n",
    "\n",
    "vectorizer_uc = TfidfVectorizer(vocabulary=UCTokens)\n",
    "tf_matrix_uc=vectorizer_uc.fit_transform(UC_documents)\n",
    "idf_uc = vectorizer_uc.idf_\n",
    "\n",
    "\n",
    "\n",
    "# Get the vocabulary from the TfidfVectorizer object\n",
    "vocabulary_uc = vectorizer_uc.get_feature_names_out()\n",
    "\n",
    "# Pair terms with their corresponding document frequencies\n",
    "term_document_frequencies = dict(zip(vocabulary_uc,idf_uc))\n",
    "\n",
    "print(term_document_frequencies)\n"
   ]
  }
 ],
 "metadata": {
  "kernelspec": {
   "display_name": "base",
   "language": "python",
   "name": "python3"
  },
  "language_info": {
   "codemirror_mode": {
    "name": "ipython",
    "version": 3
   },
   "file_extension": ".py",
   "mimetype": "text/x-python",
   "name": "python",
   "nbconvert_exporter": "python",
   "pygments_lexer": "ipython3",
   "version": "3.11.5"
  }
 },
 "nbformat": 4,
 "nbformat_minor": 2
}
