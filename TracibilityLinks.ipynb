{
 "cells": [
  {
   "cell_type": "code",
   "execution_count": 39,
   "metadata": {},
   "outputs": [],
   "source": [
    "from treelib import Node, Tree\n",
    "from tree_sitter import Language, Parser\n",
    "import math\n",
    "import re\n",
    "import math\n",
    "\n",
    "\n",
    "from nltk.tokenize import word_tokenize"
   ]
  },
  {
   "cell_type": "code",
   "execution_count": 43,
   "metadata": {},
   "outputs": [
    {
     "name": "stdout",
     "output_type": "stream",
     "text": [
      "['', 'p', 'a', 'c', 'k', 'a', 'g', 'e', '', 'r', 'a', 'i', 'l', 'o', '', 'r', 'u', 'n', 't', 'i', 'm', 'e', '', 's', 'q', 'l', '', 'e', 'x', 'p', '', 'o', 'p', '', 'i', 'm', 'p', 'o', 'r', 't', '', 'r', 'a', 'i', 'l', 'o', '', 'r', 'u', 'n', 't', 'i', 'm', 'e', '', 's', 'q', 'l', '', 'e', 'x', 'p', '', 'E', 'x', 'p', 'r', 'e', 's', 's', 'i', 'o', 'n', '', 'i', 'm', 'p', 'o', 'r', 't', '', 'r', 'a', 'i', 'l', 'o', '', 'r', 'u', 'n', 't', 'i', 'm', 'e', '', 's', 'q', 'l', '', 'e', 'x', 'p', '', 'E', 'x', 'p', 'r', 'e', 's', 's', 'i', 'o', 'n', 'S', 'u', 'p', 'p', 'o', 'r', 't', '', 'p', 'u', 'b', 'l', 'i', 'c', '', 'c', 'l', 'a', 's', 's', '', 'O', 'p', 'e', 'r', 'a', 't', 'i', 'o', 'n', '1', '', 'e', 'x', 't', 'e', 'n', 'd', 's', '', 'E', 'x', 'p', 'r', 'e', 's', 's', 'i', 'o', 'n', 'S', 'u', 'p', 'p', 'o', 'r', 't', '', 'i', 'm', 'p', 'l', 'e', 'm', 'e', 'n', 't', 's', '', 'O', 'p', 'e', 'r', 'a', 't', 'i', 'o', 'n', '', '', '', 'p', 'r', 'i', 'v', 'a', 't', 'e', '', 'E', 'x', 'p', 'r', 'e', 's', 's', 'i', 'o', 'n', '', 'e', 'x', 'p', '', 'p', 'r', 'i', 'v', 'a', 't', 'e', '', 'i', 'n', 't', '', 'o', 'p', 'e', 'r', 'a', 't', 'o', 'r', '', '', '', '', '', '@', 'r', 'e', 't', 'u', 'r', 'n', '', 't', 'h', 'e', '', 'e', 'x', 'p', '', '', 'p', 'u', 'b', 'l', 'i', 'c', '', 'E', 'x', 'p', 'r', 'e', 's', 's', 'i', 'o', 'n', '', 'g', 'e', 't', 'E', 'x', 'p', '', '', '', '', '', '', 'r', 'e', 't', 'u', 'r', 'n', '', 'e', 'x', 'p', '', '', '', '', '', '', '', '@', 'r', 'e', 't', 'u', 'r', 'n', '', 't', 'h', 'e', '', 'o', 'p', 'e', 'r', 'a', 't', 'o', 'r', '', '', 'p', 'u', 'b', 'l', 'i', 'c', '', 'i', 'n', 't', '', 'g', 'e', 't', 'O', 'p', 'e', 'r', 'a', 't', 'o', 'r', '', '', '', '', '', '', 'r', 'e', 't', 'u', 'r', 'n', '', 'o', 'p', 'e', 'r', 'a', 't', 'o', 'r', '', '', '', 'p', 'u', 'b', 'l', 'i', 'c', '', 'O', 'p', 'e', 'r', 'a', 't', 'i', 'o', 'n', '1', '', '', 'E', 'x', 'p', 'r', 'e', 's', 's', 'i', 'o', 'n', '', 'e', 'x', 'p', '', 'e', 'x', 'p', '', 'i', 'n', 't', '', 'o', 'p', 'e', 'r', 'a', 't', 'o', 'r', '', '', '', '', 't', 'h', 'i', 's', '', 'e', 'x', 'p', '', 'e', 'x', 'p', '', 'e', 'x', 'p', '', 't', 'h', 'i', 's', '', 'o', 'p', 'e', 'r', 'a', 't', 'o', 'r', '', 'o', 'p', 'e', 'r', 'a', 't', 'o', 'r', '', '', '', 'p', 'u', 'b', 'l', 'i', 'c', '', 'S', 't', 'r', 'i', 'n', 'g', '', 't', 'o', 'S', 't', 'r', 'i', 'n', 'g', '', '', 'b', 'o', 'o', 'l', 'e', 'a', 'n', '', 'n', 'o', 'A', 'l', 'i', 'a', 's', '', '', '', '', 't', 'h', 'e', '', 'i', 'f', '', '', '', '', '', 'h', 'a', 's', 'A', 'l', 'i', 'a', 's', '', '', '', '', '', '', '', '', 'n', 'o', 'A', 'l', 'i', 'a', 's', '', '', '', '', 'i', 'f', '', '', '', 'o', 'p', 'e', 'r', 'a', 't', 'o', 'r', '', '', 'O', 'P', 'E', 'R', 'A', 'T', 'I', 'O', 'N', '1', '', 'I', 'S', '', 'N', 'U', 'L', 'L', '', '', '', '', '', 'o', 'p', 'e', 'r', 'a', 't', 'o', 'r', '', '', 'O', 'P', 'E', 'R', 'A', 'T', 'I', 'O', 'N', '1', '', 'I', 'S', '', 'N', 'O', 'T', '', 'N', 'U', 'L', 'L', '', '', '', '', 'r', 'e', 't', 'u', 'r', 'n', '', 'e', 'x', 'p', '', 't', 'o', 'S', 't', 'r', 'i', 'n', 'g', '', '', 't', 'r', 'u', 'e', '', '', '', '', '', '', '', '', 'O', 'p', 'e', 'r', 'a', 't', 'i', 'o', 'n', '2', '', 't', 'o', 'S', 't', 'r', 'i', 'n', 'g', '', '', 'o', 'p', 'e', 'r', 'a', 't', 'o', 'r', '', '', '', '', '', 'r', 'e', 't', 'u', 'r', 'n', '', 'O', 'p', 'e', 'r', 'a', 't', 'i', 'o', 'n', '2', '', 't', 'o', 'S', 't', 'r', 'i', 'n', 'g', '', '', 'o', 'p', 'e', 'r', 'a', 't', 'o', 'r', '', '', '', '', '', '', '', '', 'e', 'x', 'p', '', 't', 'o', 'S', 't', 'r', 'i', 'n', 'g', '', '', 't', 'r', 'u', 'e', '', '', '', '', '', 'r', 'e', 't', 'u', 'r', 'n', '', 't', 'o', 'S', 't', 'r', 'i', 'n', 'g', '', '', 't', 'r', 'u', 'e', '', '', '', '', '', 'a', 's', '', '', '', '', 'g', 'e', 't', 'A', 'l', 'i', 'a', 's', '', '', '', '', '', '', '', '', '', '']\n"
     ]
    }
   ],
   "source": [
    "#read the java code\n",
    "\n",
    "\n",
    "dataset_txt = open(\"dataset/railo.sqlite3/railo-master/railo-java/railo-core/src/railo/runtime/sql/exp/op/Operation1.java\", \"r\", encoding='utf-8').read()\n",
    "\n",
    "\n",
    "\n",
    "\n",
    "\n",
    "\n",
    "# 2) All the interpunction was removed. \n",
    "\n",
    "chars_to_remove = r'''(?x)(?<!^)(?=[A-Z])|_|\\s*;\\s*|\\s*,\\s*|\\s*\\.\\s*|  #Standalone Punctuation Marks\n",
    "\\s*\\+\\s*|\\s*-\\s*|\\s*\\/\\s*|\\s*\\*\\s*|  #arethmatic operations\n",
    "\\s*=\\s*|\\s*==\\s*|\\s*!=\\s*|\\s*>\\s*|\\s*>=\\s*|\\s*<\\s*|\\s*<=\\s*|\\s*&&\\s*|\\s*||\\s*|\\s*!\\s*|\\s*\\\"\\s*|\\s*\\'\\s*|    #assignment \n",
    "\\s*\\(\\s*|\\s*\\)\\s*|\\s*{\\s*|\\s*}\\s*|\\s*[\\s*|\\s*]\\s*'''   #brackets\n",
    "SourceCodeCleaned =re.split(chars_to_remove,dataset_txt)\n",
    "\n",
    "print(SourceCodeCleaned)\n",
    "\n",
    "\n",
    "\n",
    "#1) All words were lowercased. \n",
    "SourceCodeLower=[x.lower() for x in SourceCodeCleaned]\n",
    "\n",
    "\n",
    "#print(SourceCodeLower)\n",
    "\n",
    "# 3) All numeric characters were removed. \n",
    "numeric_chars_to_remove = r\"[0-9]\" \n",
    "SourceCodeCleanedOfNumbers = [re.sub(numeric_chars_to_remove, \"\", x) for x in SourceCodeLower]\n",
    "#print(SourceCodeCleanedOfNumbers)\n",
    "\n",
    "#4) All sentences were tokenized with NLTK. \n",
    "\n",
    "NTLKTokenized=[ word_tokenize(x) for x in SourceCodeCleanedOfNumbers]\n",
    "\n",
    "#print(NTLKTokenized)\n",
    "\n",
    "#5) The stop words corpus from NLTK was used to eliminate all stop words. \n",
    "#6) All remaining terms were stemmed using the Porter Stemming Algorithm [72]"
   ]
  }
 ],
 "metadata": {
  "language_info": {
   "name": "python"
  }
 },
 "nbformat": 4,
 "nbformat_minor": 2
}
